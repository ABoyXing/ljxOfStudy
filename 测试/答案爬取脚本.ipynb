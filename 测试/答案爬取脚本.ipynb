{
 "cells": [
  {
   "metadata": {},
   "cell_type": "markdown",
   "source": "",
   "id": "c4e3fecfedea179e"
  },
  {
   "metadata": {
    "ExecuteTime": {
     "end_time": "2024-11-04T02:19:07.592938Z",
     "start_time": "2024-11-04T02:19:07.583256Z"
    }
   },
   "cell_type": "code",
   "source": [
    "# import requests\n",
    "# \n",
    "# # 请求URL\n",
    "# url = 'https://study.cp.hxdi.cn/ApiWeb/Exam/Exam_GetReault'\n",
    "# \n",
    "# # 请求参数\n",
    "# params = {\n",
    "#     'ExamID': 1079,\n",
    "#     'UEID': 150495\n",
    "# }\n",
    "# \n",
    "# # Cookie信息\n",
    "# cookies = {\n",
    "#     'ajs_user_id': '53ca59a6c8912db33090349377340e6e253bc0c6',\n",
    "#     'ajs_anonymous_id': '33dd51f3-9079-4419-8186-b3e51f873a0f',\n",
    "#     'huaxinkc': 'E84056E02E69BF20D0D97D460D40C2A1FED7520081A0615D83C0AE93A4A89ADC427AAA221D5AE3CEB3C5BF45989E6A44DD722748CDEAD04BB7DAFAE0CFDB8A834A0CEBEEC5A99F6A43516AB8E3742F07C678F218E752D2EDC631C58D7E44391E67507E44782F39AE0A28EF2F63679FC3E87F0F03D0647C614D727E47AD6E393C022E1320A3756B3CD9B1BC6A239358556C1815DB84044E39428ADA3FFDCD6570EC67FFD03973C878D0BC544F2BA187EA65172BF3C6E5891F2368AB68424003F4A5809D510B1239B1D0DBBE0C647C2CFECD3F93A8E51976D8C87D4FF85BAB53BA0E71D000872905CEBF315F5AD031D5D633B697EB02609A40B21BAEB028B4C3381BED8995C4341CB65BDFC5B1346C324B6841706AAA2E44F01F9DE692CF6B0A4FA05EE4A88421DF48AC0F2C8E9BF76BEE',\n",
    "#     'LoginTokenCookie': '0be2121a862e4872aa913a10764e275d'\n",
    "# }\n",
    "# \n",
    "# # 发起GET请求\n",
    "# response = requests.get(url, params=params, cookies=cookies)\n",
    "# \n",
    "# # 检查状态码\n",
    "# if response.status_code == 200:\n",
    "#     # 请求成功，解析JSON内容\n",
    "#     json_data = response.json()\n",
    "#     print(json_data)\n",
    "# else:\n",
    "#     # 请求失败，打印状态码和错误信息\n",
    "#     print(f\"请求失败，状态码：{response.status_code}\")"
   ],
   "id": "9259bd98cc2ec74",
   "outputs": [
    {
     "ename": "SyntaxError",
     "evalue": "invalid syntax (3382500190.py, line 22)",
     "output_type": "error",
     "traceback": [
      "\u001B[1;36m  Cell \u001B[1;32mIn[15], line 22\u001B[1;36m\u001B[0m\n\u001B[1;33m    json_data =\u001B[0m\n\u001B[1;37m                ^\u001B[0m\n\u001B[1;31mSyntaxError\u001B[0m\u001B[1;31m:\u001B[0m invalid syntax\n"
     ]
    }
   ],
   "execution_count": 15
  },
  {
   "metadata": {
    "ExecuteTime": {
     "end_time": "2024-11-04T05:59:53.633282Z",
     "start_time": "2024-11-04T05:59:53.624473Z"
    }
   },
   "cell_type": "code",
   "source": [
    "import json\n",
    "\n",
    "# 假设你的txt文件名为data.txt，并且其中包含JSON格式的文本\n",
    "# filename = r'C:\\Users\\厉佳星\\PycharmProjects\\ljxOfStudy\\测试\\答案js.txt'\n",
    "# filename = r'C:\\Users\\厉佳星\\PycharmProjects\\ljxOfStudy\\测试\\mlf.txt'\n",
    "# filename = r'C:\\Users\\厉佳星\\PycharmProjects\\ljxOfStudy\\测试\\myyw.txt'\n",
    "# filename = r'C:\\Users\\厉佳星\\PycharmProjects\\ljxOfStudy\\测试\\试题+答案yxf3.txt'\n",
    "# filename = r'C:\\Users\\厉佳星\\PycharmProjects\\ljxOfStudy\\测试\\返回体.txt'\n",
    "filename = r'C:\\Users\\厉佳星\\PycharmProjects\\ljxOfStudy\\测试\\新建文本文档jx.txt'\n",
    "# 使用with语句打开文件，这样可以确保文件在读取后会被正确关闭\n",
    "with open(filename, 'r', encoding='utf-8') as file:\n",
    "    # 读取文件内容\n",
    "    content = file.read()\n",
    "\n",
    "    # 尝试解析JSON数据\n",
    "    try:\n",
    "        data = json.loads(content)\n",
    "        # 打印解析后的数据\n",
    "        print(data)\n",
    "    except json.JSONDecodeError as e:\n",
    "        # 如果解析失败，打印错误信息\n",
    "        print(f\"解析JSON失败：{e}\")"
   ],
   "id": "34e05b31dfe310e3",
   "outputs": [
    {
     "name": "stdout",
     "output_type": "stream",
     "text": [
      "{'code': 0, 'msg': '', 'data': {'ExamInfo': {'ExamID': 1079, 'ExamName': '2024年总包人员资格认定测评（10月）', 'Duration': 70, 'UserNum': 85, 'IsShowResult': True, 'No': 1, 'OverUser': '31', 'UEID': 149880, 'GetScore': '66.0', 'TotalScore': 100.0, 'QuesNum': 50}, 'MyExams': [{'No': 1, 'UEID': 149880, 'SubTime': '2024.10.31 10:03', 'GetScore': '66.0'}], 'CardItems': [{'QType': 1, 'QTypeName': '单选题', 'QuesNum': 25, 'Score': 2.0, 'MissGetScore': False, 'TKScoreType': 1, 'QuesItems': [{'EQID': 252148, 'QuesNo': 1, 'QuesID': 1984, 'QType': 1, 'QTitle': '以下不属于EPC工程总承包项目设计管理策划内容的是（  ）', 'ImgPath': '', 'TK_Num': 0, 'Options': [{'OptionVal': 'A', 'OptionText': '明确设计分包单位', 'ImgPath': '', 'IsCheck': False, 'StatusID': 2}, {'OptionVal': 'B', 'OptionText': '基于交付标准落实限额设计', 'ImgPath': '', 'IsCheck': False, 'StatusID': 0}, {'OptionVal': 'C', 'OptionText': '规划项目设计出图计划', 'ImgPath': '', 'IsCheck': False, 'StatusID': 0}, {'OptionVal': 'D', 'OptionText': '需求识别与交付标准制定', 'ImgPath': '', 'IsCheck': True, 'StatusID': 2}], 'Answer': 'A', 'Analy': '', 'SubAnswer': 'D', 'StatusID': 2}, {'EQID': 252149, 'QuesNo': 2, 'QuesID': 3738, 'QType': 1, 'QTitle': '涉及上总办会的项目，预留标前评审时限不少于（）个工作日', 'ImgPath': '', 'TK_Num': 0, 'Options': [{'OptionVal': 'A', 'OptionText': '7', 'ImgPath': '', 'IsCheck': True, 'StatusID': 1}, {'OptionVal': 'B', 'OptionText': '5', 'ImgPath': '', 'IsCheck': False, 'StatusID': 0}, {'OptionVal': 'C', 'OptionText': '6', 'ImgPath': '', 'IsCheck': False, 'StatusID': 0}, {'OptionVal': 'D', 'OptionText': '4', 'ImgPath': '', 'IsCheck': False, 'StatusID': 0}], 'Answer': 'A', 'Analy': '', 'SubAnswer': 'A', 'StatusID': 1}, {'EQID': 252150, 'QuesNo': 3, 'QuesID': 2008, 'QType': 1, 'QTitle': '工程总承包（项目管理）项目安全经理的主要职责为', 'ImgPath': '', 'TK_Num': 0, 'Options': [{'OptionVal': 'A', 'OptionText': '负责在项目中贯彻执行公司安全、环境管理方针和管理目标', 'ImgPath': '', 'IsCheck': False, 'StatusID': 0}, {'OptionVal': 'B', 'OptionText': '以上均是', 'ImgPath': '', 'IsCheck': True, 'StatusID': 1}, {'OptionVal': 'C', 'OptionText': '对项目人员进行安全教育和交底。督促、检查和指导分包方开展“三级安全教育”和岗前交底活动', 'ImgPath': '', 'IsCheck': False, 'StatusID': 0}, {'OptionVal': 'D', 'OptionText': '负责项目实施过程中的环境、职业健康和安全管理工作', 'ImgPath': '', 'IsCheck': False, 'StatusID': 0}], 'Answer': 'B', 'Analy': '', 'SubAnswer': 'B', 'StatusID': 1}, {'EQID': 252151, 'QuesNo': 4, 'QuesID': 1976, 'QType': 1, 'QTitle': '“设计引领，深度融合”，以下关于EPC工程总承包项目设计接口与界面管理说法错误的是（    ）', 'ImgPath': '', 'TK_Num': 0, 'Options': [{'OptionVal': 'A', 'OptionText': '设计要负责提供试运行操作原则、图纸及资料', 'ImgPath': '', 'IsCheck': False, 'StatusID': 0}, {'OptionVal': 'B', 'OptionText': '报批报建不属于EPC的职责范围，但工程总承包方要协助设计优化方案、提高设计质量，从而提高报建效率，节约成本，做到智慧报建', 'ImgPath': '', 'IsCheck': False, 'StatusID': 0}, {'OptionVal': 'C', 'OptionText': '运营维护不是EPC项目的范围，设计不用考虑后期运营', 'ImgPath': '', 'IsCheck': True, 'StatusID': 1}, {'OptionVal': 'D', 'OptionText': 'EPC项目调试管理应是全过程管理，需从设计源头出发', 'ImgPath': '', 'IsCheck': False, 'StatusID': 0}], 'Answer': 'C', 'Analy': '', 'SubAnswer': 'C', 'StatusID': 1}, {'EQID': 252152, 'QuesNo': 5, 'QuesID': 1971, 'QType': 1, 'QTitle': '供应商短名单一般选择（  ）家供应商参加投/议标', 'ImgPath': '', 'TK_Num': 0, 'Options': [{'OptionVal': 'A', 'OptionText': '尽可能多', 'ImgPath': '', 'IsCheck': False, 'StatusID': 0}, {'OptionVal': 'B', 'OptionText': '3-4家', 'ImgPath': '', 'IsCheck': True, 'StatusID': 1}, {'OptionVal': 'C', 'OptionText': '5-6家', 'ImgPath': '', 'IsCheck': False, 'StatusID': 0}, {'OptionVal': 'D', 'OptionText': '1家', 'ImgPath': '', 'IsCheck': False, 'StatusID': 0}], 'Answer': 'B', 'Analy': '', 'SubAnswer': 'B', 'StatusID': 1}, {'EQID': 252153, 'QuesNo': 6, 'QuesID': 3735, 'QType': 1, 'QTitle': '某项目报价金额为500万，评审不含税毛利率为6%，且不垫资，则该项目属于（）类项目？', 'ImgPath': '', 'TK_Num': 0, 'Options': [{'OptionVal': 'A', 'OptionText': '华信F类', 'ImgPath': '', 'IsCheck': True, 'StatusID': 2}, {'OptionVal': 'B', 'OptionText': '华信E类', 'ImgPath': '', 'IsCheck': False, 'StatusID': 2}, {'OptionVal': 'C', 'OptionText': '不确定', 'ImgPath': '', 'IsCheck': False, 'StatusID': 0}, {'OptionVal': 'D', 'OptionText': '华信D类', 'ImgPath': '', 'IsCheck': False, 'StatusID': 0}], 'Answer': 'B', 'Analy': '', 'SubAnswer': 'A', 'StatusID': 2}, {'EQID': 252154, 'QuesNo': 7, 'QuesID': 1985, 'QType': 1, 'QTitle': '设计需求识别主要是通过研究EPC(    )，并逐步确定业主及项目利益相关方要求和期望的过程。', 'ImgPath': '', 'TK_Num': 0, 'Options': [{'OptionVal': 'A', 'OptionText': '项目施工文件', 'ImgPath': '', 'IsCheck': False, 'StatusID': 0}, {'OptionVal': 'B', 'OptionText': '项目设计文件', 'ImgPath': '', 'IsCheck': False, 'StatusID': 0}, {'OptionVal': 'C', 'OptionText': '项目合同文件', 'ImgPath': '', 'IsCheck': True, 'StatusID': 1}, {'OptionVal': 'D', 'OptionText': '项目采购文件', 'ImgPath': '', 'IsCheck': False, 'StatusID': 0}], 'Answer': 'C', 'Analy': '', 'SubAnswer': 'C', 'StatusID': 1}, {'EQID': 252155, 'QuesNo': 8, 'QuesID': 1970, 'QType': 1, 'QTitle': '采购全过程参与设计过程，设计各专业要对采购部门进行（   ），让采购人员能够清楚明白各专业的设计意图。', 'ImgPath': '', 'TK_Num': 0, 'Options': [{'OptionVal': 'A', 'OptionText': '技术交底', 'ImgPath': '', 'IsCheck': True, 'StatusID': 1}, {'OptionVal': 'B', 'OptionText': '工作交接', 'ImgPath': '', 'IsCheck': False, 'StatusID': 0}, {'OptionVal': 'C', 'OptionText': '图纸交底', 'ImgPath': '', 'IsCheck': False, 'StatusID': 0}, {'OptionVal': 'D', 'OptionText': '采购交底', 'ImgPath': '', 'IsCheck': False, 'StatusID': 0}], 'Answer': 'A', 'Analy': '', 'SubAnswer': 'A', 'StatusID': 1}, {'EQID': 252156, 'QuesNo': 9, 'QuesID': 2027, 'QType': 1, 'QTitle': '小明新拓展了一个智慧展厅项目，项目总报价6480万元。本项目前期与浙通服文传联合拓展，公司如果中标，需要将4680万元的展厅工程分包给文传公司交付。按照公司标前评审规定，本项目华信不含税毛利率最低为项目总报价的(    )。', 'ImgPath': '', 'TK_Num': 0, 'Options': [{'OptionVal': 'A', 'OptionText': '0.08', 'ImgPath': '', 'IsCheck': False, 'StatusID': 0}, {'OptionVal': 'B', 'OptionText': '0.06', 'ImgPath': '', 'IsCheck': False, 'StatusID': 2}, {'OptionVal': 'C', 'OptionText': '0.05', 'ImgPath': '', 'IsCheck': True, 'StatusID': 2}, {'OptionVal': 'D', 'OptionText': '0.1', 'ImgPath': '', 'IsCheck': False, 'StatusID': 0}], 'Answer': 'B', 'Analy': '', 'SubAnswer': 'C', 'StatusID': 2}, {'EQID': 252157, 'QuesNo': 10, 'QuesID': 2006, 'QType': 1, 'QTitle': '搭设高度（  ）及以上落地式钢管脚手架工程属超过一定规模的危险性较大分部分项工程，需组织专家论证', 'ImgPath': '', 'TK_Num': 0, 'Options': [{'OptionVal': 'A', 'OptionText': '20m', 'ImgPath': '', 'IsCheck': False, 'StatusID': 0}, {'OptionVal': 'B', 'OptionText': '100m', 'ImgPath': '', 'IsCheck': False, 'StatusID': 0}, {'OptionVal': 'C', 'OptionText': '80m', 'ImgPath': '', 'IsCheck': False, 'StatusID': 0}, {'OptionVal': 'D', 'OptionText': '50m', 'ImgPath': '', 'IsCheck': True, 'StatusID': 1}], 'Answer': 'D', 'Analy': '', 'SubAnswer': 'D', 'StatusID': 1}, {'EQID': 252158, 'QuesNo': 11, 'QuesID': 1957, 'QType': 1, 'QTitle': '机电安装工程质量验收评定的依据不包括（）', 'ImgPath': '', 'TK_Num': 0, 'Options': [{'OptionVal': 'A', 'OptionText': '设计图纸', 'ImgPath': '', 'IsCheck': False, 'StatusID': 0}, {'OptionVal': 'B', 'OptionText': '相关法规', 'ImgPath': '', 'IsCheck': False, 'StatusID': 0}, {'OptionVal': 'C', 'OptionText': '施工方案', 'ImgPath': '', 'IsCheck': True, 'StatusID': 1}, {'OptionVal': 'D', 'OptionText': '验收规范', 'ImgPath': '', 'IsCheck': False, 'StatusID': 0}], 'Answer': 'C', 'Analy': '', 'SubAnswer': 'C', 'StatusID': 1}, {'EQID': 252159, 'QuesNo': 12, 'QuesID': 1987, 'QType': 1, 'QTitle': 'EPC项目的设计管理与施工总承包项目的设计协调与配合的主要差异体现在以下哪些方面？(   )', 'ImgPath': '', 'TK_Num': 0, 'Options': [{'OptionVal': 'A', 'OptionText': '管理权责不同', 'ImgPath': '', 'IsCheck': False, 'StatusID': 2}, {'OptionVal': 'B', 'OptionText': '工作性质不同', 'ImgPath': '', 'IsCheck': False, 'StatusID': 0}, {'OptionVal': 'C', 'OptionText': '工作范围不同', 'ImgPath': '', 'IsCheck': True, 'StatusID': 2}, {'OptionVal': 'D', 'OptionText': '工作内容不同', 'ImgPath': '', 'IsCheck': False, 'StatusID': 0}], 'Answer': 'A', 'Analy': '', 'SubAnswer': 'C', 'StatusID': 2}, {'EQID': 252160, 'QuesNo': 13, 'QuesID': 1955, 'QType': 1, 'QTitle': '关于机电总包工程中关于采购风险管控措施描述错误的是（）', 'ImgPath': '', 'TK_Num': 0, 'Options': [{'OptionVal': 'A', 'OptionText': '合同协议明确供应商的供货时间、供货方式、相应保险、违约责任等条款', 'ImgPath': '', 'IsCheck': False, 'StatusID': 0}, {'OptionVal': 'B', 'OptionText': '关注项目交付周期、汇率等变化', 'ImgPath': '', 'IsCheck': False, 'StatusID': 0}, {'OptionVal': 'C', 'OptionText': '规范采购流程，优选可靠的供应商和合作方', 'ImgPath': '', 'IsCheck': False, 'StatusID': 0}, {'OptionVal': 'D', 'OptionText': '不需要供应商尽量采用背靠背的方式采购', 'ImgPath': '', 'IsCheck': True, 'StatusID': 1}], 'Answer': 'D', 'Analy': '', 'SubAnswer': 'D', 'StatusID': 1}, {'EQID': 252161, 'QuesNo': 14, 'QuesID': 1967, 'QType': 1, 'QTitle': '工程总承包项目施工计划由谁批准实施（ ）', 'ImgPath': '', 'TK_Num': 0, 'Options': [{'OptionVal': 'A', 'OptionText': '项目经理', 'ImgPath': '', 'IsCheck': False, 'StatusID': 2}, {'OptionVal': 'B', 'OptionText': '业主', 'ImgPath': '', 'IsCheck': True, 'StatusID': 2}, {'OptionVal': 'C', 'OptionText': '施工经理', 'ImgPath': '', 'IsCheck': False, 'StatusID': 0}, {'OptionVal': 'D', 'OptionText': '公司领导', 'ImgPath': '', 'IsCheck': False, 'StatusID': 0}], 'Answer': 'A', 'Analy': '', 'SubAnswer': 'B', 'StatusID': 2}, {'EQID': 252162, 'QuesNo': 15, 'QuesID': 1998, 'QType': 1, 'QTitle': '在EPC工程总承包项目中，承包商不仅仅只是完成（    ）的任务，更重要的是要给业主交付一个满足质量及功能需求的项目。', 'ImgPath': '', 'TK_Num': 0, 'Options': [{'OptionVal': 'A', 'OptionText': '设计采购', 'ImgPath': '', 'IsCheck': False, 'StatusID': 0}, {'OptionVal': 'B', 'OptionText': '收尾验收', 'ImgPath': '', 'IsCheck': False, 'StatusID': 0}, {'OptionVal': 'C', 'OptionText': '设计采购施工', 'ImgPath': '', 'IsCheck': True, 'StatusID': 1}, {'OptionVal': 'D', 'OptionText': '设计', 'ImgPath': '', 'IsCheck': False, 'StatusID': 0}], 'Answer': 'C', 'Analy': '', 'SubAnswer': 'C', 'StatusID': 1}, {'EQID': 252163, 'QuesNo': 16, 'QuesID': 1980, 'QType': 1, 'QTitle': '以下不属于项目经理在EPC项目限额设计中承担的角色与职责的是（   ）', 'ImgPath': '', 'TK_Num': 0, 'Options': [{'OptionVal': 'A', 'OptionText': '代表项目部与工程总承包企业签订限额设计目标责任书', 'ImgPath': '', 'IsCheck': False, 'StatusID': 0}, {'OptionVal': 'B', 'OptionText': '批准和下达项目限额设计任务书，审批限额设计控制目标变更申请', 'ImgPath': '', 'IsCheck': False, 'StatusID': 0}, {'OptionVal': 'C', 'OptionText': '项目投资费用的管理与控制者', 'ImgPath': '', 'IsCheck': True, 'StatusID': 1}, {'OptionVal': 'D', 'OptionText': '对项目部成员的限额设计工作进行考评', 'ImgPath': '', 'IsCheck': False, 'StatusID': 0}], 'Answer': 'C', 'Analy': '', 'SubAnswer': 'C', 'StatusID': 1}, {'EQID': 252164, 'QuesNo': 17, 'QuesID': 1963, 'QType': 1, 'QTitle': '影响施工试运行的进度的外部环境因素正确的是（ ）', 'ImgPath': '', 'TK_Num': 0, 'Options': [{'OptionVal': 'A', 'OptionText': '施工前提工作', 'ImgPath': '', 'IsCheck': True, 'StatusID': 1}, {'OptionVal': 'B', 'OptionText': '设计', 'ImgPath': '', 'IsCheck': False, 'StatusID': 0}, {'OptionVal': 'C', 'OptionText': '采购', 'ImgPath': '', 'IsCheck': False, 'StatusID': 0}, {'OptionVal': 'D', 'OptionText': '内部管理', 'ImgPath': '', 'IsCheck': False, 'StatusID': 0}], 'Answer': 'A', 'Analy': '', 'SubAnswer': 'A', 'StatusID': 1}, {'EQID': 252165, 'QuesNo': 18, 'QuesID': 2023, 'QType': 1, 'QTitle': '合同总额500万的施工总包项目，外包劳务410万，辅材外采50万，差旅费用5万，算出的项目正确毛利为（）', 'ImgPath': '', 'TK_Num': 0, 'Options': [{'OptionVal': 'A', 'OptionText': '38.53万元', 'ImgPath': '', 'IsCheck': False, 'StatusID': 0}, {'OptionVal': 'B', 'OptionText': '33.32万元', 'ImgPath': '', 'IsCheck': False, 'StatusID': 2}, {'OptionVal': 'C', 'OptionText': '31.7万元', 'ImgPath': '', 'IsCheck': False, 'StatusID': 0}, {'OptionVal': 'D', 'OptionText': '35万元', 'ImgPath': '', 'IsCheck': True, 'StatusID': 2}], 'Answer': 'B', 'Analy': '(500/1.09-410/1.09-50/1.13-5)', 'SubAnswer': 'D', 'StatusID': 2}, {'EQID': 252166, 'QuesNo': 19, 'QuesID': 2016, 'QType': 1, 'QTitle': '总包分包合同中的附件设备采购清单需要盖章吗？（）', 'ImgPath': '', 'TK_Num': 0, 'Options': [{'OptionVal': 'A', 'OptionText': '需要', 'ImgPath': '', 'IsCheck': True, 'StatusID': 1}, {'OptionVal': 'B', 'OptionText': '不需要', 'ImgPath': '', 'IsCheck': False, 'StatusID': 0}], 'Answer': 'A', 'Analy': '工程量清单，设备材料清单、进度计划表等作为合同附件时均需一并盖章', 'SubAnswer': 'A', 'StatusID': 1}, {'EQID': 252167, 'QuesNo': 20, 'QuesID': 2024, 'QType': 1, 'QTitle': '华信公司投标的总包项目报价645万元，项目不含税毛利率估算为11.45%，项目交付货物采用背靠背给供货商，施工采用劳务分包，劳务分包商具备农民工工资支付能力。经标前评审小组各负责人与项目负责人进行充分沟通后，评审小组最终得出结论为谨慎参与投标，则下一步工作（   ）。', 'ImgPath': '', 'TK_Num': 0, 'Options': [{'OptionVal': 'A', 'OptionText': '院长签字确认', 'ImgPath': '', 'IsCheck': False, 'StatusID': 0}, {'OptionVal': 'B', 'OptionText': '公司分管副总审批', 'ImgPath': '', 'IsCheck': True, 'StatusID': 1}, {'OptionVal': 'C', 'OptionText': '上报总办会决策', 'ImgPath': '', 'IsCheck': False, 'StatusID': 0}, {'OptionVal': 'D', 'OptionText': '标前评审小召开现场会进行现场讨论结果', 'ImgPath': '', 'IsCheck': False, 'StatusID': 0}], 'Answer': 'B', 'Analy': '', 'SubAnswer': 'B', 'StatusID': 1}, {'EQID': 252168, 'QuesNo': 21, 'QuesID': 2014, 'QType': 1, 'QTitle': '工程项目安全记录不包括', 'ImgPath': '', 'TK_Num': 0, 'Options': [{'OptionVal': 'A', 'OptionText': '安全检查记录', 'ImgPath': '', 'IsCheck': False, 'StatusID': 0}, {'OptionVal': 'B', 'OptionText': '分包方有关安全策划文件核审资料', 'ImgPath': '', 'IsCheck': False, 'StatusID': 0}, {'OptionVal': 'C', 'OptionText': '项目管理理论讲义教材', 'ImgPath': '', 'IsCheck': True, 'StatusID': 1}, {'OptionVal': 'D', 'OptionText': '项目安全管理计划', 'ImgPath': '', 'IsCheck': False, 'StatusID': 0}], 'Answer': 'C', 'Analy': '', 'SubAnswer': 'C', 'StatusID': 1}, {'EQID': 252169, 'QuesNo': 22, 'QuesID': 1973, 'QType': 1, 'QTitle': 'EPC项目中，如何解决设计分包商优化设计动力缺乏的问题（  ）', 'ImgPath': '', 'TK_Num': 0, 'Options': [{'OptionVal': 'A', 'OptionText': '直接奖励参与设计优化的设计人员', 'ImgPath': '', 'IsCheck': False, 'StatusID': 0}, {'OptionVal': 'B', 'OptionText': '承包商要与设计分包商确立设计优化奖励机制', 'ImgPath': '', 'IsCheck': True, 'StatusID': 1}, {'OptionVal': 'C', 'OptionText': '设计合同中明确设计及考核要求', 'ImgPath': '', 'IsCheck': False, 'StatusID': 0}, {'OptionVal': 'D', 'OptionText': '承诺后续更多的设计分包合同', 'ImgPath': '', 'IsCheck': False, 'StatusID': 0}], 'Answer': 'B', 'Analy': '', 'SubAnswer': 'B', 'StatusID': 1}, {'EQID': 252170, 'QuesNo': 23, 'QuesID': 2032, 'QType': 1, 'QTitle': '根据《招标投标法》及其实施条例，所有招标项目自招标文件开始发出之日起至投标人提交投标文件截止之日止,最短不得少于（）日。', 'ImgPath': '', 'TK_Num': 0, 'Options': [{'OptionVal': 'A', 'OptionText': '5', 'ImgPath': '', 'IsCheck': False, 'StatusID': 0}, {'OptionVal': 'B', 'OptionText': '30', 'ImgPath': '', 'IsCheck': False, 'StatusID': 0}, {'OptionVal': 'C', 'OptionText': '20', 'ImgPath': '', 'IsCheck': True, 'StatusID': 1}, {'OptionVal': 'D', 'OptionText': '15', 'ImgPath': '', 'IsCheck': False, 'StatusID': 0}], 'Answer': 'C', 'Analy': '', 'SubAnswer': 'C', 'StatusID': 1}, {'EQID': 252171, 'QuesNo': 24, 'QuesID': 2026, 'QType': 1, 'QTitle': 'EPC总承包项目将施工进行分包，(    )费用必须在开工前支付', 'ImgPath': '', 'TK_Num': 0, 'Options': [{'OptionVal': 'A', 'OptionText': '租用塔吊费用', 'ImgPath': '', 'IsCheck': True, 'StatusID': 2}, {'OptionVal': 'B', 'OptionText': '施工单位购买挖掘机费用', 'ImgPath': '', 'IsCheck': False, 'StatusID': 0}, {'OptionVal': 'C', 'OptionText': '农民工工资', 'ImgPath': '', 'IsCheck': False, 'StatusID': 0}, {'OptionVal': 'D', 'OptionText': '安全生产费', 'ImgPath': '', 'IsCheck': False, 'StatusID': 2}], 'Answer': 'D', 'Analy': '', 'SubAnswer': 'A', 'StatusID': 2}, {'EQID': 252172, 'QuesNo': 25, 'QuesID': 1974, 'QType': 1, 'QTitle': '以下不属于EPC项目设计分包质量管理要点的是（   ）', 'ImgPath': '', 'TK_Num': 0, 'Options': [{'OptionVal': 'A', 'OptionText': '必要时可聘请设计监理对EPC工程设计全过程进行监理', 'ImgPath': '', 'IsCheck': False, 'StatusID': 0}, {'OptionVal': 'B', 'OptionText': '加强设计评审与图纸审查', 'ImgPath': '', 'IsCheck': False, 'StatusID': 0}, {'OptionVal': 'C', 'OptionText': '加强和规范设计接口管理设置设计接口工程师', 'ImgPath': '', 'IsCheck': False, 'StatusID': 0}, {'OptionVal': 'D', 'OptionText': '考核设计分包单位', 'ImgPath': '', 'IsCheck': True, 'StatusID': 1}], 'Answer': 'D', 'Analy': '', 'SubAnswer': 'D', 'StatusID': 1}], 'Errors': [1, 6, 9, 12, 14, 18, 24]}, {'QType': 2, 'QTypeName': '多选题', 'QuesNum': 15, 'Score': 2.0, 'MissGetScore': True, 'TKScoreType': 1, 'QuesItems': [{'EQID': 252173, 'QuesNo': 1, 'QuesID': 1846, 'QType': 2, 'QTitle': '投标报价风险来源（）', 'ImgPath': '', 'TK_Num': 0, 'Options': [{'OptionVal': 'A', 'OptionText': '建设项目实地考察带来的风险', 'ImgPath': '', 'IsCheck': True, 'StatusID': 1}, {'OptionVal': 'B', 'OptionText': '估算工程量带来的风险', 'ImgPath': '', 'IsCheck': True, 'StatusID': 1}, {'OptionVal': 'C', 'OptionText': '理解偏差带来的风险', 'ImgPath': '', 'IsCheck': True, 'StatusID': 1}, {'OptionVal': 'D', 'OptionText': '分包和采购询价带来的风险', 'ImgPath': '', 'IsCheck': True, 'StatusID': 1}], 'Answer': 'ABCD', 'Analy': '', 'SubAnswer': 'ABCD', 'StatusID': 1}, {'EQID': 252174, 'QuesNo': 2, 'QuesID': 1914, 'QType': 2, 'QTitle': '如实际设计费用/工程量超过限额目标设计，专业负责人需提出限额设计控制目标变更申请，详细说明变更的原因，由（    ）审核并提出修正意见，经（   ）批准后，作为新的限额设计控制目标下发给专业负责人。', 'ImgPath': '', 'TK_Num': 0, 'Options': [{'OptionVal': 'A', 'OptionText': '设计经理', 'ImgPath': '', 'IsCheck': True, 'StatusID': 2}, {'OptionVal': 'B', 'OptionText': '土建工程师', 'ImgPath': '', 'IsCheck': False, 'StatusID': 0}, {'OptionVal': 'C', 'OptionText': '费用控制工程师', 'ImgPath': '', 'IsCheck': True, 'StatusID': 1}, {'OptionVal': 'D', 'OptionText': '项目经理', 'ImgPath': '', 'IsCheck': True, 'StatusID': 1}], 'Answer': 'CD', 'Analy': '', 'SubAnswer': 'ACD', 'StatusID': 2}, {'EQID': 252175, 'QuesNo': 3, 'QuesID': 1879, 'QType': 2, 'QTitle': '实现安全管理的“全员、全方位、全过程”的三全管理。具体到细部工作，主要抓以下哪些方面（   ）', 'ImgPath': '', 'TK_Num': 0, 'Options': [{'OptionVal': 'A', 'OptionText': '完工项目及时整理', 'ImgPath': '', 'IsCheck': True, 'StatusID': 1}, {'OptionVal': 'B', 'OptionText': '坚持安全检查', 'ImgPath': '', 'IsCheck': True, 'StatusID': 1}, {'OptionVal': 'C', 'OptionText': '落实安全技术交底', 'ImgPath': '', 'IsCheck': True, 'StatusID': 1}, {'OptionVal': 'D', 'OptionText': '设置安全控制点', 'ImgPath': '', 'IsCheck': True, 'StatusID': 1}], 'Answer': 'ABCD', 'Analy': '', 'SubAnswer': 'ABCD', 'StatusID': 1}, {'EQID': 252176, 'QuesNo': 4, 'QuesID': 1917, 'QType': 2, 'QTitle': '在矩阵管理模式中，企业按照职能职责与专业来划分为市场经营、设计、采购、施工、调试、技术质量、HSE、财务等职能部门（专业科室），以（     ）为主', 'ImgPath': '', 'TK_Num': 0, 'Options': [{'OptionVal': 'A', 'OptionText': '技术管理', 'ImgPath': '', 'IsCheck': False, 'StatusID': 1}, {'OptionVal': 'B', 'OptionText': '任务管理', 'ImgPath': '', 'IsCheck': False, 'StatusID': 1}, {'OptionVal': 'C', 'OptionText': '项目管理', 'ImgPath': '', 'IsCheck': True, 'StatusID': 2}, {'OptionVal': 'D', 'OptionText': '组织管理', 'ImgPath': '', 'IsCheck': False, 'StatusID': 1}], 'Answer': 'ABD', 'Analy': '', 'SubAnswer': 'C', 'StatusID': 2}, {'EQID': 252177, 'QuesNo': 5, 'QuesID': 1867, 'QType': 2, 'QTitle': '风险管理组在风险管理策划中主要负责的工作有（）', 'ImgPath': '', 'TK_Num': 0, 'Options': [{'OptionVal': 'A', 'OptionText': '安全检查', 'ImgPath': '', 'IsCheck': False, 'StatusID': 1}, {'OptionVal': 'B', 'OptionText': '制定安全计划', 'ImgPath': '', 'IsCheck': True, 'StatusID': 2}, {'OptionVal': 'C', 'OptionText': '事故上报', 'ImgPath': '', 'IsCheck': False, 'StatusID': 1}, {'OptionVal': 'D', 'OptionText': '制定应急救援', 'ImgPath': '', 'IsCheck': True, 'StatusID': 1}, {'OptionVal': 'E', 'OptionText': '识别', 'ImgPath': '', 'IsCheck': True, 'StatusID': 1}], 'Answer': 'ACDE', 'Analy': '', 'SubAnswer': 'BDE', 'StatusID': 2}, {'EQID': 252178, 'QuesNo': 6, 'QuesID': 1935, 'QType': 2, 'QTitle': '以下哪些人员有权在移动院承接的某部队EPC总包项目收入合同上签字（）', 'ImgPath': '', 'TK_Num': 0, 'Options': [{'OptionVal': 'A', 'OptionText': '移动院院长', 'ImgPath': '', 'IsCheck': True, 'StatusID': 1}, {'OptionVal': 'B', 'OptionText': '集客部经理', 'ImgPath': '', 'IsCheck': False, 'StatusID': 1}, {'OptionVal': 'C', 'OptionText': '有授权的业务经理', 'ImgPath': '', 'IsCheck': True, 'StatusID': 1}, {'OptionVal': 'D', 'OptionText': '移动院副院长', 'ImgPath': '', 'IsCheck': False, 'StatusID': 0}, {'OptionVal': 'E', 'OptionText': '项目负责人', 'ImgPath': '', 'IsCheck': False, 'StatusID': 0}], 'Answer': 'ABC', 'Analy': '业务部门经理、生产院院长、经转授权的业务经理有权在总包收入合同上签字。只有有合同签字授权的项目经理才有权签字，如未做授权，项目经理无权在合同上签字', 'SubAnswer': 'AC', 'StatusID': 2}, {'EQID': 252179, 'QuesNo': 7, 'QuesID': 1903, 'QType': 2, 'QTitle': '选择供应商时要考虑的因素（   ）', 'ImgPath': '', 'TK_Num': 0, 'Options': [{'OptionVal': 'A', 'OptionText': '是否通过ISO认证', 'ImgPath': '', 'IsCheck': True, 'StatusID': 1}, {'OptionVal': 'B', 'OptionText': '供应商执行订单的能力', 'ImgPath': '', 'IsCheck': True, 'StatusID': 1}, {'OptionVal': 'C', 'OptionText': '供应商的财务状况是否良好', 'ImgPath': '', 'IsCheck': True, 'StatusID': 1}, {'OptionVal': 'D', 'OptionText': '会计制度是否健全', 'ImgPath': '', 'IsCheck': False, 'StatusID': 1}], 'Answer': 'ABCD', 'Analy': '', 'SubAnswer': 'ABC', 'StatusID': 2}, {'EQID': 252180, 'QuesNo': 8, 'QuesID': 1934, 'QType': 2, 'QTitle': '某总包项目出现业主某期进度款超过合同约定支付时间一个月的，作为项目经理，应该如何处理（）', 'ImgPath': '', 'TK_Num': 0, 'Options': [{'OptionVal': 'A', 'OptionText': '发起合同异常履行上报流程', 'ImgPath': '', 'IsCheck': True, 'StatusID': 1}, {'OptionVal': 'B', 'OptionText': '与业主沟通了解情况，要求尽快付款', 'ImgPath': '', 'IsCheck': True, 'StatusID': 1}, {'OptionVal': 'C', 'OptionText': '业主是政府，资金周转有问题也属合理，要维护客户关系，项目先做着再等等看。', 'ImgPath': '', 'IsCheck': False, 'StatusID': 0}, {'OptionVal': 'D', 'OptionText': '停工', 'ImgPath': '', 'IsCheck': False, 'StatusID': 0}], 'Answer': 'AB', 'Analy': '超过一个月付款，属于合同履行异常的情况，不能因为业主找理由拖延或者为了不把关系搞僵而不及时上报公司决策', 'SubAnswer': 'AB', 'StatusID': 1}, {'EQID': 252181, 'QuesNo': 9, 'QuesID': 1855, 'QType': 2, 'QTitle': '通信总包工程的业主方可能是', 'ImgPath': '', 'TK_Num': 0, 'Options': [{'OptionVal': 'A', 'OptionText': '中国电信', 'ImgPath': '', 'IsCheck': True, 'StatusID': 1}, {'OptionVal': 'B', 'OptionText': '华为', 'ImgPath': '', 'IsCheck': True, 'StatusID': 1}, {'OptionVal': 'C', 'OptionText': '广电', 'ImgPath': '', 'IsCheck': True, 'StatusID': 1}, {'OptionVal': 'D', 'OptionText': '国家电网', 'ImgPath': '', 'IsCheck': False, 'StatusID': 1}, {'OptionVal': 'E', 'OptionText': '中国铁塔', 'ImgPath': '', 'IsCheck': True, 'StatusID': 1}], 'Answer': 'ABCDE', 'Analy': '', 'SubAnswer': 'ABCE', 'StatusID': 2}, {'EQID': 252182, 'QuesNo': 10, 'QuesID': 1908, 'QType': 2, 'QTitle': '企业采购部门主要负责公司层面的采购管理职责，主要包括：建立采购管理体系、（   ），委派专业的采购经理（工程师）参与项目，进行项目的采购实施。', 'ImgPath': '', 'TK_Num': 0, 'Options': [{'OptionVal': 'A', 'OptionText': '编制请购文件', 'ImgPath': '', 'IsCheck': True, 'StatusID': 2}, {'OptionVal': 'B', 'OptionText': '邀请招标的对象', 'ImgPath': '', 'IsCheck': False, 'StatusID': 1}, {'OptionVal': 'C', 'OptionText': '构建合格供应商库', 'ImgPath': '', 'IsCheck': True, 'StatusID': 1}, {'OptionVal': 'D', 'OptionText': '确保招标程序合法合规', 'ImgPath': '', 'IsCheck': True, 'StatusID': 1}], 'Answer': 'BCD', 'Analy': '', 'SubAnswer': 'ACD', 'StatusID': 2}, {'EQID': 252183, 'QuesNo': 11, 'QuesID': 1856, 'QType': 2, 'QTitle': '调查工程所在地的政治、经济和文化等方面的状况包括（）', 'ImgPath': '', 'TK_Num': 0, 'Options': [{'OptionVal': 'A', 'OptionText': '政治方面', 'ImgPath': '', 'IsCheck': True, 'StatusID': 1}, {'OptionVal': 'B', 'OptionText': '用工政策', 'ImgPath': '', 'IsCheck': True, 'StatusID': 1}, {'OptionVal': 'C', 'OptionText': '经济方面', 'ImgPath': '', 'IsCheck': True, 'StatusID': 1}, {'OptionVal': 'D', 'OptionText': '税收政策', 'ImgPath': '', 'IsCheck': True, 'StatusID': 1}, {'OptionVal': 'E', 'OptionText': '文化方面', 'ImgPath': '', 'IsCheck': True, 'StatusID': 1}, {'OptionVal': 'F', 'OptionText': '金融环境', 'ImgPath': '', 'IsCheck': True, 'StatusID': 1}], 'Answer': 'ABCDEF', 'Analy': '', 'SubAnswer': 'ABCDEF', 'StatusID': 1}, {'EQID': 252184, 'QuesNo': 12, 'QuesID': 1888, 'QType': 2, 'QTitle': '工程总承包的履约评价内容（）', 'ImgPath': '', 'TK_Num': 0, 'Options': [{'OptionVal': 'A', 'OptionText': '分包商的资质', 'ImgPath': '', 'IsCheck': True, 'StatusID': 2}, {'OptionVal': 'B', 'OptionText': '技术、资源、资料管理', 'ImgPath': '', 'IsCheck': True, 'StatusID': 1}, {'OptionVal': 'C', 'OptionText': '安全、质量、进度管理', 'ImgPath': '', 'IsCheck': True, 'StatusID': 1}, {'OptionVal': 'D', 'OptionText': '组织机构', 'ImgPath': '', 'IsCheck': True, 'StatusID': 1}], 'Answer': 'BCD', 'Analy': '', 'SubAnswer': 'ABCD', 'StatusID': 2}, {'EQID': 252185, 'QuesNo': 13, 'QuesID': 1936, 'QType': 2, 'QTitle': '总包项目中的劳务分包合同需要以下哪些环节审核（）', 'ImgPath': '', 'TK_Num': 0, 'Options': [{'OptionVal': 'A', 'OptionText': '采购部', 'ImgPath': '', 'IsCheck': True, 'StatusID': 1}, {'OptionVal': 'B', 'OptionText': '财务部', 'ImgPath': '', 'IsCheck': True, 'StatusID': 1}, {'OptionVal': 'C', 'OptionText': '分管领导', 'ImgPath': '', 'IsCheck': True, 'StatusID': 1}, {'OptionVal': 'D', 'OptionText': '风险管理部', 'ImgPath': '', 'IsCheck': True, 'StatusID': 1}, {'OptionVal': 'E', 'OptionText': '总包工程部', 'ImgPath': '', 'IsCheck': True, 'StatusID': 1}, {'OptionVal': 'F', 'OptionText': '集客部', 'ImgPath': '', 'IsCheck': False, 'StatusID': 0}], 'Answer': 'ABCDE', 'Analy': '总包分包合同需要发起部门、总包部、采购部、财务部、风险管理部、分管领导、总经理（大于200万）审核', 'SubAnswer': 'ABCDE', 'StatusID': 1}, {'EQID': 252186, 'QuesNo': 14, 'QuesID': 1924, 'QType': 2, 'QTitle': '下列对业主管理模式描述正确的是（    ）', 'ImgPath': '', 'TK_Num': 0, 'Options': [{'OptionVal': 'A', 'OptionText': '在业主平行发包模式下，设计、设备采购与土建与安装调试是分别招标的，一般要等全部设计完成之后才开始施工，过程中可能还存在大量的等待工期。', 'ImgPath': '', 'IsCheck': True, 'StatusID': 1}, {'OptionVal': 'B', 'OptionText': '设计单位、施工单位仅是完成相应合同要求的设计与采购施工任务，并不对整个项目的功能负责。', 'ImgPath': '', 'IsCheck': False, 'StatusID': 1}, {'OptionVal': 'C', 'OptionText': '承担工程项目实施风险，勘察设计、设备采购、土建安装与调试开车的大部分组织协调以及日常的HSE管理内容', 'ImgPath': '', 'IsCheck': True, 'StatusID': 1}, {'OptionVal': 'D', 'OptionText': '业主管理工作繁杂，并且很多业主技术和管理水平及经验还不及承包商，对项目过程的进度、质量及成本往往管不住，容易失控。', 'ImgPath': '', 'IsCheck': True, 'StatusID': 1}], 'Answer': 'ABCD', 'Analy': '', 'SubAnswer': 'ACD', 'StatusID': 2}, {'EQID': 252187, 'QuesNo': 15, 'QuesID': 1872, 'QType': 2, 'QTitle': '图纸会检的重点内容包括（）', 'ImgPath': '', 'TK_Num': 0, 'Options': [{'OptionVal': 'A', 'OptionText': '施工的主要技术方案与设计是否相适应。', 'ImgPath': '', 'IsCheck': True, 'StatusID': 1}, {'OptionVal': 'B', 'OptionText': '施工图之间和总分图之间、总分尺寸之间有无矛盾', 'ImgPath': '', 'IsCheck': True, 'StatusID': 1}, {'OptionVal': 'C', 'OptionText': '图纸表达深度能否满足施工需要', 'ImgPath': '', 'IsCheck': True, 'StatusID': 1}, {'OptionVal': 'D', 'OptionText': '施工图纸与设备、原材料的技术要求是否一致', 'ImgPath': '', 'IsCheck': True, 'StatusID': 1}], 'Answer': 'ABCD', 'Analy': '', 'SubAnswer': 'ABCD', 'StatusID': 1}], 'Errors': [2, 4, 5, 6, 7, 9, 10, 12, 14]}, {'QType': 3, 'QTypeName': '判断题', 'QuesNum': 10, 'Score': 2.0, 'MissGetScore': False, 'TKScoreType': 1, 'QuesItems': [{'EQID': 252188, 'QuesNo': 1, 'QuesID': 1810, 'QType': 3, 'QTitle': '依据《建设项目工程总承包合同示范文本（试行）》的通用条款约定，发包人有义务你给给承包人提供气象、水文、地质等基础资料以及已有的建筑物、构筑物、线缆、管道现场障碍资料。就这些资料中的短缺、遗漏、错误、疑问，承包人有义务在收到发包人提供的上述资料后15日内向发包人提出进一步的要求', 'ImgPath': '', 'TK_Num': 0, 'Options': [{'OptionVal': 'A', 'OptionText': '正确', 'ImgPath': '', 'IsCheck': True, 'StatusID': 1}, {'OptionVal': 'B', 'OptionText': '错误', 'ImgPath': '', 'IsCheck': False, 'StatusID': 0}], 'Answer': 'A', 'Analy': '', 'SubAnswer': 'A', 'StatusID': 1}, {'EQID': 252189, 'QuesNo': 2, 'QuesID': 1840, 'QType': 3, 'QTitle': '与供应商共同拓展业务中，应事先根据公司内控管理办法，执行相应的决策程序。与省公司、公司签署战略合作协 议或项目合作协议的，依据双方协议约定执行', 'ImgPath': '', 'TK_Num': 0, 'Options': [{'OptionVal': 'A', 'OptionText': '正确', 'ImgPath': '', 'IsCheck': True, 'StatusID': 2}, {'OptionVal': 'B', 'OptionText': '错误', 'ImgPath': '', 'IsCheck': False, 'StatusID': 2}], 'Answer': 'B', 'Analy': '修订后，明确该情形仅适用于集团客户项目，不适用于运营商项目', 'SubAnswer': 'A', 'StatusID': 2}, {'EQID': 252190, 'QuesNo': 3, 'QuesID': 1811, 'QType': 3, 'QTitle': '工程总承包项目发包时，不管是政府投资还是非政府投资项目，均应已经完成初步设计', 'ImgPath': '', 'TK_Num': 0, 'Options': [{'OptionVal': 'A', 'OptionText': '正确', 'ImgPath': '', 'IsCheck': True, 'StatusID': 2}, {'OptionVal': 'B', 'OptionText': '错误', 'ImgPath': '', 'IsCheck': False, 'StatusID': 2}], 'Answer': 'B', 'Analy': '', 'SubAnswer': 'A', 'StatusID': 2}, {'EQID': 252191, 'QuesNo': 4, 'QuesID': 1770, 'QType': 3, 'QTitle': '建安服务的分包方，关于“安全生产费”部分，可并入分包费明细开票', 'ImgPath': '', 'TK_Num': 0, 'Options': [{'OptionVal': 'A', 'OptionText': '正确', 'ImgPath': '', 'IsCheck': False, 'StatusID': 0}, {'OptionVal': 'B', 'OptionText': '错误', 'ImgPath': '', 'IsCheck': True, 'StatusID': 1}], 'Answer': 'B', 'Analy': '安全生产费开票时需单独列示出来', 'SubAnswer': 'B', 'StatusID': 1}, {'EQID': 252192, 'QuesNo': 5, 'QuesID': 1765, 'QType': 3, 'QTitle': '系统集成项目竣工申请时，项目组再准备整理项目竣工资料即可，项目实施过程可不需要整理。', 'ImgPath': '', 'TK_Num': 0, 'Options': [{'OptionVal': 'A', 'OptionText': '正确', 'ImgPath': '', 'IsCheck': False, 'StatusID': 0}, {'OptionVal': 'B', 'OptionText': '错误', 'ImgPath': '', 'IsCheck': True, 'StatusID': 1}], 'Answer': 'B', 'Analy': '', 'SubAnswer': 'B', 'StatusID': 1}, {'EQID': 252193, 'QuesNo': 6, 'QuesID': 1774, 'QType': 3, 'QTitle': '承包商应建立公共安全应急防范机制，主要包括建立应急机构，明确各级职责；明确应急报告方式、内容；准备好应急通讯设备、交通车辆、生活物资；统一应急报警信号和集合地点；明确应急预案启动条件、应急响应程序；员工应急演练等等。', 'ImgPath': '', 'TK_Num': 0, 'Options': [{'OptionVal': 'A', 'OptionText': '正确', 'ImgPath': '', 'IsCheck': True, 'StatusID': 1}, {'OptionVal': 'B', 'OptionText': '错误', 'ImgPath': '', 'IsCheck': False, 'StatusID': 0}], 'Answer': 'A', 'Analy': '', 'SubAnswer': 'A', 'StatusID': 1}, {'EQID': 252194, 'QuesNo': 7, 'QuesID': 1832, 'QType': 3, 'QTitle': '建安施工类总包项目可不计提安全生产费', 'ImgPath': '', 'TK_Num': 0, 'Options': [{'OptionVal': 'A', 'OptionText': '正确', 'ImgPath': '', 'IsCheck': False, 'StatusID': 0}, {'OptionVal': 'B', 'OptionText': '错误', 'ImgPath': '', 'IsCheck': True, 'StatusID': 1}], 'Answer': 'B', 'Analy': '从事建设工程施工的企业应以建筑安装工程造价为依据计提安全生产费，并按规定用途使用', 'SubAnswer': 'B', 'StatusID': 1}, {'EQID': 252195, 'QuesNo': 8, 'QuesID': 1797, 'QType': 3, 'QTitle': '对于长期合作、资质强、信誉好的供应商，采取直接签订采购合同的方式确定，节约招标时间和成本，规避选错供应商的风险；。', 'ImgPath': '', 'TK_Num': 0, 'Options': [{'OptionVal': 'A', 'OptionText': '正确', 'ImgPath': '', 'IsCheck': True, 'StatusID': 2}, {'OptionVal': 'B', 'OptionText': '错误', 'ImgPath': '', 'IsCheck': False, 'StatusID': 2}], 'Answer': 'B', 'Analy': '', 'SubAnswer': 'A', 'StatusID': 2}, {'EQID': 252196, 'QuesNo': 9, 'QuesID': 1771, 'QType': 3, 'QTitle': '某一总包项目，合同签订后即受到建设方20%的预收款，此时可以确认该项目20%的完工收入', 'ImgPath': '', 'TK_Num': 0, 'Options': [{'OptionVal': 'A', 'OptionText': '正确', 'ImgPath': '', 'IsCheck': False, 'StatusID': 0}, {'OptionVal': 'B', 'OptionText': '错误', 'ImgPath': '', 'IsCheck': True, 'StatusID': 1}], 'Answer': 'B', 'Analy': '预收款不可作为完工收入的确认依据，一般收到预收款时，企业尚未开始履行义务，因此此时不可确认收入', 'SubAnswer': 'B', 'StatusID': 1}, {'EQID': 252197, 'QuesNo': 10, 'QuesID': 3748, 'QType': 3, 'QTitle': '项目销售开的专用增值税发票的税叫进项税', 'ImgPath': '', 'TK_Num': 0, 'Options': [{'OptionVal': 'A', 'OptionText': '正确', 'ImgPath': '', 'IsCheck': False, 'StatusID': 0}, {'OptionVal': 'B', 'OptionText': '错误', 'ImgPath': '', 'IsCheck': True, 'StatusID': 1}], 'Answer': 'B', 'Analy': '叫销项税', 'SubAnswer': 'B', 'StatusID': 1}], 'Errors': [2, 3, 8]}], 'Errors': [1, 6, 9, 12, 14, 18, 24, 27, 29, 30, 31, 32, 34, 35, 37, 39, 42, 43, 48]}, 'count': -1}\n"
     ]
    }
   ],
   "execution_count": 44
  },
  {
   "metadata": {
    "ExecuteTime": {
     "end_time": "2024-11-04T06:00:00.652938Z",
     "start_time": "2024-11-04T06:00:00.616956Z"
    }
   },
   "cell_type": "code",
   "source": [
    "import json\n",
    "import pandas as pd\n",
    "\n",
    "\n",
    "# 初始化表格数据列表\n",
    "table_data = []\n",
    "\n",
    "# 遍历每个题型中的题目\n",
    "for card_item in data['data']['CardItems']:\n",
    "    q_type_name = card_item['QTypeName']  # 题型名称\n",
    "    for ques_item in card_item['QuesItems']:\n",
    "        # 提取题目信息\n",
    "        ques_no = ques_item['QuesNo']\n",
    "        ques_title = ques_item['QTitle']\n",
    "        options = ques_item['Options']\n",
    "        answer = ques_item['Answer']\n",
    "\n",
    "        # 构建题目选项和正确答案\n",
    "        ques_options = {}\n",
    "        for option in options:\n",
    "            ques_options[option['OptionVal']] = option['OptionText']\n",
    "\n",
    "\n",
    "        # 将题目信息添加到表格数据列表\n",
    "        table_data.append({\n",
    "            '题目号': ques_no,\n",
    "            '题型名称': q_type_name,\n",
    "            '题目内容': ques_title,\n",
    "            '题目选项': json.dumps(ques_options, ensure_ascii=False),\n",
    "            '正确答案选项': answer\n",
    "        })\n",
    "\n",
    "# 创建DataFrame\n",
    "df = pd.DataFrame(table_data)\n",
    "\n",
    "# 写入Excel文件 文件名要动态拼接时间戳\n",
    "\n",
    "excel_filename = '结果表/questions_jx.xlsx'\n",
    "df.to_excel(excel_filename, index=False)\n",
    "\n",
    "print(f'Excel文件已导出为：{excel_filename}')"
   ],
   "id": "5b48e34de17ed1d8",
   "outputs": [
    {
     "name": "stdout",
     "output_type": "stream",
     "text": [
      "Excel文件已导出为：questions_jx.xlsx\n"
     ]
    }
   ],
   "execution_count": 45
  },
  {
   "metadata": {},
   "cell_type": "markdown",
   "source": "",
   "id": "8c1e84bafdb72726"
  },
  {
   "metadata": {},
   "cell_type": "markdown",
   "source": "",
   "id": "d08ca10edb4f2fe4"
  },
  {
   "metadata": {
    "ExecuteTime": {
     "end_time": "2024-11-04T06:02:41.012071Z",
     "start_time": "2024-11-04T06:02:40.857925Z"
    }
   },
   "cell_type": "code",
   "source": [
    "import os\n",
    "import pandas as pd\n",
    "\n",
    "# 设置包含多个.xlsx文件的目录\n",
    "directory = r'C:\\Users\\厉佳星\\PycharmProjects\\ljxOfStudy\\测试\\结果表'  # 替换为你的文件夹路径\n",
    "# 设置合并后的文件名\n",
    "output_file = 'merged.xlsx'  # 你想要保存的文件名\n",
    "\n",
    "# 创建一个空的DataFrame用于存储合并后的数据\n",
    "merged_df = pd.DataFrame()\n",
    "\n",
    "# 遍历目录中的所有文件\n",
    "for filename in os.listdir(directory):\n",
    "    if filename.endswith('.xlsx'):\n",
    "        # 构建完整的文件路径\n",
    "        file_path = os.path.join(directory, filename)\n",
    "        # 读取Excel文件\n",
    "        df = pd.read_excel(file_path)\n",
    "        # 将读取的数据追加到merged_df中\n",
    "        merged_df = pd.concat([merged_df, df], ignore_index=True)\n",
    "\n",
    "# 将合并后的数据写入新的Excel文件\n",
    "merged_df.to_excel(output_file, index=False)"
   ],
   "id": "bd255595851c0e53",
   "outputs": [],
   "execution_count": 46
  },
  {
   "metadata": {
    "ExecuteTime": {
     "end_time": "2024-11-04T06:04:41.859914Z",
     "start_time": "2024-11-04T06:04:41.784121Z"
    }
   },
   "cell_type": "code",
   "source": [
    "import pandas as pd\n",
    "\n",
    "# 读取Excel文件\n",
    "input_file =r'C:\\Users\\厉佳星\\PycharmProjects\\ljxOfStudy\\测试\\merged.xlsx'  # 替换为你的输入文件名\n",
    "output_file = r'your_output_file.xlsx'  # 你想要保存的去重后的文件名\n",
    "\n",
    "# 使用pandas读取Excel文件\n",
    "df = pd.read_excel(input_file)\n",
    "\n",
    "# 根据“题目内容”列进行去重操作\n",
    "# keep='first'表示保留第一次出现的行，删除后续重复的行\n",
    "df_unique = df.drop_duplicates(subset=['题目内容'], keep='first')\n",
    "\n",
    "# 将去重后的数据写入新的Excel文件\n",
    "df_unique.to_excel(output_file, index=False)"
   ],
   "id": "5d09a8029890a17",
   "outputs": [],
   "execution_count": 47
  }
 ],
 "metadata": {
  "kernelspec": {
   "display_name": "Python 3",
   "language": "python",
   "name": "python3"
  },
  "language_info": {
   "codemirror_mode": {
    "name": "ipython",
    "version": 3
   },
   "file_extension": ".py",
   "mimetype": "text/x-python",
   "name": "python",
   "nbconvert_exporter": "python",
   "pygments_lexer": "ipython3",
   "version": "3.8.10"
  },
  "toc": {
   "base_numbering": 1,
   "nav_menu": {},
   "number_sections": true,
   "sideBar": true,
   "skip_h1_title": false,
   "title_cell": "Table of Contents",
   "title_sidebar": "Contents",
   "toc_cell": false,
   "toc_position": {},
   "toc_section_display": true,
   "toc_window_display": true
  }
 },
 "nbformat": 4,
 "nbformat_minor": 5
}
