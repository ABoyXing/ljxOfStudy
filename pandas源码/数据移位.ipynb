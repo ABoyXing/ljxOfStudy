{
 "cells": [
  {
   "cell_type": "code",
   "metadata": {
    "ExecuteTime": {
     "end_time": "2024-08-26T14:53:16.108959Z",
     "start_time": "2024-08-26T14:53:16.087965Z"
    }
   },
   "source": [
    "import pandas as pd \n",
    "data=[7532,3937,9447,8765,4564]\n",
    "index=[1,2,3,4,5]\n",
    "df=pd.DataFrame(data=data,index=index,columns=['OPPO'])\n",
    "print(df)\n",
    "df['销量差']=df['OPPO']-df['OPPO'].shift()\n",
    "print(df)\n",
    "\n",
    "#print(df['OPPO'].shift())"
   ],
   "outputs": [
    {
     "name": "stdout",
     "output_type": "stream",
     "text": [
      "   OPPO\n",
      "1  7532\n",
      "2  3937\n",
      "3  9447\n",
      "4  8765\n",
      "5  4564\n",
      "   OPPO     销量差\n",
      "1  7532     NaN\n",
      "2  3937 -3595.0\n",
      "3  9447  5510.0\n",
      "4  8765  -682.0\n",
      "5  4564 -4201.0\n"
     ]
    }
   ],
   "execution_count": 3
  },
  {
   "cell_type": "code",
   "execution_count": null,
   "metadata": {},
   "outputs": [],
   "source": []
  }
 ],
 "metadata": {
  "kernelspec": {
   "display_name": "Python 3",
   "language": "python",
   "name": "python3"
  },
  "language_info": {
   "codemirror_mode": {
    "name": "ipython",
    "version": 3
   },
   "file_extension": ".py",
   "mimetype": "text/x-python",
   "name": "python",
   "nbconvert_exporter": "python",
   "pygments_lexer": "ipython3",
   "version": "3.7.6"
  }
 },
 "nbformat": 4,
 "nbformat_minor": 4
}
