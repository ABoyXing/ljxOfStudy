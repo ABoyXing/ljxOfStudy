{
 "cells": [
  {
   "cell_type": "code",
   "execution_count": 17,
   "metadata": {},
   "outputs": [
    {
     "name": "stdout",
     "output_type": "stream",
     "text": [
      "      数学  语文  英语\n",
      "张三    45    65   100\n",
      "李四    56    45    50\n",
      "王五    67    67    67\n",
      "--------------------------\n",
      "数学     45\n",
      "语文     65\n",
      "英语    100\n",
      "Name: 张三, dtype: int64\n",
      "--------------------------\n",
      "数学     45\n",
      "语文     65\n",
      "英语    100\n",
      "Name: 张三, dtype: int64\n",
      "------提取多行数据------（谁和谁）---\n",
      "      数学  语文  英语\n",
      "张三    45    65   100\n",
      "王五    67    67    67\n",
      "      数学  语文  英语\n",
      "张三    45    65   100\n",
      "王五    67    67    67\n",
      "--------提取连续的多行数据（从谁到谁）-----------------\n",
      "      数学  语文  英语\n",
      "张三    45    65   100\n",
      "李四    56    45    50\n",
      "王五    67    67    67\n",
      "----------------------------------------\n",
      "      数学  语文  英语\n",
      "张三    45    65   100\n",
      "李四    56    45    50\n",
      "---------------------------------\n",
      "      数学  语文  英语\n",
      "李四    56    45    50\n",
      "王五    67    67    67\n",
      "---------------------------------\n",
      "      数学  语文  英语\n",
      "张三    45    65   100\n",
      "王五    67    67    67\n"
     ]
    }
   ],
   "source": [
    "import pandas as pd\n",
    "pd.set_option('display.unicode.east_asian_width',True)\n",
    "data=[[45,65,100],[56,45,50],[67,67,67]]\n",
    "index=['张三','李四','王五']\n",
    "columns=['数学','语文','英语']\n",
    "df=pd.DataFrame(data=data,index=index,columns=columns)\n",
    "print(df)\n",
    "print('--------------------------')\n",
    "# 提取行数据\n",
    "print(df.loc['张三'])  # 行索引名称\n",
    "print('--------------------------')\n",
    "print(df.iloc[0])  # 行索引的编号\n",
    "\n",
    "print('------提取多行数据------（谁和谁）---')  #张三和王五\n",
    "\n",
    "print(df.loc[['张三','王五']])\n",
    "\n",
    "print(df.iloc[[0,2]])\n",
    "\n",
    "print('--------提取连续的多行数据（从谁到谁）-----------------') # 从张三到王五\n",
    "print(df.loc['张三':'王五'])   # 行索引名称， 包含王五\n",
    "print('----------------------------------------')\n",
    "print(df.iloc[0:2]) # 行索引序号，含0 不含2\n",
    "\n",
    "print('---------------------------------')\n",
    "print(df.iloc[1::]) # iloc[start:stop:step]\n",
    "\n",
    "print('---------------------------------')\n",
    "print(df.iloc[::2]) # iloc[start:stop:step]  步长为2  从0，1，2   取出0,2\n",
    "\n"
   ]
  },
  {
   "cell_type": "code",
   "metadata": {
    "ExecuteTime": {
     "end_time": "2024-08-20T14:38:58.894375Z",
     "start_time": "2024-08-20T14:38:58.229362Z"
    }
   },
   "source": [
    "import pandas as pd\n",
    "pd.set_option('display.unicode.east_asian_width',True)\n",
    "data=[[45,65,100],[56,45,50],[67,67,67]]\n",
    "index=['张三','李四','王五']\n",
    "columns=['数学','语文','英语']\n",
    "df=pd.DataFrame(data=data,index=index,columns=columns)\n",
    "print(df)\n",
    "print('--------------------------')\n",
    "print(df[['数学','英语']]) # 直接使用列名提取\n",
    "\n",
    "print('------------------------------')\n",
    "print(df.loc[:,['数学','英语']])  # 逗号的左侧表示的是行，右侧表示的是列  ，所有行的，数学和英语\n",
    "print('------------------------------')\n",
    "print(df.iloc[:,[0,2]])\n",
    "\n",
    "print('--------------提取连续的列-------------------')\n",
    "print(df.loc[:,'语文':])\n",
    "print('------------------------------')\n",
    "print(df.iloc[:,1:])"
   ],
   "outputs": [
    {
     "name": "stdout",
     "output_type": "stream",
     "text": [
      "      数学  语文  英语\n",
      "张三    45    65   100\n",
      "李四    56    45    50\n",
      "王五    67    67    67\n",
      "--------------------------\n",
      "      数学  英语\n",
      "张三    45   100\n",
      "李四    56    50\n",
      "王五    67    67\n",
      "------------------------------\n",
      "      数学  英语\n",
      "张三    45   100\n",
      "李四    56    50\n",
      "王五    67    67\n",
      "------------------------------\n",
      "      数学  英语\n",
      "张三    45   100\n",
      "李四    56    50\n",
      "王五    67    67\n",
      "--------------提取连续的列-------------------\n",
      "      语文  英语\n",
      "张三    65   100\n",
      "李四    45    50\n",
      "王五    67    67\n",
      "------------------------------\n",
      "      语文  英语\n",
      "张三    65   100\n",
      "李四    45    50\n",
      "王五    67    67\n"
     ]
    }
   ],
   "execution_count": 1
  },
  {
   "cell_type": "code",
   "execution_count": 39,
   "metadata": {},
   "outputs": [
    {
     "name": "stdout",
     "output_type": "stream",
     "text": [
      "      数学  语文  英语\n",
      "张三    45    65   100\n",
      "李四    56    45    50\n",
      "王五    67    67    67\n",
      "45 <class 'numpy.int64'>\n",
      "------------------------------\n",
      "      数学  语文\n",
      "张三    45    65\n",
      "王五    67    67\n",
      "-----------------------------------\n",
      "45\n",
      "      数学  语文\n",
      "张三    45    65\n",
      "李四    56    45\n",
      "------------------------------------\n",
      "      数学  英语\n",
      "张三    45   100\n",
      "王五    67    67\n",
      "----------------------------------\n",
      "张三    45\n",
      "李四    56\n",
      "王五    67\n",
      "Name: 数学, dtype: int64\n"
     ]
    }
   ],
   "source": [
    "# 提取区域数据\n",
    "import pandas as pd\n",
    "pd.set_option('display.unicode.east_asian_width',True)\n",
    "data=[[45,65,100],[56,45,50],[67,67,67]]\n",
    "index=['张三','李四','王五']\n",
    "columns=['数学','语文','英语']\n",
    "df=pd.DataFrame(data=data,index=index,columns=columns)\n",
    "print(df)\n",
    "print(df.loc['张三','数学'],type(df.loc['张三','数学']))\n",
    "print('------------------------------')\n",
    "print(df.loc[['张三','王五'],['数学','语文']])\n",
    "\n",
    "print('-----------------------------------')\n",
    "print(df.iloc[0,0]) # 第0 行，第0列\n",
    "print(df.iloc[0:2,0:2]) # ,的左侧行切片，右侧列切片  ，提取的区域数据为连续的数据\n",
    "\n",
    "print('------------------------------------')\n",
    "print(df.iloc[[0,2],[0,2]]) # 第0行和第2行，第0列和第2列\n",
    "print('----------------------------------') # 提取所有行的第0列\n",
    "print(df.iloc[:,0])"
   ]
  },
  {
   "cell_type": "code",
   "execution_count": 45,
   "metadata": {},
   "outputs": [
    {
     "name": "stdout",
     "output_type": "stream",
     "text": [
      "      数学  语文  英语\n",
      "张三    45    65   100\n",
      "李四    56    45    50\n",
      "王五    67    67    67\n",
      "      数学  语文  英语\n",
      "张三    45    65   100\n",
      "王五    67    67    67\n",
      "      数学  语文  英语\n",
      "王五    67    67    67\n"
     ]
    }
   ],
   "source": [
    "import pandas as pd\n",
    "pd.set_option('display.unicode.east_asian_width',True)\n",
    "data=[[45,65,100],[56,45,50],[67,67,67]]\n",
    "index=['张三','李四','王五']\n",
    "columns=['数学','语文','英语']\n",
    "df=pd.DataFrame(data=data,index=index,columns=columns)\n",
    "print(df)\n",
    "print(df.loc[df['语文']>=60]) # 提取语文成绩大于等于60的学生信息\n",
    "# 从个条件之间使用关系运算符\n",
    "\n",
    "print(df.loc[(df['语文']>=60)  &(df['数学']>=60)   ])\n"
   ]
  },
  {
   "cell_type": "code",
   "execution_count": null,
   "metadata": {},
   "outputs": [],
   "source": []
  }
 ],
 "metadata": {
  "kernelspec": {
   "display_name": "Python 3",
   "language": "python",
   "name": "python3"
  },
  "language_info": {
   "codemirror_mode": {
    "name": "ipython",
    "version": 3
   },
   "file_extension": ".py",
   "mimetype": "text/x-python",
   "name": "python",
   "nbconvert_exporter": "python",
   "pygments_lexer": "ipython3",
   "version": "3.7.6"
  }
 },
 "nbformat": 4,
 "nbformat_minor": 4
}
