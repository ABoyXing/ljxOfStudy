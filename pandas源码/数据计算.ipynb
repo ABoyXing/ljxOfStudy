{
 "cells": [
  {
   "cell_type": "code",
   "execution_count": 1,
   "metadata": {},
   "outputs": [
    {
     "name": "stdout",
     "output_type": "stream",
     "text": [
      "   数学  语文  英语\n",
      "1   100    90    80\n",
      "2    98    67    56\n",
      "3    56    56    45\n",
      "   数学  语文  英语  总成绩\n",
      "1   100    90    80     270\n",
      "2    98    67    56     221\n",
      "3    56    56    45     157\n"
     ]
    }
   ],
   "source": [
    "# 求和\n",
    "import pandas as pd \n",
    "pd.set_option('display.unicode.east_asian_width',True)\n",
    "data=[[100,90,80],[98,67,56],[56,56,45]]\n",
    "columns=['数学','语文','英语']\n",
    "df=pd.DataFrame(data=data,columns=columns,index=[1,2,3])\n",
    "print(df)\n",
    "\n",
    "#求和\n",
    "df['总成绩']=df.sum(axis=1) #　按行相加 \n",
    "print(df)"
   ]
  },
  {
   "cell_type": "code",
   "execution_count": 6,
   "metadata": {},
   "outputs": [
    {
     "name": "stdout",
     "output_type": "stream",
     "text": [
      "   数学  语文  英语\n",
      "1   100    90    80\n",
      "2    98    67    56\n",
      "3    56    56    45\n",
      "         数学  语文       英语\n",
      "0  100.000000  90.0  80.000000\n",
      "1   98.000000  67.0  56.000000\n",
      "2   56.000000  56.0  45.000000\n",
      "3   84.666667  71.0  60.333333\n"
     ]
    }
   ],
   "source": [
    "# 计算平均值\n",
    "import pandas as pd \n",
    "pd.set_option('display.unicode.east_asian_width',True)\n",
    "data=[[100,90,80],[98,67,56],[56,56,45]]\n",
    "columns=['数学','语文','英语']\n",
    "df=pd.DataFrame(data=data,columns=columns,index=[1,2,3])\n",
    "print(df)\n",
    "df=df.append(df.mean(),ignore_index=True) #默认按照列计算平均值\n",
    "print(df)"
   ]
  },
  {
   "cell_type": "code",
   "execution_count": 9,
   "metadata": {},
   "outputs": [
    {
     "name": "stdout",
     "output_type": "stream",
     "text": [
      "   数学  语文  英语\n",
      "1   100    90  80.0\n",
      "2    98    67  56.0\n",
      "3    56    56   NaN\n",
      "         数学  语文  英语\n",
      "0  100.000000  90.0  80.0\n",
      "1   98.000000  67.0  56.0\n",
      "2   56.000000  56.0   NaN\n",
      "3   84.666667  71.0  68.0\n"
     ]
    }
   ],
   "source": [
    "# 计算平均值  (NaN )\n",
    "import pandas as pd \n",
    "pd.set_option('display.unicode.east_asian_width',True)\n",
    "data=[[100,90,80],[98,67,56],[56,56]]\n",
    "columns=['数学','语文','英语']\n",
    "df=pd.DataFrame(data=data,columns=columns,index=[1,2,3])\n",
    "print(df)\n",
    "df=df.append(df.mean(),ignore_index=True) #默认按照列计算平均值\n",
    "print(df)"
   ]
  },
  {
   "cell_type": "code",
   "execution_count": 10,
   "metadata": {},
   "outputs": [
    {
     "name": "stdout",
     "output_type": "stream",
     "text": [
      "   数学  语文  英语\n",
      "1   100    90  80.0\n",
      "2    98    67  56.0\n",
      "3    56    56   NaN\n",
      "    数学  语文  英语\n",
      "0  100.0  90.0  80.0\n",
      "1   98.0  67.0  56.0\n",
      "2   56.0  56.0   NaN\n",
      "3  100.0  90.0  80.0\n"
     ]
    }
   ],
   "source": [
    "# 最大值\n",
    "import pandas as pd \n",
    "pd.set_option('display.unicode.east_asian_width',True)\n",
    "data=[[100,90,80],[98,67,56],[56,56]]\n",
    "columns=['数学','语文','英语']\n",
    "df=pd.DataFrame(data=data,columns=columns,index=[1,2,3])\n",
    "print(df)\n",
    "df=df.append(df.max(),ignore_index=True) #最大值\n",
    "print(df)"
   ]
  },
  {
   "cell_type": "code",
   "execution_count": 11,
   "metadata": {},
   "outputs": [
    {
     "name": "stdout",
     "output_type": "stream",
     "text": [
      "   数学  语文  英语\n",
      "1   100    90  80.0\n",
      "2    98    67  56.0\n",
      "3    56    56   NaN\n",
      "    数学  语文  英语\n",
      "0  100.0  90.0  80.0\n",
      "1   98.0  67.0  56.0\n",
      "2   56.0  56.0   NaN\n",
      "3   56.0  56.0  56.0\n"
     ]
    }
   ],
   "source": [
    "# 最小值\n",
    "import pandas as pd \n",
    "pd.set_option('display.unicode.east_asian_width',True)\n",
    "data=[[100,90,80],[98,67,56],[56,56]]\n",
    "columns=['数学','语文','英语']\n",
    "df=pd.DataFrame(data=data,columns=columns,index=[1,2,3])\n",
    "print(df)\n",
    "df=df.append(df.min(),ignore_index=True) #最小值\n",
    "print(df)"
   ]
  },
  {
   "cell_type": "code",
   "execution_count": 12,
   "metadata": {},
   "outputs": [
    {
     "name": "stdout",
     "output_type": "stream",
     "text": [
      "   数学  语文  英语\n",
      "1   100    90  80.0\n",
      "2    98    67  56.0\n",
      "3    56    56   NaN\n",
      "    数学  语文  英语\n",
      "0  100.0  90.0  80.0\n",
      "1   98.0  67.0  56.0\n",
      "2   56.0  56.0   NaN\n",
      "3   98.0  67.0  68.0\n"
     ]
    }
   ],
   "source": [
    "# 中位数\n",
    "import pandas as pd \n",
    "pd.set_option('display.unicode.east_asian_width',True)\n",
    "data=[[100,90,80],[98,67,56],[56,56]]\n",
    "columns=['数学','语文','英语']\n",
    "df=pd.DataFrame(data=data,columns=columns,index=[1,2,3])\n",
    "print(df)\n",
    "df=df.append(df.median(),ignore_index=True) #中位数\n",
    "print(df)"
   ]
  },
  {
   "cell_type": "code",
   "execution_count": 13,
   "metadata": {},
   "outputs": [
    {
     "name": "stdout",
     "output_type": "stream",
     "text": [
      "   数学  语文  英语\n",
      "1   100    90   100\n",
      "2   100    76    76\n",
      "3    76    90    76\n",
      "   数学  语文  英语\n",
      "0   100    90    76\n",
      "     0\n",
      "1  100\n",
      "2   76\n",
      "3   76\n",
      "0    100\n",
      "dtype: int64\n"
     ]
    }
   ],
   "source": [
    "# 求众数\n",
    "import pandas as pd \n",
    "pd.set_option('display.unicode.east_asian_width',True)\n",
    "data=[[100,90,100],[100,76,76],[76,90,76]]\n",
    "columns=['数学','语文','英语']\n",
    "df=pd.DataFrame(data=data,columns=columns,index=[1,2,3])\n",
    "print(df)\n",
    "#三科成绩的众数\n",
    "print(df.mode())\n",
    "\n",
    "# 行中的众数\n",
    "print(df.mode(axis=1))\n",
    "\n",
    "#数学的众数\n",
    "print(df['数学'].mode())"
   ]
  },
  {
   "cell_type": "code",
   "execution_count": 16,
   "metadata": {},
   "outputs": [
    {
     "name": "stdout",
     "output_type": "stream",
     "text": [
      "        一模  二模  三模  四模  五模\n",
      "李凡     135   140   138   145   140\n",
      "郭曙光   140   145   139   142   132\n",
      "李凡      13.3\n",
      "郭曙光    23.3\n",
      "dtype: float64\n"
     ]
    }
   ],
   "source": [
    "# 求方差\n",
    "import pandas as pd\n",
    "data=[[135,140,138,145,140],[140,145,139,142,132]]\n",
    "index=['李凡','郭曙光']\n",
    "columns=['一模','二模','三模','四模','五模']\n",
    "df=pd.DataFrame(data=data,index=index,columns=columns)\n",
    "print(df)\n",
    "print(df.var(axis=1)) # Pandas采用的是无偏样式方差   方差和/样本数-1\n"
   ]
  },
  {
   "cell_type": "code",
   "execution_count": 18,
   "metadata": {},
   "outputs": [
    {
     "name": "stdout",
     "output_type": "stream",
     "text": [
      "   数学  语文  英语\n",
      "1   100    90   100\n",
      "2   100    76    76\n",
      "3    76    90    76\n",
      "数学    13.856406\n",
      "语文     8.082904\n",
      "英语    13.856406\n",
      "dtype: float64\n"
     ]
    }
   ],
   "source": [
    "# 求标准差\n",
    "import pandas as pd \n",
    "pd.set_option('display.unicode.east_asian_width',True)\n",
    "data=[[100,90,100],[100,76,76],[76,90,76]]\n",
    "columns=['数学','语文','英语']\n",
    "df=pd.DataFrame(data=data,columns=columns,index=[1,2,3])\n",
    "print(df)\n",
    "print(df.std())"
   ]
  },
  {
   "cell_type": "code",
   "execution_count": 21,
   "metadata": {},
   "outputs": [
    {
     "name": "stdout",
     "output_type": "stream",
     "text": [
      "   数学\n",
      "0   120\n",
      "1   110\n",
      "2   112\n",
      "3   100\n",
      "4    98\n",
      "5    34\n",
      "6   123\n",
      "7   115\n",
      "104.5\n",
      "   数学\n",
      "3   100\n",
      "4    98\n",
      "5    34\n"
     ]
    }
   ],
   "source": [
    "# 求分位数\n",
    "import pandas as pd\n",
    "data=[120,110,112,100,98,34,123,115]\n",
    "columns=['数学']\n",
    "df=pd.DataFrame(data=data,columns=columns)\n",
    "print(df)\n",
    "# 计算35%\n",
    "x=df['数学'].quantile(0.35)\n",
    "\n",
    "print(x)\n",
    "\n",
    "print(df[df['数学']<x])"
   ]
  },
  {
   "cell_type": "code",
   "execution_count": 24,
   "metadata": {},
   "outputs": [
    {
     "name": "stdout",
     "output_type": "stream",
     "text": [
      "A                    1.5\n",
      "B    2020-07-02 00:00:00\n",
      "C        1 days 12:00:00\n",
      "Name: 0.5, dtype: object\n"
     ]
    }
   ],
   "source": [
    "\n",
    "# 分位数， numeric_only=False\n",
    "import pandas as pd\n",
    "df=pd.DataFrame(\n",
    "{\n",
    "    'A':[1,2],\n",
    "    'B':[pd.Timestamp('2020'),pd.Timestamp('2021')],\n",
    "    'C':[pd.Timedelta('1 days'),pd.Timedelta('2 days')]\n",
    "})\n",
    "print(df.quantile(0.5,numeric_only=False))\n"
   ]
  },
  {
   "cell_type": "code",
   "execution_count": null,
   "metadata": {},
   "outputs": [],
   "source": []
  }
 ],
 "metadata": {
  "kernelspec": {
   "display_name": "Python 3",
   "language": "python",
   "name": "python3"
  },
  "language_info": {
   "codemirror_mode": {
    "name": "ipython",
    "version": 3
   },
   "file_extension": ".py",
   "mimetype": "text/x-python",
   "name": "python",
   "nbconvert_exporter": "python",
   "pygments_lexer": "ipython3",
   "version": "3.7.6"
  }
 },
 "nbformat": 4,
 "nbformat_minor": 4
}
