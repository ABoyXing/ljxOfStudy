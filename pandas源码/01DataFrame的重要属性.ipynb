{
 "cells": [
  {
   "cell_type": "code",
   "metadata": {
    "ExecuteTime": {
     "end_time": "2024-10-26T14:06:40.971545Z",
     "start_time": "2024-10-26T14:06:40.958545Z"
    }
   },
   "source": [
    "# 列表方式创建DataFrame对象\n",
    "import pandas as pd\n",
    "data=[['小太阳',320.9,100],['鼠标',150.3,50],['小刀',1.5,200]]\n",
    "columns=['名称','单价','数量']\n",
    "df=pd.DataFrame(data=data,columns=columns)\n",
    "print(df)\n",
    "print('查看所有元素的值\\n',df.values)\n",
    "print('查看所有元素的类型\\n',df.dtypes)\n",
    "print('查看所有行名称\\n',list(df.index))\n",
    "df.index=[1,2,3]\n",
    "print(df)\n",
    "print('查看列索引\\n',df.columns)\n",
    "df.columns=['商品名称','最新单价','实时数量'] \n",
    "print(df)"
   ],
   "outputs": [
    {
     "name": "stdout",
     "output_type": "stream",
     "text": [
      "    名称     单价   数量\n",
      "0  小太阳  320.9  100\n",
      "1   鼠标  150.3   50\n",
      "2   小刀    1.5  200\n",
      "查看所有元素的值\n",
      " [['小太阳' 320.9 100]\n",
      " ['鼠标' 150.3 50]\n",
      " ['小刀' 1.5 200]]\n",
      "查看所有元素的类型\n",
      " 名称     object\n",
      "单价    float64\n",
      "数量      int64\n",
      "dtype: object\n",
      "查看所有行名称\n",
      " [0, 1, 2]\n",
      "    名称     单价   数量\n",
      "1  小太阳  320.9  100\n",
      "2   鼠标  150.3   50\n",
      "3   小刀    1.5  200\n",
      "查看列索引\n",
      " Index(['名称', '单价', '数量'], dtype='object')\n",
      "  商品名称   最新单价  实时数量\n",
      "1  小太阳  320.9   100\n",
      "2   鼠标  150.3    50\n",
      "3   小刀    1.5   200\n"
     ]
    }
   ],
   "execution_count": 3
  },
  {
   "cell_type": "code",
   "execution_count": 14,
   "metadata": {},
   "outputs": [
    {
     "name": "stdout",
     "output_type": "stream",
     "text": [
      "               1      2     3\n",
      "商品名称  小太阳   鼠标  小刀\n",
      "最新单价   320.9  150.3   1.5\n",
      "实时数量     100     50   200\n",
      "查看前N条数据\n",
      "   商品名称  最新单价  实时数量\n",
      "1   小太阳     320.9       100\n",
      "查看后N条数据\n",
      "   商品名称  最新单价  实时数量\n",
      "3     小刀       1.5       200\n"
     ]
    }
   ],
   "source": [
    "# 行列数据的转换\n",
    "pd.set_option('display.unicode.east_asian_width',True) # 规整 格式\n",
    "new_df=df.T\n",
    "print(new_df)\n",
    "\n",
    "print('查看前N条数据\\n',df.head(1))\n",
    "print('查看后N条数据\\n',df.tail(1))"
   ]
  },
  {
   "cell_type": "code",
   "metadata": {
    "ExecuteTime": {
     "end_time": "2024-10-09T12:27:24.243670Z",
     "start_time": "2024-10-09T12:27:24.231525Z"
    }
   },
   "source": [
    "# 查看行和列shaple[0]表示行，shape[1]表示列\n",
    "print('行',df.shape[0],'列',df.shape[1])"
   ],
   "outputs": [
    {
     "name": "stdout",
     "output_type": "stream",
     "text": [
      "行 3 列 3\n"
     ]
    }
   ],
   "execution_count": 2
  },
  {
   "cell_type": "code",
   "execution_count": 16,
   "metadata": {},
   "outputs": [
    {
     "name": "stdout",
     "output_type": "stream",
     "text": [
      "查看索引、数据类型、内存信息\n",
      " <bound method DataFrame.info of   商品名称  最新单价  实时数量\n",
      "1   小太阳     320.9       100\n",
      "2     鼠标     150.3        50\n",
      "3     小刀       1.5       200>\n"
     ]
    }
   ],
   "source": [
    "print('查看索引、数据类型、内存信息\\n',df.info)"
   ]
  },
  {
   "cell_type": "code",
   "execution_count": null,
   "metadata": {},
   "outputs": [],
   "source": []
  }
 ],
 "metadata": {
  "kernelspec": {
   "display_name": "Python 3",
   "language": "python",
   "name": "python3"
  },
  "language_info": {
   "codemirror_mode": {
    "name": "ipython",
    "version": 3
   },
   "file_extension": ".py",
   "mimetype": "text/x-python",
   "name": "python",
   "nbconvert_exporter": "python",
   "pygments_lexer": "ipython3",
   "version": "3.7.6"
  }
 },
 "nbformat": 4,
 "nbformat_minor": 4
}
