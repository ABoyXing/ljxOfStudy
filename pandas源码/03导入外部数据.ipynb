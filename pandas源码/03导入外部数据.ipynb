{
 "cells": [
  {
   "cell_type": "code",
   "execution_count": 1,
   "metadata": {},
   "outputs": [
    {
     "name": "stdout",
     "output_type": "stream",
     "text": [
      "    0    1       2\n",
      "0  42  148  77.89%\n",
      "1  41   12   6.32%\n",
      "2  44    6   3.16%\n",
      "3  39    3   1.58%\n",
      "4  43   13   6.84%\n",
      "5  40    8   4.21%\n"
     ]
    }
   ],
   "source": [
    "# 导入外部数据\n",
    "# 导入Excel文件\n",
    "import pandas as pd \n",
    "df=pd.read_excel('京东鞋子评论信息.xlsx',sheet_name='码数分析',header=None)\n",
    "print(df)"
   ]
  },
  {
   "cell_type": "code",
   "execution_count": 2,
   "metadata": {},
   "outputs": [
    {
     "name": "stdout",
     "output_type": "stream",
     "text": [
      "     姓名\n",
      "0    刘垒\n",
      "1    于双\n",
      "2    丁宁\n",
      "3   高春艳\n",
      "4    李帅\n",
      "5    赵颖\n",
      "6    张翠\n",
      "7   仲光军\n",
      "8   杨春岩\n",
      "9    裴育\n",
      "10  吴先智\n",
      "11  张丽颖\n",
      "12   朱岩\n",
      "13  张海东\n",
      "14   吴妍\n",
      "15  付志伟\n",
      "16  姜海龙\n",
      "17   陈六\n",
      "18  于文双\n",
      "19  丁丽宁\n",
      "20   高艳\n",
      "21  李帅帅\n",
      "22  赵丽颖\n",
      "23   张丽\n",
      "24   李军\n",
      "25   杨岩\n",
      "26   裴浩\n",
      "27  吴丽丽\n",
      "28   张颖\n",
      "29  朱小岩\n",
      "30  张正东\n",
      "31  吴小红\n",
      "32   付伟\n",
      "33   姜龙\n"
     ]
    }
   ],
   "source": [
    "# 导入一列数据\n",
    "import pandas as pd\n",
    "df=pd.read_excel('02微机原理学员成绩统计.xlsx',sheet_name='02微机原理及格学员名单',usecols=[1])\n",
    "print(df)"
   ]
  },
  {
   "cell_type": "code",
   "execution_count": 4,
   "metadata": {},
   "outputs": [
    {
     "name": "stdout",
     "output_type": "stream",
     "text": [
      "      姓名  总成绩\n",
      "0     刘垒      71\n",
      "1     于双      69\n",
      "2     丁宁      65\n",
      "3   高春艳      67\n",
      "4     李帅      73\n",
      "5     赵颖      69\n",
      "6     张翠      65\n",
      "7   仲光军      61\n",
      "8   杨春岩      62\n",
      "9     裴育      64\n",
      "10  吴先智      64\n",
      "11  张丽颖      61\n",
      "12    朱岩      61\n",
      "13  张海东      65\n",
      "14    吴妍      70\n",
      "15  付志伟      83\n",
      "16  姜海龙      73\n",
      "17    陈六      71\n",
      "18  于文双      69\n",
      "19  丁丽宁      65\n",
      "20    高艳      67\n",
      "21  李帅帅      73\n",
      "22  赵丽颖      69\n",
      "23    张丽      65\n",
      "24    李军      61\n",
      "25    杨岩      62\n",
      "26    裴浩      64\n",
      "27  吴丽丽      64\n",
      "28    张颖      61\n",
      "29  朱小岩      61\n",
      "30  张正东      65\n",
      "31  吴小红      70\n",
      "32    付伟      83\n",
      "33    姜龙      73\n"
     ]
    }
   ],
   "source": [
    "# 导入多列数据\n",
    "import pandas as pd\n",
    "pd.set_option('display.unicode.east_asian_width',True)\n",
    "df=pd.read_excel('02微机原理学员成绩统计.xlsx',sheet_name='02微机原理及格学员名单',usecols=['姓名','总成绩'])\n",
    "print(df)"
   ]
  },
  {
   "cell_type": "code",
   "execution_count": 8,
   "metadata": {},
   "outputs": [
    {
     "name": "stdout",
     "output_type": "stream",
     "text": [
      "                                                               评论  \\\n",
      "0                       外观颜值：很不错，颜值很高。                  \n",
      "1                         外观颜值：简约时尚，颜值高                  \n",
      "2                       舒适度：很好，很轻便，不挤脚                  \n",
      "3  总体来说不错，就是刚打开的时候味道有点呛，通风过之后就没了......   \n",
      "4       鞋子样式不错，就是鞋底太硬了&hellip;&hellip;                  \n",
      "\n",
      "                  时间  颜色  尺码  Unnamed: 4  \n",
      "0  2020-05-14 14:32:58  黑色  41.0         NaN  \n",
      "1  2020-05-11 12:40:34  黑色  41.0         NaN  \n",
      "2  2020-04-25 13:41:45  黑色  41.0         NaN  \n",
      "3  2020-04-28 15:38:31  黑色  41.0         NaN  \n",
      "4  2020-04-09 14:06:30  灰色  41.0         NaN  \n"
     ]
    }
   ],
   "source": [
    "# 导入CSV文件\n",
    "import pandas as pd\n",
    "pd.set_option('display.unicode.east_asian_width',True)\n",
    "df=pd.read_csv('京东鞋子评论数据.csv',sep=',',encoding='gbk')\n",
    "print(df.head())"
   ]
  },
  {
   "cell_type": "code",
   "metadata": {
    "ExecuteTime": {
     "end_time": "2024-08-20T14:14:31.504205Z",
     "start_time": "2024-08-20T14:14:31.445208Z"
    }
   },
   "source": [
    "# 导入txt文件\n",
    "import pandas as pd\n",
    "pd.set_option('display.unicode.east_asian_width',True)\n",
    "df=pd.read_csv('rating.txt',sep='\\t',encoding='gbk',header=None)\n",
    "print(df.head())"
   ],
   "outputs": [
    {
     "name": "stdout",
     "output_type": "stream",
     "text": [
      "     0    1  2          3\n",
      "0  196  242  3  881250949\n",
      "1  186  302  3  891717742\n",
      "2   22  377  1  878887116\n",
      "3  244   51  2  880606923\n",
      "4  166  346  1  886397596\n"
     ]
    }
   ],
   "execution_count": 2
  },
  {
   "cell_type": "code",
   "metadata": {
    "ExecuteTime": {
     "end_time": "2024-08-20T14:14:26.641803Z",
     "start_time": "2024-08-20T14:14:24.885802Z"
    }
   },
   "source": [
    "# 导入HTML\n",
    "import pandas as pd\n",
    "url='http://www.espn.com/nba/salaries'\n",
    "\n",
    "df=pd.DataFrame() # 创建一个空的DataFrame对象\n",
    "\n",
    "# DataFrame添加数据\n",
    "df=df.append(pd.read_html(url,header=0))\n",
    "print(df)\n",
    "\n",
    "# 保存成CSV文件\n",
    "df.to_csv('nbasalary.csv',index=False)"
   ],
   "outputs": [
    {
     "ename": "AttributeError",
     "evalue": "'DataFrame' object has no attribute 'append'",
     "output_type": "error",
     "traceback": [
      "\u001B[1;31m---------------------------------------------------------------------------\u001B[0m",
      "\u001B[1;31mAttributeError\u001B[0m                            Traceback (most recent call last)",
      "Cell \u001B[1;32mIn[1], line 8\u001B[0m\n\u001B[0;32m      5\u001B[0m df\u001B[38;5;241m=\u001B[39mpd\u001B[38;5;241m.\u001B[39mDataFrame() \u001B[38;5;66;03m# 创建一个空的DataFrame对象\u001B[39;00m\n\u001B[0;32m      7\u001B[0m \u001B[38;5;66;03m# DataFrame添加数据\u001B[39;00m\n\u001B[1;32m----> 8\u001B[0m df\u001B[38;5;241m=\u001B[39m\u001B[43mdf\u001B[49m\u001B[38;5;241;43m.\u001B[39;49m\u001B[43mappend\u001B[49m(pd\u001B[38;5;241m.\u001B[39mread_html(url,header\u001B[38;5;241m=\u001B[39m\u001B[38;5;241m0\u001B[39m))\n\u001B[0;32m      9\u001B[0m \u001B[38;5;28mprint\u001B[39m(df)\n\u001B[0;32m     11\u001B[0m \u001B[38;5;66;03m# 保存成CSV文件\u001B[39;00m\n",
      "File \u001B[1;32mD:\\Python\\python3.10.11\\lib\\site-packages\\pandas\\core\\generic.py:6299\u001B[0m, in \u001B[0;36mNDFrame.__getattr__\u001B[1;34m(self, name)\u001B[0m\n\u001B[0;32m   6292\u001B[0m \u001B[38;5;28;01mif\u001B[39;00m (\n\u001B[0;32m   6293\u001B[0m     name \u001B[38;5;129;01mnot\u001B[39;00m \u001B[38;5;129;01min\u001B[39;00m \u001B[38;5;28mself\u001B[39m\u001B[38;5;241m.\u001B[39m_internal_names_set\n\u001B[0;32m   6294\u001B[0m     \u001B[38;5;129;01mand\u001B[39;00m name \u001B[38;5;129;01mnot\u001B[39;00m \u001B[38;5;129;01min\u001B[39;00m \u001B[38;5;28mself\u001B[39m\u001B[38;5;241m.\u001B[39m_metadata\n\u001B[0;32m   6295\u001B[0m     \u001B[38;5;129;01mand\u001B[39;00m name \u001B[38;5;129;01mnot\u001B[39;00m \u001B[38;5;129;01min\u001B[39;00m \u001B[38;5;28mself\u001B[39m\u001B[38;5;241m.\u001B[39m_accessors\n\u001B[0;32m   6296\u001B[0m     \u001B[38;5;129;01mand\u001B[39;00m \u001B[38;5;28mself\u001B[39m\u001B[38;5;241m.\u001B[39m_info_axis\u001B[38;5;241m.\u001B[39m_can_hold_identifiers_and_holds_name(name)\n\u001B[0;32m   6297\u001B[0m ):\n\u001B[0;32m   6298\u001B[0m     \u001B[38;5;28;01mreturn\u001B[39;00m \u001B[38;5;28mself\u001B[39m[name]\n\u001B[1;32m-> 6299\u001B[0m \u001B[38;5;28;01mreturn\u001B[39;00m \u001B[38;5;28;43mobject\u001B[39;49m\u001B[38;5;241;43m.\u001B[39;49m\u001B[38;5;21;43m__getattribute__\u001B[39;49m\u001B[43m(\u001B[49m\u001B[38;5;28;43mself\u001B[39;49m\u001B[43m,\u001B[49m\u001B[43m \u001B[49m\u001B[43mname\u001B[49m\u001B[43m)\u001B[49m\n",
      "\u001B[1;31mAttributeError\u001B[0m: 'DataFrame' object has no attribute 'append'"
     ]
    }
   ],
   "execution_count": 1
  },
  {
   "cell_type": "code",
   "execution_count": null,
   "metadata": {},
   "outputs": [],
   "source": []
  }
 ],
 "metadata": {
  "kernelspec": {
   "display_name": "Python 3",
   "language": "python",
   "name": "python3"
  },
  "language_info": {
   "codemirror_mode": {
    "name": "ipython",
    "version": 3
   },
   "file_extension": ".py",
   "mimetype": "text/x-python",
   "name": "python",
   "nbconvert_exporter": "python",
   "pygments_lexer": "ipython3",
   "version": "3.7.6"
  }
 },
 "nbformat": 4,
 "nbformat_minor": 4
}
