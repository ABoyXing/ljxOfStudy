{
 "cells": [
  {
   "cell_type": "code",
   "execution_count": 4,
   "metadata": {},
   "outputs": [
    {
     "name": "stdout",
     "output_type": "stream",
     "text": [
      "      数学  语文  英语\n",
      "张三    45    65   100\n",
      "李四    56    45    50\n",
      "王五    67    67    67\n",
      "      数学  语文  英语  政治\n",
      "张三    45    65   100    90\n",
      "李四    56    45    50    89\n",
      "王五    67    67    67   100\n",
      "      数学  语文  英语  政治  化学\n",
      "张三    45    65   100    90   100\n",
      "李四    56    45    50    89    30\n",
      "王五    67    67    67   100    98\n",
      "      数学  历史  语文  英语  政治  化学\n",
      "张三    45   100    65   100    90   100\n",
      "李四    56    90    45    50    89    30\n",
      "王五    67    99    67    67   100    98\n"
     ]
    }
   ],
   "source": [
    "# 数据的增加-按列增加\n",
    "import pandas as pd\n",
    "pd.set_option('display.unicode.east_asian_width',True)\n",
    "data=[[45,65,100],[56,45,50],[67,67,67]]\n",
    "index=['张三','李四','王五']\n",
    "columns=['数学','语文','英语']\n",
    "df=pd.DataFrame(data=data,index=index,columns=columns)\n",
    "print(df)\n",
    "\n",
    "#采用直接赋值的方式\n",
    "df['政治']=[90,89,100]\n",
    "print(df)\n",
    "\n",
    "# 使用loc属性在DataFrame的最后一列增加\n",
    "df.loc[:,'化学']=[100,30,98]\n",
    "print(df)\n",
    "\n",
    "# 在指定的索引位置上插入一列\n",
    "lst=[100,90,99]\n",
    "df.insert(1,'历史',lst)\n",
    "print(df)"
   ]
  },
  {
   "cell_type": "code",
   "execution_count": 10,
   "metadata": {},
   "outputs": [
    {
     "name": "stdout",
     "output_type": "stream",
     "text": [
      "      数学  语文  英语\n",
      "张三    45    65   100\n",
      "李四    56    45    50\n",
      "王五    67    67    67\n",
      "----------------------\n",
      "      数学  语文  英语\n",
      "张三    45    65   100\n",
      "李四    56    45    50\n",
      "王五    67    67    67\n",
      "陈六    56    67    90\n",
      "        数学  语文  英语\n",
      "张三      45    65   100\n",
      "李四      56    45    50\n",
      "王五      67    67    67\n",
      "陈六      56    67    90\n",
      "张丽丽    67    56   100\n",
      "王一一    69    78    99\n"
     ]
    }
   ],
   "source": [
    "import pandas as pd\n",
    "pd.set_option('display.unicode.east_asian_width',True)\n",
    "data=[[45,65,100],[56,45,50],[67,67,67]]\n",
    "index=['张三','李四','王五']\n",
    "columns=['数学','语文','英语']\n",
    "df=pd.DataFrame(data=data,index=index,columns=columns)\n",
    "print(df)\n",
    "print('----------------------')\n",
    "df.loc['陈六']=[56,67,90]\n",
    "print(df)\n",
    "\n",
    "# 新建一个DataFrame\n",
    "new_df=pd.DataFrame(\n",
    "  data={'数学':[67,69],'语文':[56,78],'英语':[100,99]},\n",
    "  index=['张丽丽','王一一']\n",
    ")\n",
    "#print(new_df)\n",
    "df=df.append(new_df)\n",
    "print(df)"
   ]
  },
  {
   "cell_type": "code",
   "execution_count": 23,
   "metadata": {},
   "outputs": [
    {
     "name": "stdout",
     "output_type": "stream",
     "text": [
      "      数学  语文  英语\n",
      "张三    45    65   100\n",
      "李四    56    45    50\n",
      "王五    67    67    67\n",
      "      数学（上）  语文（上）  英语（上）\n",
      "张三          45          65         100\n",
      "李四          56          45          50\n",
      "王五          67          67          67\n",
      "      数学（下）  语文（下）  英语（下）\n",
      "张三          45          65         100\n",
      "李四          56          45          50\n",
      "王五          67          67          67\n"
     ]
    }
   ],
   "source": [
    "#修改列标题\n",
    "import pandas as pd\n",
    "pd.set_option('display.unicode.east_asian_width',True)\n",
    "data=[[45,65,100],[56,45,50],[67,67,67]]\n",
    "index=['张三','李四','王五']\n",
    "columns=['数学','语文','英语']\n",
    "df=pd.DataFrame(data=data,index=index,columns=columns)\n",
    "print(df)\n",
    "\n",
    "# (1)直接使用columns属性\n",
    "df.columns=['数学（上）','语文（上）','英语（上）']\n",
    "print(df)\n",
    "\n",
    "# (2)rename  ,inplace参数的作用，是是否直接修改DataFrame\n",
    "df.rename(columns={'数学（上）':'数学（下）','语文（上）':'语文（下）','英语（上）':'英语（下）'},inplace=True)\n",
    "print(df)"
   ]
  },
  {
   "cell_type": "code",
   "execution_count": 28,
   "metadata": {},
   "outputs": [
    {
     "name": "stdout",
     "output_type": "stream",
     "text": [
      "      数学  语文  英语\n",
      "张三    45    65   100\n",
      "李四    56    45    50\n",
      "王五    67    67    67\n",
      "   数学  语文  英语\n",
      "1    45    65   100\n",
      "2    56    45    50\n",
      "3    67    67    67\n",
      "      数学  语文  英语\n",
      "一一    45    65   100\n",
      "二二    56    45    50\n",
      "三三    67    67    67\n"
     ]
    }
   ],
   "source": [
    "# 修改行标题\n",
    "import pandas as pd\n",
    "pd.set_option('display.unicode.east_asian_width',True)\n",
    "data=[[45,65,100],[56,45,50],[67,67,67]]\n",
    "index=['张三','李四','王五']\n",
    "columns=['数学','语文','英语']\n",
    "df=pd.DataFrame(data=data,index=index,columns=columns)\n",
    "print(df)\n",
    "\n",
    "\n",
    "#(1)直接赋值\n",
    "df.index=list('123')\n",
    "\n",
    "print(df)\n",
    "\n",
    "# (2)rename()\n",
    "df.rename({'1':'一一','2':'二二','3':'三三'},inplace=True,axis=0)\n",
    "print(df)"
   ]
  },
  {
   "cell_type": "code",
   "execution_count": 35,
   "metadata": {},
   "outputs": [
    {
     "name": "stdout",
     "output_type": "stream",
     "text": [
      "      数学  语文  英语\n",
      "张三    45    65   100\n",
      "李四    56    45    50\n",
      "王五    67    67    67\n",
      "      数学  语文  英语\n",
      "张三   100   100   120\n",
      "李四    56    45    50\n",
      "王五    67    67    67\n",
      "      数学  语文  英语\n",
      "张三    90    90    90\n",
      "李四    56    45    50\n",
      "王五    67    67    67\n",
      "-------------------------\n",
      "      数学  语文  英语\n",
      "张三   100    90    90\n",
      "李四   100    45    50\n",
      "王五   100    67    67\n",
      "      数学  语文  英语\n",
      "张三    90    90    90\n",
      "李四    90    45    50\n",
      "王五    90    67    67\n",
      "      数学  语文  英语\n",
      "张三    90    90    90\n",
      "李四    90   100    50\n",
      "王五    90    67    67\n",
      "      数学  语文  英语\n",
      "张三    90    90    90\n",
      "李四    90    80    50\n",
      "王五    90    67    67\n"
     ]
    }
   ],
   "source": [
    "#修改数据\n",
    "import pandas as pd\n",
    "pd.set_option('display.unicode.east_asian_width',True)\n",
    "data=[[45,65,100],[56,45,50],[67,67,67]]\n",
    "index=['张三','李四','王五']\n",
    "columns=['数学','语文','英语']\n",
    "df=pd.DataFrame(data=data,index=index,columns=columns)\n",
    "print(df)\n",
    "\n",
    "#修改一整行\n",
    "df.loc['张三']=[100,100,120]\n",
    "print(df)\n",
    "\n",
    "df.iloc[0,:]=[90,90,90] # 修改第0行的所有列\n",
    "print(df)\n",
    "\n",
    "# 修改整列数据\n",
    "print('-------------------------')\n",
    "df.loc[:,'数学']=[100,100,100]\n",
    "print(df)\n",
    "df.iloc[:,0]=90\n",
    "print(df)\n",
    "\n",
    "\n",
    "#修改某一处的数据\n",
    "df.loc['李四','语文']=100\n",
    "print(df)\n",
    "\n",
    "df.iloc[1,1]=80\n",
    "print(df)"
   ]
  },
  {
   "cell_type": "code",
   "execution_count": 50,
   "metadata": {},
   "outputs": [
    {
     "name": "stdout",
     "output_type": "stream",
     "text": [
      "      数学  语文  英语\n",
      "张三    45    65   100\n",
      "李四    56    45    50\n",
      "王五    67    67    67\n",
      "------------------\n",
      "      数学  语文  英语\n",
      "张三    45    65   100\n",
      "王五    67    67    67\n"
     ]
    }
   ],
   "source": [
    "# 删除数据\n",
    "\n",
    "import pandas as pd\n",
    "pd.set_option('display.unicode.east_asian_width',True)\n",
    "data=[[45,65,100],[56,45,50],[67,67,67]]\n",
    "index=['张三','李四','王五']\n",
    "columns=['数学','语文','英语']\n",
    "df=pd.DataFrame(data=data,index=index,columns=columns)\n",
    "print(df)\n",
    "print('------------------')\n",
    "# 删除数学列\n",
    "#df.drop(['数学'],axis=1,inplace=True)\n",
    "\n",
    "#df.drop(columns='数学',inplace=True)\n",
    "\n",
    "#df.drop(labels='数学',axis=1,inplace=True)\n",
    "\n",
    "# 删除行\n",
    "#df.drop(['张三'],axis=0,inplace=True)\n",
    "\n",
    "#df.drop(index='张三',inplace=True)\n",
    "\n",
    "#df.drop(labels='张三',axis=0,inplace=True)\n",
    "\n",
    "\n",
    "\n",
    "#带条件的删除，删除数学成绩小于60\n",
    "df.drop(df[df['数学']<60].index[1],inplace=True)  # 数学成绩中小于60的，有张三和李四，删除行索引1的李四\n",
    "#print(df[df['数学']<60].index[1])\n",
    "print(df)"
   ]
  },
  {
   "cell_type": "code",
   "execution_count": null,
   "metadata": {},
   "outputs": [],
   "source": []
  }
 ],
 "metadata": {
  "kernelspec": {
   "display_name": "Python 3",
   "language": "python",
   "name": "python3"
  },
  "language_info": {
   "codemirror_mode": {
    "name": "ipython",
    "version": 3
   },
   "file_extension": ".py",
   "mimetype": "text/x-python",
   "name": "python",
   "nbconvert_exporter": "python",
   "pygments_lexer": "ipython3",
   "version": "3.7.6"
  }
 },
 "nbformat": 4,
 "nbformat_minor": 4
}
