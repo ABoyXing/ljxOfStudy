{
 "cells": [
  {
   "cell_type": "code",
   "execution_count": 9,
   "metadata": {},
   "outputs": [
    {
     "name": "stdout",
     "output_type": "stream",
     "text": [
      "  客户名称                                          快递地址      省         市             区\n",
      "0   李明玉  陕西省 西安市 长安中路888号 西安音乐学院教研中心  陕西省     西安市  长安中路888号\n",
      "1   张凤香                河北省 唐山市 乐亭县 财富大街990号  河北省     唐山市         乐亭县\n",
      "2   王红军   上海市 浦东‭新区 快乐路867 快乐城市1111号8808室  上海市  浦东‭新区      快乐路867\n",
      "3     牛犇                  河北省 唐山市 开发区 喜庆道100号  河北省     唐山市         开发区\n",
      "4     马明                  台湾省 台北市 开发区 经济路101号  台湾省     台北市         开发区\n"
     ]
    }
   ],
   "source": [
    "import pandas as pd\n",
    "pd.set_option('display.unicode.east_asian_width',True)\n",
    "pd.set_option('display.width',1000)\n",
    "pd.set_option('display.max_columns',500)\n",
    "df=pd.read_excel(r'pandas源码\\快递发货单.xlsx',usecols=['客户名称','快递地址'])\n",
    "#print(df.head())\n",
    "#print(type(df['快递地址']))\n",
    "new_df=df['快递地址'].str.split(' ',expand=True) # expand=True表示结果转成DataFrame\n",
    "#print(new_df)\n",
    "#print(df)\n",
    "df['省']=new_df[0]\n",
    "df['市']=new_df[1]\n",
    "df['区']=new_df[2]\n",
    "print(df.head())"
   ]
  },
  {
   "cell_type": "code",
   "execution_count": 13,
   "metadata": {},
   "outputs": [
    {
     "name": "stdout",
     "output_type": "stream",
     "text": [
      "   a       b\n",
      "0  1  (1, 2)\n",
      "1  2  (2, 3)\n",
      "2  3  (3, 4)\n",
      "3  4  (5, 6)\n",
      "4  5  (7, 8)\n",
      "   a       b  0  1\n",
      "0  1  (1, 2)  1  2\n",
      "1  2  (2, 3)  2  3\n",
      "2  3  (3, 4)  3  4\n",
      "3  4  (5, 6)  5  6\n",
      "4  5  (7, 8)  7  8\n"
     ]
    }
   ],
   "source": [
    "\n",
    "import pandas as pd\n",
    "data={\n",
    "    \n",
    "    'a':[1,2,3,4,5],\n",
    "    'b':[(1,2),(2,3),(3,4),(5,6),(7,8)]\n",
    "}\n",
    "df=pd.DataFrame(data=data)\n",
    "print(df)\n",
    "#df[['b1','b2']]=df['b'].apply(pd.Series)\n",
    "#print(df)\n",
    "\n",
    "# join()与apply()\n",
    "df=df.join(df['b'].apply(pd.Series))\n",
    "print(df)"
   ]
  },
  {
   "cell_type": "code",
   "execution_count": 20,
   "metadata": {},
   "outputs": [
    {
     "name": "stdout",
     "output_type": "stream",
     "text": [
      "班级  序号    \n",
      "1班   1     姓名    王*亮\n",
      "            得分       84\n",
      "            排名       11\n",
      "      2     姓名     杨**\n",
      "            得分       82\n",
      "            排名       17\n",
      "dtype: object\n"
     ]
    }
   ],
   "source": [
    "#行列转换，将列索引转成行\n",
    "import pandas as pd\n",
    "df=pd.read_excel('grade.xlsx')\n",
    "#print(df.head())\n",
    "df=df.set_index(['班级','序号'])\n",
    "#print(df.head())\n",
    "df=df.stack()\n",
    "print(df.head(6))"
   ]
  },
  {
   "cell_type": "code",
   "execution_count": 23,
   "metadata": {},
   "outputs": [
    {
     "name": "stdout",
     "output_type": "stream",
     "text": [
      "           Unnamed: 3          \n",
      "Unnamed: 2       姓名 得分 排名\n",
      "班级 序号                      \n",
      "1班  1          王*亮   84   11\n",
      "     2           杨**   82   17\n",
      "     3          王*彬   78   37\n",
      "2班  4          赛*琪   77   51\n",
      "     5           刘**   76   64\n",
      "     6          刘*彤   74   89\n"
     ]
    }
   ],
   "source": [
    "#行列转换\n",
    "import pandas as pd\n",
    "df=pd.read_excel('grade2.xls',sheet_name='英语2')\n",
    "#print(df.head(6))\n",
    "df=df.set_index(['班级','序号','Unnamed: 2'])\n",
    "print(df.unstack())"
   ]
  },
  {
   "cell_type": "code",
   "execution_count": 25,
   "metadata": {},
   "outputs": [
    {
     "name": "stdout",
     "output_type": "stream",
     "text": [
      "班级  1班  2班  3班  4班  5班\n",
      "序号                         \n",
      "1      84   77   72   72   70\n",
      "2      82   76   72   72   68\n",
      "3      78   74   72   70   68\n"
     ]
    }
   ],
   "source": [
    "import pandas as pd \n",
    "df=pd.read_excel('grade3.xlsx')\n",
    "#print(df.head())\n",
    "print(df.pivot(index='序号',columns='班级',values='得分'))"
   ]
  },
  {
   "cell_type": "code",
   "execution_count": 29,
   "metadata": {},
   "outputs": [
    {
     "name": "stdout",
     "output_type": "stream",
     "text": [
      "DVD光驱 : 150\n",
      "SD存储卡 : 44\n",
      "手写板 : 57\n",
      "无线网卡 : 40\n",
      "蓝牙适配器 : 322\n",
      "键盘 : 140\n",
      "麦克风 : 178\n",
      "鼠标 : 166\n"
     ]
    }
   ],
   "source": [
    "# 将DataFrame转换成字典\n",
    "import pandas as pd\n",
    "df=pd.read_excel('电脑配件销售记录.xlsx')\n",
    "#print(df.head())\n",
    "df1=df.groupby('产品名称')['数量'].sum() #根据产品名称分组，统计数量\n",
    "\n",
    "mydict=df1.to_dict() # 将DataFrame转成了字典\n",
    "for item in mydict:\n",
    "    print(item,':',mydict[item])"
   ]
  },
  {
   "cell_type": "code",
   "execution_count": 38,
   "metadata": {},
   "outputs": [
    {
     "name": "stdout",
     "output_type": "stream",
     "text": [
      "['无线网卡', '无线网卡', '鼠标', '鼠标', '鼠标', '鼠标', '鼠标', '手写板', '手写板', '麦克风', '麦克风', '麦克风', '麦克风', '麦克风', '蓝牙适配器', '蓝牙适配器', '蓝牙适配器', '蓝牙适配器', '蓝牙适配器', '蓝牙适配器', '键盘', '键盘', 'SD存储卡', 'SD存储卡', 'SD存储卡', 'DVD光驱', 'DVD光驱', 'DVD光驱', 'DVD光驱']\n",
      "<class 'list'>\n"
     ]
    }
   ],
   "source": [
    "# 将DataFrame数据转成列表\n",
    "import pandas as pd\n",
    "df=pd.read_excel('电脑配件销售记录.xlsx')\n",
    "#print(df.head())\n",
    "df1=df[['产品名称']]\n",
    "lst=df1['产品名称'].values.tolist()\n",
    "#lst=df1['产品名称'].tolist()\n",
    "print(lst)\n",
    "print(type(lst))"
   ]
  },
  {
   "cell_type": "code",
   "execution_count": 44,
   "metadata": {},
   "outputs": [
    {
     "name": "stdout",
     "output_type": "stream",
     "text": [
      "('无线网卡', '王丽', 10)\n",
      "('无线网卡', '李桂林', 30)\n",
      "('鼠标', '李欢', 6)\n",
      "('鼠标', '李欢', 15)\n",
      "('鼠标', '李桂林', 16)\n",
      "('鼠标', '王双', 52)\n",
      "('鼠标', '李桂林', 77)\n",
      "('手写板', '华国华', 14)\n",
      "('手写板', '王丽', 43)\n",
      "('麦克风', '王丽', 4)\n",
      "('麦克风', '王丽', 10)\n",
      "('麦克风', '华国华', 47)\n",
      "('麦克风', '李桂林', 55)\n",
      "('麦克风', '李欢', 62)\n",
      "('蓝牙适配器', '李桂林', 18)\n",
      "('蓝牙适配器', '李桂林', 39)\n",
      "('蓝牙适配器', '王丽', 51)\n",
      "('蓝牙适配器', '李桂林', 58)\n",
      "('蓝牙适配器', '李桂林', 61)\n",
      "('蓝牙适配器', '李欢', 95)\n",
      "('键盘', '华国华', 20)\n",
      "('键盘', '王丽', 120)\n",
      "('SD存储卡', '李欢', 9)\n",
      "('SD存储卡', '李桂林', 15)\n",
      "('SD存储卡', '李桂林', 20)\n",
      "('DVD光驱', '王丽', 30)\n",
      "('DVD光驱', '王丽', 32)\n",
      "('DVD光驱', '华国华', 40)\n",
      "('DVD光驱', '华国华', 48)\n"
     ]
    }
   ],
   "source": [
    "# 将DataFrame转成元组\n",
    "import pandas as pd\n",
    "df=pd.read_excel('电脑配件销售记录.xlsx')\n",
    "#print(df.head())\n",
    "df1=df[['产品名称','销售员','数量']]\n",
    "#print(df1)\n",
    "t=[tuple (x) for x in df1.values]\n",
    "for item in t:\n",
    "    print(item)\n",
    "#print(df1.values)"
   ]
  },
  {
   "cell_type": "code",
   "execution_count": 48,
   "metadata": {},
   "outputs": [
    {
     "name": "stdout",
     "output_type": "stream",
     "text": [
      "   产品名称  销售员  数量  标准单价  成交金额\n",
      "0  无线网卡    王丽    10       178      1780\n",
      "1  无线网卡  李桂林    30       178      5340\n",
      "2      鼠标    李欢     6       299      1794\n",
      "3      鼠标    李欢    15       299      4485\n",
      "4      鼠标  李桂林    16       299      4784\n"
     ]
    }
   ],
   "source": [
    "import pandas as pd\n",
    "df=pd.read_excel('电脑配件销售记录.xlsx')\n",
    "print(df.head())\n",
    "df.to_html('电脑配件销售记录.html',header=True,index=False)"
   ]
  },
  {
   "cell_type": "code",
   "execution_count": null,
   "metadata": {},
   "outputs": [],
   "source": []
  }
 ],
 "metadata": {
  "kernelspec": {
   "display_name": "Python 3",
   "language": "python",
   "name": "python3"
  },
  "language_info": {
   "codemirror_mode": {
    "name": "ipython",
    "version": 3
   },
   "file_extension": ".py",
   "mimetype": "text/x-python",
   "name": "python",
   "nbconvert_exporter": "python",
   "pygments_lexer": "ipython3",
   "version": "3.7.6"
  }
 },
 "nbformat": 4,
 "nbformat_minor": 4
}
