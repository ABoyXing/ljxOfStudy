{
 "cells": [
  {
   "cell_type": "code",
   "execution_count": 4,
   "metadata": {},
   "outputs": [],
   "source": [
    "# 保存成Excel文件\n",
    "import pandas as pd\n",
    "df=pd.DataFrame(\n",
    "{\n",
    "    '编号':['1001','1002','1003'],\n",
    "    '姓名':['张三','李四','王五']\n",
    "})\n",
    "df.to_excel('数据导出-学生信息.xlsx',index=False,sheet_name='学生信息表') #index=False不导出索引"
   ]
  },
  {
   "cell_type": "code",
   "execution_count": 6,
   "metadata": {},
   "outputs": [],
   "source": [
    "#导出到多个Sheet中\n",
    "import pandas as pd\n",
    "df=pd.DataFrame(\n",
    "{\n",
    "    '编号':['1001','1002','1003'],\n",
    "    '姓名':['张三','李四','王五'],\n",
    "    '总成绩':[740,658,543]\n",
    "})\n",
    "# 打开一个Excel文件\n",
    "work=pd.ExcelWriter('数据导出-多sheet.xlsx')\n",
    "\n",
    "df.to_excel(work,sheet_name='学生成绩信息',index=False)  # 导出到名称为\"学生成绩信息\"的sheet页\n",
    "\n",
    "df[['姓名','总成绩']].to_excel(work,sheet_name='成绩表',index=False)\n",
    "\n",
    "# 保存工作薄\n",
    "work.save()"
   ]
  },
  {
   "cell_type": "code",
   "execution_count": 10,
   "metadata": {},
   "outputs": [],
   "source": [
    "# 导出到csv文件中\n",
    "import pandas as pd\n",
    "df=pd.DataFrame(\n",
    "{\n",
    "    '编号':['1001','1002','1003'],\n",
    "    '姓名':['张三','李四','王五'],\n",
    "    '总成绩':[740.98,658.56,543.46]\n",
    "})\n",
    "df\n",
    "df.to_csv('学生成绩.csv',index=False,columns=['姓名','总成绩'],float_format='%.1f')"
   ]
  },
  {
   "cell_type": "code",
   "execution_count": null,
   "metadata": {},
   "outputs": [],
   "source": []
  }
 ],
 "metadata": {
  "kernelspec": {
   "display_name": "Python 3",
   "language": "python",
   "name": "python3"
  },
  "language_info": {
   "codemirror_mode": {
    "name": "ipython",
    "version": 3
   },
   "file_extension": ".py",
   "mimetype": "text/x-python",
   "name": "python",
   "nbconvert_exporter": "python",
   "pygments_lexer": "ipython3",
   "version": "3.7.6"
  }
 },
 "nbformat": 4,
 "nbformat_minor": 4
}
