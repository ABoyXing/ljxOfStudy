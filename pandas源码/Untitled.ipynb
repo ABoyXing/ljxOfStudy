{
 "cells": [
  {
   "cell_type": "code",
   "execution_count": 4,
   "metadata": {},
   "outputs": [
    {
     "name": "stdout",
     "output_type": "stream",
     "text": [
      "a    12\n",
      "b    23\n",
      "c    34\n",
      "dtype: int64\n"
     ]
    }
   ],
   "source": [
    "import pandas as pd\n",
    "s1=pd.Series([10,20,30],index=['a','b','c'])\n",
    "#print(s1)\n",
    "s2=pd.Series([2,3,4],index=['a','b','c'])\n",
    "#print(s2)\n",
    "print(s1+s2)"
   ]
  },
  {
   "cell_type": "code",
   "execution_count": 9,
   "metadata": {},
   "outputs": [
    {
     "name": "stdout",
     "output_type": "stream",
     "text": [
      "1    11\n",
      "2    22\n",
      "3    33\n",
      "dtype: int64\n",
      "1    11.0\n",
      "2    22.0\n",
      "3    33.0\n",
      "4     NaN\n",
      "5     NaN\n",
      "dtype: float64\n",
      "1    11\n",
      "2    22\n",
      "3    33\n",
      "4     0\n",
      "5     0\n",
      "dtype: int64\n",
      "1    11\n",
      "2    22\n",
      "3    33\n",
      "4    33\n",
      "5    33\n",
      "dtype: int64\n",
      "1    11.0\n",
      "2    22.0\n",
      "3    33.0\n",
      "4     NaN\n",
      "5     NaN\n",
      "dtype: float64\n"
     ]
    }
   ],
   "source": [
    "# Series重新设置索引\n",
    "import pandas as pd \n",
    "s=pd.Series([11,22,33],index=[1,2,3])\n",
    "print(s)\n",
    "\n",
    "# 重设置设置索引\n",
    "print(s.reindex(range(1,6)))  # 多出来两个为NaN\n",
    "\n",
    "# 使用0进行填充\n",
    "print(s.reindex(range(1,6),fill_value=0))\n",
    "\n",
    "# 向前填充和向后填充\n",
    "print(s.reindex(range(1,6),method='ffill')) #　向前填充\n",
    "\n",
    "print(s.reindex(range(1,6),method='bfill')) # 向后填充\n"
   ]
  },
  {
   "cell_type": "code",
   "execution_count": 16,
   "metadata": {},
   "outputs": [
    {
     "name": "stdout",
     "output_type": "stream",
     "text": [
      "         数学  语文  英语\n",
      "msb1001    90   100    90\n",
      "msb1002   100    39    89\n",
      "msb1003    49    79    87\n",
      "          数学   语文  英语\n",
      "msb1001   90.0  100.0  90.0\n",
      "msb1002  100.0   39.0  89.0\n",
      "msb1003   49.0   79.0  87.0\n",
      "msb1004    NaN    NaN   NaN\n",
      "msb1005    NaN    NaN   NaN\n",
      "         数学  语文  英语  政治  历史\n",
      "msb1001    90   100    90   NaN   NaN\n",
      "msb1002   100    39    89   NaN   NaN\n",
      "msb1003    49    79    87   NaN   NaN\n",
      "         数学  语文  英语  政治  历史\n",
      "msb1001    90   100    90     0     0\n",
      "msb1002   100    39    89     0     0\n",
      "msb1003    49    79    87     0     0\n",
      "msb1004     0     0     0     0     0\n",
      "msb1005     0     0     0     0     0\n"
     ]
    }
   ],
   "source": [
    "#DataFrame对象重新设置索引\n",
    "import pandas as pd\n",
    "pd.set_option('display.unicode.east_asian_width',True)\n",
    "data=[[90,100,90],[100,39,89],[49,79,87]]\n",
    "index=['msb1001','msb1002','msb1003']\n",
    "columns=['数学','语文','英语']\n",
    "df=pd.DataFrame(data=data,index=index,columns=columns)\n",
    "print(df)\n",
    "\n",
    "# 重新设置行索引\n",
    "print(df.reindex(['msb1001','msb1002','msb1003','msb1004','msb1005']))\n",
    "\n",
    "# 重新设置列索引\n",
    "print(df.reindex(columns=['数学','语文','英语','政治','历史']))\n",
    "\n",
    "# 设置行索引和列索引\n",
    "print(df.reindex(index=['msb1001','msb1002','msb1003','msb1004','msb1005'],columns=['数学','语文','英语','政治','历史'],fill_value=0))"
   ]
  },
  {
   "cell_type": "code",
   "execution_count": 18,
   "metadata": {},
   "outputs": [
    {
     "name": "stdout",
     "output_type": "stream",
     "text": [
      "            买家实际支付金额  课程总数量             课程标题   类别  \\\n",
      "买家会员名                                                             \n",
      "msb001              30960.00         2.0  Java互联网高级架构师  课程   \n",
      "msb002                  1.00         1.0    金三银四面试突击班   NaN   \n",
      "msb003               9980.00         1.0    GoLang从入门到精通  课程   \n",
      "msb004               9980.00         NaN  算法与数据结构进阶班  课程   \n",
      "msb005                  9.90         1.0       大前端VIP体验营   NaN   \n",
      "msb006                  0.02         1.0  零基础速成班HTML+CSS  课程   \n",
      "msb007               2400.00         1.0              操作系统  课程   \n",
      "msb008                  1.00         NaN            自定义注解  课程   \n",
      "msb009               2980.00         1.0        多线程与高并发  课程   \n",
      "msb010               1980.00         1.0              科技英语  课程   \n",
      "msb010               1980.00         1.0              科技英语  课程   \n",
      "\n",
      "                  订单付款时间  \n",
      "买家会员名                      \n",
      "msb001     2020-10-09 22:54:26  \n",
      "msb002     2020-10-09 22:52:42  \n",
      "msb003     2020-01-19 12:53:01  \n",
      "msb004     2020-06-30 11:46:14  \n",
      "msb005     2020-03-23 18:25:45  \n",
      "msb006     2020-03-24 19:25:45  \n",
      "msb007     2020-03-25 11:00:45  \n",
      "msb008     2020-03-26 23:11:11  \n",
      "msb009     2020-03-27 07:25:30  \n",
      "msb010     2020-03-28 18:09:12  \n",
      "msb010     2020-03-28 18:09:12  \n"
     ]
    }
   ],
   "source": [
    "# 设置某列为行索引\n",
    "import pandas as pd\n",
    "df=pd.read_excel('msb课程记录.xls')\n",
    "#print(df)\n",
    "df=df.set_index(['买家会员名'])\n",
    "print(df)"
   ]
  },
  {
   "cell_type": "code",
   "execution_count": 21,
   "metadata": {},
   "outputs": [
    {
     "name": "stdout",
     "output_type": "stream",
     "text": [
      "  买家会员名  买家实际支付金额  课程总数量             课程标题   类别  \\\n",
      "0     msb001          30960.00         2.0  Java互联网高级架构师  课程   \n",
      "1     msb003           9980.00         1.0    GoLang从入门到精通  课程   \n",
      "2     msb006              0.02         1.0  零基础速成班HTML+CSS  课程   \n",
      "3     msb007           2400.00         1.0              操作系统  课程   \n",
      "4     msb009           2980.00         1.0        多线程与高并发  课程   \n",
      "5     msb010           1980.00         1.0              科技英语  课程   \n",
      "6     msb010           1980.00         1.0              科技英语  课程   \n",
      "\n",
      "         订单付款时间  \n",
      "0 2020-10-09 22:54:26  \n",
      "1 2020-01-19 12:53:01  \n",
      "2 2020-03-24 19:25:45  \n",
      "3 2020-03-25 11:00:45  \n",
      "4 2020-03-27 07:25:30  \n",
      "5 2020-03-28 18:09:12  \n",
      "6 2020-03-28 18:09:12  \n"
     ]
    }
   ],
   "source": [
    "# 数据清洗之后设置连续的索引\n",
    "import pandas as pd\n",
    "df=pd.read_excel('msb课程记录.xls')\n",
    "#print(df)\n",
    "df=df.dropna().reset_index(drop=True)\n",
    "print(df)"
   ]
  },
  {
   "cell_type": "code",
   "execution_count": null,
   "metadata": {},
   "outputs": [],
   "source": []
  }
 ],
 "metadata": {
  "kernelspec": {
   "display_name": "Python 3",
   "language": "python",
   "name": "python3"
  },
  "language_info": {
   "codemirror_mode": {
    "name": "ipython",
    "version": 3
   },
   "file_extension": ".py",
   "mimetype": "text/x-python",
   "name": "python",
   "nbconvert_exporter": "python",
   "pygments_lexer": "ipython3",
   "version": "3.7.6"
  }
 },
 "nbformat": 4,
 "nbformat_minor": 4
}
