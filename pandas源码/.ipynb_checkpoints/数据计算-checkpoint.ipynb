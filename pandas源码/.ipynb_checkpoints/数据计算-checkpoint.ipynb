{
 "cells": [
  {
   "cell_type": "code",
   "execution_count": 2,
   "metadata": {},
   "outputs": [
    {
     "name": "stdout",
     "output_type": "stream",
     "text": [
      "   数学  语文  英语\n",
      "1   100    90    80\n",
      "2    98    67    56\n",
      "3    56    56    45\n"
     ]
    }
   ],
   "source": [
    "# 求和\n",
    "import pandas as pd \n",
    "pd.set_option('display.unicode.east_asian_width',True)\n",
    "data=[[100,90,80],[98,67,56],[56,56,45]]\n",
    "columns=['数学','语文','英语']\n",
    "df=pd.DataFrame(data=data,columns=columns,index=[1,2,3])\n",
    "print(df)\n",
    "\n",
    "#求和\n",
    "['总成']=df.sum(axis=1)"
   ]
  },
  {
   "cell_type": "code",
   "execution_count": null,
   "metadata": {},
   "outputs": [],
   "source": []
  }
 ],
 "metadata": {
  "kernelspec": {
   "display_name": "Python 3",
   "language": "python",
   "name": "python3"
  },
  "language_info": {
   "codemirror_mode": {
    "name": "ipython",
    "version": 3
   },
   "file_extension": ".py",
   "mimetype": "text/x-python",
   "name": "python",
   "nbconvert_exporter": "python",
   "pygments_lexer": "ipython3",
   "version": "3.7.6"
  }
 },
 "nbformat": 4,
 "nbformat_minor": 4
}
