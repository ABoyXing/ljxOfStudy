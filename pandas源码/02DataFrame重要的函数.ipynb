{
 "cells": [
  {
   "cell_type": "code",
   "execution_count": 11,
   "metadata": {},
   "outputs": [
    {
     "name": "stdout",
     "output_type": "stream",
     "text": [
      "      名称     单价   数量\n",
      "0    sun  320.9  100\n",
      "1  mouse  150.3   50\n",
      "2  knife    1.5  200\n"
     ]
    }
   ],
   "source": [
    "import pandas as pd\n",
    "data=[['sun',320.9,100],['mouse',150.3,50],['knife',1.5,200]]\n",
    "columns=['名称','单价','数量']\n",
    "df=pd.DataFrame(data=data,columns=columns)\n",
    "print(df)"
   ]
  },
  {
   "cell_type": "code",
   "execution_count": 12,
   "metadata": {},
   "outputs": [
    {
     "name": "stdout",
     "output_type": "stream",
     "text": [
      "               单价          数量\n",
      "count    3.000000    3.000000\n",
      "mean   157.566667  116.666667\n",
      "std    159.823945   76.376262\n",
      "min      1.500000   50.000000\n",
      "25%     75.900000   75.000000\n",
      "50%    150.300000  100.000000\n",
      "75%    235.600000  150.000000\n",
      "max    320.900000  200.000000\n"
     ]
    }
   ],
   "source": "print(df.describe()) "
  },
  {
   "cell_type": "code",
   "execution_count": 13,
   "metadata": {},
   "outputs": [
    {
     "name": "stdout",
     "output_type": "stream",
     "text": [
      "名称    3\n",
      "单价    3\n",
      "数量    3\n",
      "dtype: int64\n"
     ]
    }
   ],
   "source": [
    "print(df.count())"
   ]
  },
  {
   "cell_type": "code",
   "execution_count": 14,
   "metadata": {},
   "outputs": [
    {
     "name": "stdout",
     "output_type": "stream",
     "text": [
      "名称    sunmouseknife\n",
      "单价            472.7\n",
      "数量              350\n",
      "dtype: object\n"
     ]
    }
   ],
   "source": [
    "print(df.sum())"
   ]
  },
  {
   "cell_type": "code",
   "execution_count": 15,
   "metadata": {},
   "outputs": [
    {
     "name": "stdout",
     "output_type": "stream",
     "text": [
      "名称      sun\n",
      "单价    320.9\n",
      "数量      200\n",
      "dtype: object\n"
     ]
    }
   ],
   "source": [
    "print(df.max())"
   ]
  },
  {
   "cell_type": "code",
   "execution_count": 16,
   "metadata": {},
   "outputs": [
    {
     "name": "stdout",
     "output_type": "stream",
     "text": [
      "名称    knife\n",
      "单价      1.5\n",
      "数量       50\n",
      "dtype: object\n"
     ]
    }
   ],
   "source": [
    "print(df.min())\n"
   ]
  },
  {
   "cell_type": "code",
   "execution_count": null,
   "metadata": {},
   "outputs": [],
   "source": []
  }
 ],
 "metadata": {
  "kernelspec": {
   "display_name": "Python 3",
   "language": "python",
   "name": "python3"
  },
  "language_info": {
   "codemirror_mode": {
    "name": "ipython",
    "version": 3
   },
   "file_extension": ".py",
   "mimetype": "text/x-python",
   "name": "python",
   "nbconvert_exporter": "python",
   "pygments_lexer": "ipython3",
   "version": "3.7.6"
  }
 },
 "nbformat": 4,
 "nbformat_minor": 4
}
