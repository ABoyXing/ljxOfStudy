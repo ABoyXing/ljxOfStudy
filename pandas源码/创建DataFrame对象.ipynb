{
 "cells": [
  {
   "cell_type": "code",
   "execution_count": 2,
   "metadata": {},
   "outputs": [
    {
     "name": "stdout",
     "output_type": "stream",
     "text": [
      "    名称     单价   数量\n",
      "0  小太阳  320.9  100\n",
      "1   鼠标  150.3   50\n",
      "2   小刀    1.5  200\n",
      "<class 'pandas.core.frame.DataFrame'>\n"
     ]
    }
   ],
   "source": [
    "# 列表方式创建DataFrame对象\n",
    "import pandas as pd\n",
    "data=[['小太阳',320.9,100],['鼠标',150.3,50],['小刀',1.5,200]]\n",
    "columns=['名称','单价','数量']\n",
    "df=pd.DataFrame(data=data,columns=columns)\n",
    "print(df)\n",
    "print(type(df))"
   ]
  },
  {
   "cell_type": "code",
   "execution_count": 3,
   "metadata": {},
   "outputs": [
    {
     "name": "stdout",
     "output_type": "stream",
     "text": [
      "    名称     单价   数量\n",
      "0  小太阳  320.9  100\n",
      "1   鼠标  150.3   50\n",
      "2   小刀    1.5  200\n"
     ]
    }
   ],
   "source": [
    "# 字典方式创建DataFrame对象\n",
    "import pandas as pd\n",
    "data={\n",
    "    '名称':['小太阳','鼠标','小刀'],\n",
    "    '单价':[320.9,150.3,1.5],\n",
    "    '数量':[100,50,200]\n",
    "}\n",
    "df=pd.DataFrame(data=data)\n",
    "print(df)"
   ]
  },
  {
   "cell_type": "code",
   "execution_count": 5,
   "metadata": {},
   "outputs": [
    {
     "name": "stdout",
     "output_type": "stream",
     "text": [
      "    名称     单价   数量  公司名称\n",
      "0  小太阳  320.9  100  东门超市\n",
      "1   鼠标  150.3   50  东门超市\n",
      "2   小刀    1.5  200  东门超市\n"
     ]
    }
   ],
   "source": [
    "# 字典方式创建DataFrame对象\n",
    "import pandas as pd\n",
    "data={\n",
    "    '名称':['小太阳','鼠标','小刀'],\n",
    "    '单价':[320.9,150.3,1.5],\n",
    "    '数量':[100,50,200],\n",
    "    '公司名称':'东门超市'\n",
    "}\n",
    "df=pd.DataFrame(data=data)\n",
    "print(df)"
   ]
  },
  {
   "cell_type": "code",
   "execution_count": null,
   "metadata": {},
   "outputs": [],
   "source": []
  }
 ],
 "metadata": {
  "kernelspec": {
   "display_name": "Python 3",
   "language": "python",
   "name": "python3"
  },
  "language_info": {
   "codemirror_mode": {
    "name": "ipython",
    "version": 3
   },
   "file_extension": ".py",
   "mimetype": "text/x-python",
   "name": "python",
   "nbconvert_exporter": "python",
   "pygments_lexer": "ipython3",
   "version": "3.7.6"
  }
 },
 "nbformat": 4,
 "nbformat_minor": 4
}
