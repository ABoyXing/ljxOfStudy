{
 "cells": [
  {
   "cell_type": "markdown",
   "id": "fadb4283",
   "metadata": {},
   "source": [
    "### BGD批量梯度下降"
   ]
  },
  {
   "cell_type": "markdown",
   "id": "d97967b2",
   "metadata": {},
   "source": [
    "#### 一元一次线性回归"
   ]
  },
  {
   "cell_type": "code",
   "id": "65768667",
   "metadata": {
    "ExecuteTime": {
     "end_time": "2024-10-29T13:55:12.113142Z",
     "start_time": "2024-10-29T13:55:11.251781Z"
    }
   },
   "source": [
    "import numpy as np\n",
    "\n",
    "import matplotlib.pyplot as plt"
   ],
   "outputs": [],
   "execution_count": 1
  },
  {
   "cell_type": "code",
   "execution_count": 17,
   "id": "432b5ebf",
   "metadata": {},
   "outputs": [
    {
     "data": {
      "text/plain": [
       "<matplotlib.collections.PathCollection at 0x19711c7b460>"
      ]
     },
     "execution_count": 17,
     "metadata": {},
     "output_type": "execute_result"
    },
    {
     "data": {
      "image/png": "[encoded data removed]",
      "text/plain": [
       "<Figure size 432x288 with 1 Axes>"
      ]
     },
     "metadata": {
      "needs_background": "light"
     },
     "output_type": "display_data"
    }
   ],
   "source": [
    "X = np.random.rand(100,1)\n",
    "\n",
    "w,b = np.random.randint(1,10,size = 2)\n",
    "\n",
    "# 增加“噪声”，更像真实数据，“加盐”\n",
    "# 增加扰动！ 数据更加真实\n",
    "# NumPy广播机制\n",
    "y = w * X + b + np.random.randn(100,1)\n",
    "plt.scatter(X,y)\n",
    "\n",
    "# LinearRegression intercept_ == bias 一个意思：方程截距"
   ]
  },
  {
   "cell_type": "code",
   "execution_count": 18,
   "id": "caa0b83f",
   "metadata": {
    "collapsed": true
   },
   "outputs": [
    {
     "data": {
      "text/plain": [
       "array([[0.45383589, 1.        ],\n",
       "       [0.24171204, 1.        ],\n",
       "       [0.73698841, 1.        ],\n",
       "       [0.02986306, 1.        ],\n",
       "       [0.09405871, 1.        ],\n",
       "       [0.08784082, 1.        ],\n",
       "       [0.47995472, 1.        ],\n",
       "       [0.47319383, 1.        ],\n",
       "       [0.43242272, 1.        ],\n",
       "       [0.57405063, 1.        ]])"
      ]
     },
     "execution_count": 18,
     "metadata": {},
     "output_type": "execute_result"
    }
   ],
   "source": [
    "# 将b作为偏置项，截距，对应的系数，理解为1\n",
    "X = np.concatenate([X,np.full(shape  =(100,1),fill_value=1)],axis = 1)\n",
    "X[:10]"
   ]
  },
  {
   "cell_type": "markdown",
   "id": "829432c7",
   "metadata": {},
   "source": [
    "<font size = 6 color = 'green'>$\\theta^{n + 1} = \\theta^{n} - \\eta * X^T(X\\theta -y)$</font>"
   ]
  },
  {
   "cell_type": "code",
   "execution_count": 21,
   "id": "11890e16",
   "metadata": {},
   "outputs": [
    {
     "name": "stdout",
     "output_type": "stream",
     "text": [
      "真实的斜率、截距是： 2 1\n",
      "BGD求解的斜率、截距是： [[1.78289536]\n",
      " [1.01052071]]\n"
     ]
    }
   ],
   "source": [
    "# 循环次数\n",
    "epoches = 10000\n",
    "\n",
    "# 学习率\n",
    "eta = 0.01\n",
    "t0 = 5\n",
    "t1 = 1000\n",
    "# t 梯度下降的次数，逆时衰减，随着梯度下降次数增加，学习率，变小\n",
    "def learning_rate_shedule(t):\n",
    "    return t0/(t + t1) # lr = 5/1000 = 0.005\n",
    "\n",
    "# 要求解的系数，随机数，赋值的，“瞎蒙”\n",
    "theta = np.random.randn(2,1)\n",
    "\n",
    "# 梯度下降次数\n",
    "t = 0\n",
    "for i in range(epoches):\n",
    "    # 批量梯度下降，X矩阵，矩阵包含所有的数据\n",
    "    g = X.T.dot(X.dot(theta) - y) # 根据公式计算的梯度\n",
    "    eta = learning_rate_shedule(t) # 随着梯度下降次数增加，学习率下降\n",
    "    theta = theta - eta * g\n",
    "    t += 1\n",
    "print('真实的斜率、截距是：',w,b)\n",
    "print('BGD求解的斜率、截距是：',theta)"
   ]
  },
  {
   "cell_type": "markdown",
   "id": "049067a0",
   "metadata": {},
   "source": [
    "#### 多元一次"
   ]
  },
  {
   "cell_type": "code",
   "execution_count": 24,
   "id": "98da6d06",
   "metadata": {},
   "outputs": [
    {
     "data": {
      "text/plain": [
       "(100, 9)"
      ]
     },
     "execution_count": 24,
     "metadata": {},
     "output_type": "execute_result"
    }
   ],
   "source": [
    "X.shape\n",
    "# 100表示100个方程，9表示系数"
   ]
  },
  {
   "cell_type": "code",
   "execution_count": 23,
   "id": "deae4fb2",
   "metadata": {
    "collapsed": true
   },
   "outputs": [
    {
     "name": "stdout",
     "output_type": "stream",
     "text": [
      "真实的斜率、截距是： [[9]\n",
      " [4]\n",
      " [7]\n",
      " [4]\n",
      " [6]\n",
      " [4]\n",
      " [7]\n",
      " [1]] [4]\n",
      "BGD求解的斜率、截距是： [[8.74566929]\n",
      " [3.82541768]\n",
      " [7.36837649]\n",
      " [4.10251871]\n",
      " [6.14970335]\n",
      " [3.93188571]\n",
      " [6.74447766]\n",
      " [0.74205666]\n",
      " [4.32925198]]\n"
     ]
    }
   ],
   "source": [
    "import numpy as np\n",
    "\n",
    "X = np.random.rand(100,8)\n",
    "\n",
    "w = np.random.randint(1,10,size = (8,1))\n",
    "b = np.random.randint(1,10,size = 1)\n",
    "\n",
    "# 增加“噪声”，更像真实数据，“加盐”\n",
    "# 增加扰动！ 数据更加真实\n",
    "# NumPy广播机制\n",
    "y = X.dot(w) + b + np.random.randn(100,1)\n",
    "\n",
    "# 截距当成偏置项\n",
    "X = np.concatenate([X,np.full(shape = (100,1),fill_value=1)],axis = 1)\n",
    "\n",
    "# 循环次数\n",
    "epoches = 10000\n",
    "\n",
    "# 学习率\n",
    "eta = 0.01\n",
    "t0 = 5\n",
    "t1 = 1000\n",
    "# t 梯度下降的次数，逆时衰减，随着梯度下降次数增加，学习率，变小\n",
    "def learning_rate_shedule(t):\n",
    "    return t0/(t + t1) # lr = 5/1000 = 0.005\n",
    "\n",
    "# 要求解的系数，随机数，赋值的，“瞎蒙”\n",
    "theta = np.random.randn(9,1)\n",
    "\n",
    "# 梯度下降次数\n",
    "t = 0\n",
    "for i in range(epoches):\n",
    "    # 批量梯度下降，X矩阵，矩阵包含所有的数据\n",
    "    g = X.T.dot(X.dot(theta) - y) # 根据公式计算的梯度\n",
    "    eta = learning_rate_shedule(t) # 随着梯度下降次数增加，学习率下降\n",
    "    theta = theta - eta * g\n",
    "    t += 1\n",
    "print('真实的斜率、截距是：',w,b)\n",
    "print('BGD求解的斜率、截距是：',theta)"
   ]
  },
  {
   "cell_type": "markdown",
   "id": "47fa6846",
   "metadata": {},
   "source": [
    "### SGD随机梯度下降"
   ]
  },
  {
   "cell_type": "markdown",
   "id": "d17d56d4",
   "metadata": {},
   "source": [
    "#### 一元一次方程"
   ]
  },
  {
   "cell_type": "code",
   "execution_count": 25,
   "id": "8a0efb30",
   "metadata": {
    "collapsed": true
   },
   "outputs": [
    {
     "data": {
      "text/plain": [
       "<matplotlib.collections.PathCollection at 0x1971640cc70>"
      ]
     },
     "execution_count": 25,
     "metadata": {},
     "output_type": "execute_result"
    },
    {
     "data": {
      "image/png": "[encoded data removed]",
      "text/plain": [
       "<Figure size 432x288 with 1 Axes>"
      ]
     },
     "metadata": {
      "needs_background": "light"
     },
     "output_type": "display_data"
    }
   ],
   "source": [
    "import numpy as np\n",
    "import matplotlib.pyplot as plt\n",
    "\n",
    "# 100样本！！！\n",
    "X = np.random.rand(100,1)\n",
    "\n",
    "w,b = np.random.randint(1,10,size = 2)\n",
    "\n",
    "# 增加“噪声”，更像真实数据，“加盐”\n",
    "# 增加扰动！ 数据更加真实\n",
    "# NumPy广播机制\n",
    "y = w * X + b + np.random.randn(100,1)\n",
    "plt.scatter(X,y)"
   ]
  },
  {
   "cell_type": "code",
   "execution_count": 34,
   "id": "d27b7340",
   "metadata": {},
   "outputs": [],
   "source": [
    "# 偏置，X也需要增加\n",
    "X = np.concatenate([X,np.full_like(X,fill_value=1)],axis = 1)"
   ]
  },
  {
   "cell_type": "code",
   "execution_count": 35,
   "id": "cb9f5499",
   "metadata": {
    "collapsed": true
   },
   "outputs": [
    {
     "data": {
      "text/plain": [
       "array([[0.14050542, 1.        ],\n",
       "       [0.28684708, 1.        ],\n",
       "       [0.357433  , 1.        ],\n",
       "       [0.13205579, 1.        ],\n",
       "       [0.99909854, 1.        ],\n",
       "       [0.8481711 , 1.        ],\n",
       "       [0.5383822 , 1.        ],\n",
       "       [0.41824089, 1.        ],\n",
       "       [0.76588646, 1.        ],\n",
       "       [0.91794555, 1.        ],\n",
       "       [0.15688099, 1.        ],\n",
       "       [0.6768211 , 1.        ],\n",
       "       [0.3827946 , 1.        ],\n",
       "       [0.21938911, 1.        ],\n",
       "       [0.08966735, 1.        ],\n",
       "       [0.07489956, 1.        ],\n",
       "       [0.03615972, 1.        ],\n",
       "       [0.63147205, 1.        ],\n",
       "       [0.89343695, 1.        ],\n",
       "       [0.85028399, 1.        ],\n",
       "       [0.93334302, 1.        ],\n",
       "       [0.00576761, 1.        ],\n",
       "       [0.11108129, 1.        ],\n",
       "       [0.76110346, 1.        ],\n",
       "       [0.10752354, 1.        ],\n",
       "       [0.71320756, 1.        ],\n",
       "       [0.66180279, 1.        ],\n",
       "       [0.59067267, 1.        ],\n",
       "       [0.7637599 , 1.        ],\n",
       "       [0.49278241, 1.        ],\n",
       "       [0.89432071, 1.        ],\n",
       "       [0.00407962, 1.        ],\n",
       "       [0.0486362 , 1.        ],\n",
       "       [0.79108625, 1.        ],\n",
       "       [0.11293044, 1.        ],\n",
       "       [0.83684923, 1.        ],\n",
       "       [0.36437555, 1.        ],\n",
       "       [0.3268383 , 1.        ],\n",
       "       [0.42721309, 1.        ],\n",
       "       [0.43891029, 1.        ],\n",
       "       [0.32802242, 1.        ],\n",
       "       [0.26507478, 1.        ],\n",
       "       [0.97720704, 1.        ],\n",
       "       [0.43914328, 1.        ],\n",
       "       [0.06351052, 1.        ],\n",
       "       [0.16016217, 1.        ],\n",
       "       [0.11723098, 1.        ],\n",
       "       [0.93292112, 1.        ],\n",
       "       [0.18472237, 1.        ],\n",
       "       [0.5567025 , 1.        ],\n",
       "       [0.4788544 , 1.        ],\n",
       "       [0.07976472, 1.        ],\n",
       "       [0.98229268, 1.        ],\n",
       "       [0.2755637 , 1.        ],\n",
       "       [0.23726986, 1.        ],\n",
       "       [0.08246029, 1.        ],\n",
       "       [0.59167138, 1.        ],\n",
       "       [0.01016852, 1.        ],\n",
       "       [0.868063  , 1.        ],\n",
       "       [0.92613355, 1.        ],\n",
       "       [0.43968764, 1.        ],\n",
       "       [0.73736993, 1.        ],\n",
       "       [0.14498186, 1.        ],\n",
       "       [0.42695165, 1.        ],\n",
       "       [0.96220771, 1.        ],\n",
       "       [0.53898262, 1.        ],\n",
       "       [0.43026005, 1.        ],\n",
       "       [0.19690343, 1.        ],\n",
       "       [0.81171256, 1.        ],\n",
       "       [0.99206243, 1.        ],\n",
       "       [0.27876418, 1.        ],\n",
       "       [0.41465808, 1.        ],\n",
       "       [0.33021362, 1.        ],\n",
       "       [0.80195824, 1.        ],\n",
       "       [0.9161419 , 1.        ],\n",
       "       [0.05249775, 1.        ],\n",
       "       [0.42076546, 1.        ],\n",
       "       [0.91365616, 1.        ],\n",
       "       [0.3331248 , 1.        ],\n",
       "       [0.90683735, 1.        ],\n",
       "       [0.56043866, 1.        ],\n",
       "       [0.35069802, 1.        ],\n",
       "       [0.85405771, 1.        ],\n",
       "       [0.99632868, 1.        ],\n",
       "       [0.32737261, 1.        ],\n",
       "       [0.85849085, 1.        ],\n",
       "       [0.46629551, 1.        ],\n",
       "       [0.40140132, 1.        ],\n",
       "       [0.33906421, 1.        ],\n",
       "       [0.52381297, 1.        ],\n",
       "       [0.79068781, 1.        ],\n",
       "       [0.59505836, 1.        ],\n",
       "       [0.53684487, 1.        ],\n",
       "       [0.92811284, 1.        ],\n",
       "       [0.33232796, 1.        ],\n",
       "       [0.05951851, 1.        ],\n",
       "       [0.18582877, 1.        ],\n",
       "       [0.07537562, 1.        ],\n",
       "       [0.66688525, 1.        ],\n",
       "       [0.23290915, 1.        ]])"
      ]
     },
     "execution_count": 35,
     "metadata": {},
     "output_type": "execute_result"
    }
   ],
   "source": [
    "X"
   ]
  },
  {
   "cell_type": "code",
   "execution_count": 36,
   "id": "c9da3497",
   "metadata": {},
   "outputs": [
    {
     "name": "stdout",
     "output_type": "stream",
     "text": [
      "真实的斜率、截距是： 9 7\n",
      "SGD求解的斜率、截距是： [[8.90623199]\n",
      " [7.05013822]]\n"
     ]
    }
   ],
   "source": [
    "epoches = 100 # 循环100次\n",
    "\n",
    "t0 = 5\n",
    "t1 = 1000\n",
    "# t 梯度下降的次数，逆时衰减，随着梯度下降次数增加，学习率，变小\n",
    "def learning_rate_shedule(t):\n",
    "    return t0/(t + t1) # lr = 5/1000 = 0.005\n",
    "\n",
    "# 既有斜率（一个）、截距\n",
    "theta = np.random.randn(2,1)\n",
    "\n",
    "count = 0 # 表示训练次数\n",
    "for t in range(epoches):\n",
    "    index = np.arange(100) # 0,1,2,……，99\n",
    "    np.random.shuffle(index) # 洗牌，打乱顺序\n",
    "    # numpy花式索引\n",
    "    X = X[index]\n",
    "    y = y[index]\n",
    "    for i in range(100):\n",
    "        # 随机抽样！！！抽了一个样本\n",
    "        X_i = X[[i]] # 两个[[]]\n",
    "        y_i = y[[i]]\n",
    "        \n",
    "        # 根据这一个样本，进行计算梯度\n",
    "        # 单个样本，依然是一个矩阵\n",
    "        g = X_i.T.dot(X_i.dot(theta) - y_i)\n",
    "        eta = learning_rate_shedule(count)\n",
    "        count += 1\n",
    "        theta -= 0.1 * g\n",
    "print('真实的斜率、截距是：',w,b)\n",
    "print('SGD求解的斜率、截距是：',theta)"
   ]
  },
  {
   "cell_type": "code",
   "execution_count": 37,
   "id": "6a9b43fe",
   "metadata": {},
   "outputs": [
    {
     "data": {
      "text/plain": [
       "array([0.73736993, 1.        ])"
      ]
     },
     "execution_count": 37,
     "metadata": {},
     "output_type": "execute_result"
    }
   ],
   "source": [
    "X[0]"
   ]
  },
  {
   "cell_type": "code",
   "execution_count": 38,
   "id": "9a9f5ef9",
   "metadata": {},
   "outputs": [
    {
     "data": {
      "text/plain": [
       "array([[0.73736993, 1.        ]])"
      ]
     },
     "execution_count": 38,
     "metadata": {},
     "output_type": "execute_result"
    }
   ],
   "source": [
    "X[[0]]"
   ]
  },
  {
   "cell_type": "markdown",
   "id": "1af8dae5",
   "metadata": {},
   "source": [
    "#### 多元一次方程"
   ]
  },
  {
   "cell_type": "code",
   "execution_count": 41,
   "id": "39551989",
   "metadata": {
    "collapsed": true
   },
   "outputs": [
    {
     "name": "stdout",
     "output_type": "stream",
     "text": [
      "真实的斜率、截距是： [[8]\n",
      " [5]\n",
      " [6]\n",
      " [2]\n",
      " [2]] [7]\n",
      "SGD求解的斜率、截距是： [[6.99262565]\n",
      " [4.5037859 ]\n",
      " [5.42129591]\n",
      " [2.12250548]\n",
      " [2.26367483]\n",
      " [7.99425214]]\n"
     ]
    }
   ],
   "source": [
    "import numpy as np\n",
    "\n",
    "X = np.random.rand(100,5)\n",
    "\n",
    "w = np.random.randint(1,10,size = (5,1))\n",
    "b = np.random.randint(1,10,size = 1)\n",
    "\n",
    "# 增加“噪声”，更像真实数据，“加盐”\n",
    "# 增加扰动！ 数据更加真实\n",
    "# NumPy广播机制\n",
    "y = X.dot(w) + b + np.random.randn(100,1)\n",
    "\n",
    "# 截距当成偏置项\n",
    "X = np.concatenate([X,np.full(shape = (100,1),fill_value=1)],axis = 1)\n",
    "\n",
    "\n",
    "epoches = 1000 # 循环100次\n",
    "\n",
    "t0 = 5\n",
    "t1 = 1000\n",
    "# t 梯度下降的次数，逆时衰减，随着梯度下降次数增加，学习率，变小\n",
    "def learning_rate_shedule(t):\n",
    "    return t0/(t + t1) # lr = 5/1000 = 0.005\n",
    "\n",
    "# 既有斜率（5个 + 1个截距 = 6） 、截距\n",
    "theta = np.random.randn(6,1)\n",
    "\n",
    "count = 0 # 表示训练次数\n",
    "for t in range(epoches):\n",
    "    index = np.arange(100) # 0,1,2,……，99\n",
    "    np.random.shuffle(index) # 洗牌，打乱顺序\n",
    "    # numpy花式索引\n",
    "    X = X[index]\n",
    "    y = y[index]\n",
    "    for i in range(100):\n",
    "        # 随机抽样！！！抽了一个样本\n",
    "        X_i = X[[i]] # 两个[[]]\n",
    "        y_i = y[[i]]\n",
    "        \n",
    "        # 根据这一个样本，进行计算梯度\n",
    "        # 单个样本，依然是一个矩阵\n",
    "        g = X_i.T.dot(X_i.dot(theta) - y_i)\n",
    "        eta = learning_rate_shedule(count)\n",
    "        count += 1\n",
    "        theta -= eta * g\n",
    "print('真实的斜率、截距是：',w,b)\n",
    "print('SGD求解的斜率、截距是：',theta)"
   ]
  },
  {
   "cell_type": "markdown",
   "id": "f516f109",
   "metadata": {},
   "source": [
    "### MBGD小批量梯度下降"
   ]
  },
  {
   "cell_type": "markdown",
   "id": "1423c419",
   "metadata": {},
   "source": [
    "#### 一元一次方程"
   ]
  },
  {
   "cell_type": "code",
   "execution_count": 45,
   "id": "a474511b",
   "metadata": {},
   "outputs": [
    {
     "name": "stdout",
     "output_type": "stream",
     "text": [
      "真实斜率和截距是： 2 2\n",
      "梯度下降计算斜率和截距是： [[1.74964199]\n",
      " [2.10556409]]\n"
     ]
    }
   ],
   "source": [
    "import numpy as np\n",
    "\n",
    "# 1、创建数据集X，y\n",
    "X = np.random.rand(100, 1)\n",
    "w,b = np.random.randint(1,10,size = 2)\n",
    "y = w * X + b + np.random.randn(100, 1)\n",
    "\n",
    "# 2、使用偏置项x_0 = 1，更新X\n",
    "X = np.c_[X, np.ones((100, 1))]\n",
    "\n",
    "# 3、定义一个函数来调整学习率\n",
    "t0, t1 = 5, 500\n",
    "def learning_rate_schedule(t):\n",
    "    return t0/(t+t1)\n",
    "\n",
    "# 4、创建超参数轮次、样本数量、小批量数量\n",
    "epochs = 1000\n",
    "n = 100\n",
    "batch_size = 16\n",
    "num_batches = int(n / batch_size) # 6次，6 * 16 = 96\n",
    "\n",
    "\n",
    "\n",
    "# 5、初始化 W0...Wn，标准正太分布创建W，截距\n",
    "θ = np.random.randn(2, 1)\n",
    "\n",
    "# 6、多次for循环实现梯度下降，最终结果收敛\n",
    "for epoch in range(epochs):\n",
    "    # 在双层for循环之间，每个轮次开始分批次迭代之前打乱数据索引顺序\n",
    "    index = np.arange(n)\n",
    "    np.random.shuffle(index)\n",
    "    X = X[index]\n",
    "    y = y[index]\n",
    "    for i in range(num_batches): # 6\n",
    "        # 一次取一批数据16个样本\n",
    "        # 切片\n",
    "        X_batch = X[i * batch_size : (i + 1)*batch_size]\n",
    "        y_batch = y[i * batch_size : (i + 1)*batch_size]\n",
    "        \n",
    "        g = X_batch.T.dot(X_batch.dot(θ)-y_batch)\n",
    "        \n",
    "        learning_rate = learning_rate_schedule(epoch * n + i)\n",
    "        \n",
    "        θ = θ - learning_rate * g\n",
    "\n",
    "print('真实斜率和截距是：',w,b)\n",
    "print('梯度下降计算斜率和截距是：',θ)"
   ]
  },
  {
   "cell_type": "markdown",
   "id": "143b9aad",
   "metadata": {},
   "source": [
    "#### 多元一次方程"
   ]
  },
  {
   "cell_type": "code",
   "execution_count": 46,
   "id": "3bed0980",
   "metadata": {},
   "outputs": [
    {
     "name": "stdout",
     "output_type": "stream",
     "text": [
      "真实斜率和截距是： [[2]\n",
      " [3]\n",
      " [4]] [2]\n",
      "梯度下降计算斜率和截距是： [[1.78531707]\n",
      " [3.02035029]\n",
      " [3.58870901]\n",
      " [2.29199256]]\n"
     ]
    }
   ],
   "source": [
    "import numpy as np\n",
    "\n",
    "# 1、创建数据集X，y\n",
    "X = np.random.rand(100, 3)\n",
    "w = np.random.randint(1,10,size = (3,1))\n",
    "b = np.random.randint(1,10,size = 1)\n",
    "y = X.dot(w) + b + np.random.randn(100, 1)\n",
    "\n",
    "# 2、使用偏置项 X_0 = 1，更新X\n",
    "X = np.c_[X, np.ones((100, 1))]\n",
    "\n",
    "# 3、定义一个函数来调整学习率\n",
    "t0, t1 = 5, 500\n",
    "def learning_rate_schedule(t):\n",
    "    return t0/(t+t1)\n",
    "\n",
    "# 4、创建超参数轮次、样本数量、小批量数量\n",
    "epochs = 10000\n",
    "n = 100\n",
    "batch_size = 16\n",
    "num_batches = int(n / batch_size)\n",
    "\n",
    "# 5、初始化 W0...Wn，标准正太分布创建W\n",
    "θ = np.random.randn(4, 1)\n",
    "\n",
    "# 6、多次for循环实现梯度下降，最终结果收敛\n",
    "for epoch in range(epochs):\n",
    "    # 在双层for循环之间，每个轮次开始分批次迭代之前打乱数据索引顺序\n",
    "    index = np.arange(n)\n",
    "    np.random.shuffle(index)\n",
    "    X = X[index]\n",
    "    y = y[index]\n",
    "    for i in range(num_batches):\n",
    "        # 一次取一批数据16个样本\n",
    "        X_batch = X[i * batch_size : (i + 1)*batch_size]\n",
    "        y_batch = y[i * batch_size : (i + 1)*batch_size]\n",
    "        g = X_batch.T.dot(X_batch.dot(θ)-y_batch)\n",
    "        learning_rate = learning_rate_schedule(epoch * n + i)\n",
    "        θ = θ - learning_rate * g\n",
    "\n",
    "print('真实斜率和截距是：',w,b)\n",
    "print('梯度下降计算斜率和截距是：',θ)"
   ]
  },
  {
   "cell_type": "code",
   "execution_count": null,
   "id": "e5209340",
   "metadata": {},
   "outputs": [],
   "source": []
  }
 ],
 "metadata": {
  "kernelspec": {
   "display_name": "Python 3",
   "language": "python",
   "name": "python3"
  },
  "language_info": {
   "codemirror_mode": {
    "name": "ipython",
    "version": 3
   },
   "file_extension": ".py",
   "mimetype": "text/x-python",
   "name": "python",
   "nbconvert_exporter": "python",
   "pygments_lexer": "ipython3",
   "version": "3.8.10"
  },
  "toc": {
   "base_numbering": 1,
   "nav_menu": {},
   "number_sections": true,
   "sideBar": true,
   "skip_h1_title": false,
   "title_cell": "Table of Contents",
   "title_sidebar": "Contents",
   "toc_cell": false,
   "toc_position": {},
   "toc_section_display": true,
   "toc_window_display": true
  }
 },
 "nbformat": 4,
 "nbformat_minor": 5
}
