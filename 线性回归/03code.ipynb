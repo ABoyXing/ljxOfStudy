{
 "cells": [
  {
   "cell_type": "markdown",
   "id": "fecebd78",
   "metadata": {},
   "source": [
    "### 线性回归房价预测"
   ]
  },
  {
   "cell_type": "code",
   "id": "63d584b0",
   "metadata": {
    "ExecuteTime": {
     "end_time": "2024-10-29T12:59:02.203107Z",
     "start_time": "2024-10-29T12:59:02.186107Z"
    }
   },
   "source": [
    "# 房价跟一些列有关系：面积、位置、房间布局……\n",
    "import numpy as np\n",
    "\n",
    "from sklearn import datasets\n",
    "\n",
    "from sklearn.linear_model import LinearRegression"
   ],
   "outputs": [],
   "execution_count": 90
  },
  {
   "cell_type": "code",
   "id": "f41f5d4e",
   "metadata": {
    "ExecuteTime": {
     "end_time": "2024-10-29T12:59:02.235107Z",
     "start_time": "2024-10-29T12:59:02.216108Z"
    }
   },
   "source": [
    "#### 加载数据\n",
    "# boston = datasets.load_boston()\n",
    "from sklearn.datasets import fetch_california_housing\n",
    "boston = fetch_california_housing()\n",
    "X = boston['data'] # 数据，这些数据影响了房价，统计指标\n",
    "y = boston['target'] # 房价，24表示24万美金\n",
    "\n",
    "# CRIM 犯罪\n",
    "# NOX 空气污染\n",
    "# TAX 税收\n",
    "# 这些指标都和房价有关系\n",
    "feature_names = boston['feature_names'] # 具体指标\n",
    "feature_names"
   ],
   "outputs": [
    {
     "data": {
      "text/plain": [
       "['MedInc',\n",
       " 'HouseAge',\n",
       " 'AveRooms',\n",
       " 'AveBedrms',\n",
       " 'Population',\n",
       " 'AveOccup',\n",
       " 'Latitude',\n",
       " 'Longitude']"
      ]
     },
     "execution_count": 91,
     "metadata": {},
     "output_type": "execute_result"
    }
   ],
   "execution_count": 91
  },
  {
   "cell_type": "code",
   "id": "bfdb0295",
   "metadata": {
    "ExecuteTime": {
     "end_time": "2024-10-29T12:59:02.281105Z",
     "start_time": "2024-10-29T12:59:02.273107Z"
    }
   },
   "source": [
    "boston"
   ],
   "outputs": [
    {
     "data": {
      "text/plain": [
       "{'data': array([[   8.3252    ,   41.        ,    6.98412698, ...,    2.55555556,\n",
       "           37.88      , -122.23      ],\n",
       "        [   8.3014    ,   21.        ,    6.23813708, ...,    2.10984183,\n",
       "           37.86      , -122.22      ],\n",
       "        [   7.2574    ,   52.        ,    8.28813559, ...,    2.80225989,\n",
       "           37.85      , -122.24      ],\n",
       "        ...,\n",
       "        [   1.7       ,   17.        ,    5.20554273, ...,    2.3256351 ,\n",
       "           39.43      , -121.22      ],\n",
       "        [   1.8672    ,   18.        ,    5.32951289, ...,    2.12320917,\n",
       "           39.43      , -121.32      ],\n",
       "        [   2.3886    ,   16.        ,    5.25471698, ...,    2.61698113,\n",
       "           39.37      , -121.24      ]]),\n",
       " 'target': array([4.526, 3.585, 3.521, ..., 0.923, 0.847, 0.894]),\n",
       " 'frame': None,\n",
       " 'target_names': ['MedHouseVal'],\n",
       " 'feature_names': ['MedInc',\n",
       "  'HouseAge',\n",
       "  'AveRooms',\n",
       "  'AveBedrms',\n",
       "  'Population',\n",
       "  'AveOccup',\n",
       "  'Latitude',\n",
       "  'Longitude'],\n",
       " 'DESCR': '.. _california_housing_dataset:\\n\\nCalifornia Housing dataset\\n--------------------------\\n\\n**Data Set Characteristics:**\\n\\n:Number of Instances: 20640\\n\\n:Number of Attributes: 8 numeric, predictive attributes and the target\\n\\n:Attribute Information:\\n    - MedInc        median income in block group\\n    - HouseAge      median house age in block group\\n    - AveRooms      average number of rooms per household\\n    - AveBedrms     average number of bedrooms per household\\n    - Population    block group population\\n    - AveOccup      average number of household members\\n    - Latitude      block group latitude\\n    - Longitude     block group longitude\\n\\n:Missing Attribute Values: None\\n\\nThis dataset was obtained from the StatLib repository.\\nhttps://www.dcc.fc.up.pt/~ltorgo/Regression/cal_housing.html\\n\\nThe target variable is the median house value for California districts,\\nexpressed in hundreds of thousands of dollars ($100,000).\\n\\nThis dataset was derived from the 1990 U.S. census, using one row per census\\nblock group. A block group is the smallest geographical unit for which the U.S.\\nCensus Bureau publishes sample data (a block group typically has a population\\nof 600 to 3,000 people).\\n\\nA household is a group of people residing within a home. Since the average\\nnumber of rooms and bedrooms in this dataset are provided per household, these\\ncolumns may take surprisingly large values for block groups with few households\\nand many empty houses, such as vacation resorts.\\n\\nIt can be downloaded/loaded using the\\n:func:`sklearn.datasets.fetch_california_housing` function.\\n\\n.. rubric:: References\\n\\n- Pace, R. Kelley and Ronald Barry, Sparse Spatial Autoregressions,\\n  Statistics and Probability Letters, 33 (1997) 291-297\\n'}"
      ]
     },
     "execution_count": 92,
     "metadata": {},
     "output_type": "execute_result"
    }
   ],
   "execution_count": 92
  },
  {
   "cell_type": "markdown",
   "id": "fcc6ce13",
   "metadata": {},
   "source": [
    "#### 数据查看"
   ]
  },
  {
   "cell_type": "code",
   "id": "9dd87e8e",
   "metadata": {
    "ExecuteTime": {
     "end_time": "2024-10-29T12:59:02.345107Z",
     "start_time": "2024-10-29T12:59:02.333105Z"
    }
   },
   "source": [
    "# 506表示506统计样本\n",
    "# 影响房价的13个属性\n",
    "X.shape"
   ],
   "outputs": [
    {
     "data": {
      "text/plain": [
       "(20640, 8)"
      ]
     },
     "execution_count": 93,
     "metadata": {},
     "output_type": "execute_result"
    }
   ],
   "execution_count": 93
  },
  {
   "cell_type": "code",
   "id": "b1f9808e",
   "metadata": {
    "ExecuteTime": {
     "end_time": "2024-10-29T12:59:02.407106Z",
     "start_time": "2024-10-29T12:59:02.399106Z"
    }
   },
   "source": [
    "# 506个房子，对应着506价格\n",
    "# X ---> y一一对应\n",
    "# 数据--->目标值对应\n",
    "y.shape"
   ],
   "outputs": [
    {
     "data": {
      "text/plain": [
       "(20640,)"
      ]
     },
     "execution_count": 94,
     "metadata": {},
     "output_type": "execute_result"
    }
   ],
   "execution_count": 94
  },
  {
   "cell_type": "markdown",
   "id": "b2adb2ea",
   "metadata": {},
   "source": [
    "#### 数据拆分"
   ]
  },
  {
   "cell_type": "code",
   "id": "a8c231d8",
   "metadata": {
    "ExecuteTime": {
     "end_time": "2024-10-29T12:59:02.453239Z",
     "start_time": "2024-10-29T12:59:02.440108Z"
    }
   },
   "source": [
    "# 506个数据、样本\n",
    "# 拆分成两份：一份80%，训练数据；20%，验证数据\n",
    "# 拿出其中的80%，交给算法，线性回归，学习、总结、拟合函数\n",
    "# 20%，作用：验证，测一测，看看算法，学习80%结束，是否准确！\n",
    "import numpy as np\n",
    "index = np.arange(506)\n",
    "np.random.shuffle(index)\n",
    "\n",
    "train_index = index[:405]\n",
    "test_index = index[405:]"
   ],
   "outputs": [],
   "execution_count": 95
  },
  {
   "cell_type": "code",
   "id": "7f72bcf4",
   "metadata": {
    "ExecuteTime": {
     "end_time": "2024-10-29T12:59:02.498849Z",
     "start_time": "2024-10-29T12:59:02.484853Z"
    }
   },
   "source": [
    "# 80% 训练数据\n",
    "X_train = X[train_index]\n",
    "y_train = y[train_index]\n",
    "display(X_train.shape,y_train.shape)"
   ],
   "outputs": [
    {
     "data": {
      "text/plain": [
       "(405, 8)"
      ]
     },
     "metadata": {},
     "output_type": "display_data"
    },
    {
     "data": {
      "text/plain": [
       "(405,)"
      ]
     },
     "metadata": {},
     "output_type": "display_data"
    }
   ],
   "execution_count": 96
  },
  {
   "cell_type": "code",
   "id": "89645a58",
   "metadata": {
    "ExecuteTime": {
     "end_time": "2024-10-29T12:59:02.594368Z",
     "start_time": "2024-10-29T12:59:02.581370Z"
    }
   },
   "source": [
    "# 20% 测试数据\n",
    "X_test = X[test_index]\n",
    "y_test = y[test_index]\n",
    "\n",
    "display(X_test.shape,y_test.shape)"
   ],
   "outputs": [
    {
     "data": {
      "text/plain": [
       "(101, 8)"
      ]
     },
     "metadata": {},
     "output_type": "display_data"
    },
    {
     "data": {
      "text/plain": [
       "(101,)"
      ]
     },
     "metadata": {},
     "output_type": "display_data"
    }
   ],
   "execution_count": 97
  },
  {
   "cell_type": "markdown",
   "id": "7a8a10a7",
   "metadata": {},
   "source": [
    "#### 数据建模（model本质就是方程）"
   ]
  },
  {
   "cell_type": "code",
   "id": "07a86f35",
   "metadata": {
    "ExecuteTime": {
     "end_time": "2024-10-29T12:59:02.671367Z",
     "start_time": "2024-10-29T12:59:02.649374Z"
    }
   },
   "source": [
    "np.set_printoptions(suppress = True)\n",
    "\n",
    "model = LinearRegression(fit_intercept = True)\n",
    "\n",
    "# 如何构建，模：算法、方程\n",
    "# 考试，做过的题\n",
    "model.fit(X_train,y_train)\n",
    "\n",
    "# 建模获取了斜率，有大有小，有正有负，表示什么？\n",
    "# 正：正相关，面积，越大，房价越高\n",
    "# 负：刚好相反，犯罪率，环境污染\n",
    "display(model.coef_,model.intercept_)\n",
    "\n",
    "# - `MedInc`: 中位数收入\n",
    "# - `HouseAge`: 房屋年龄\n",
    "# - `AveRooms`: 平均房间数\n",
    "# - `AveBedrms`: 平均卧室数\n",
    "# - `Population`: 人口数\n",
    "# - `AveOccup`: 平均占用人数\n",
    "# - `Latitude`: 纬度\n",
    "# - `Longitude`: 经度"
   ],
   "outputs": [
    {
     "data": {
      "text/plain": [
       "array([ 0.33307734, -0.00636192, -0.05525997, -0.3540851 ,  0.00015162,\n",
       "       -0.00587625, 13.20148788,  5.3278504 ])"
      ]
     },
     "metadata": {},
     "output_type": "display_data"
    },
    {
     "data": {
      "text/plain": [
       "np.float64(153.69168853032158)"
      ]
     },
     "metadata": {},
     "output_type": "display_data"
    }
   ],
   "execution_count": 98
  },
  {
   "cell_type": "code",
   "id": "dc9d726d",
   "metadata": {
    "ExecuteTime": {
     "end_time": "2024-10-29T12:59:02.735368Z",
     "start_time": "2024-10-29T12:59:02.720369Z"
    }
   },
   "source": [
    "feature_names"
   ],
   "outputs": [
    {
     "data": {
      "text/plain": [
       "['MedInc',\n",
       " 'HouseAge',\n",
       " 'AveRooms',\n",
       " 'AveBedrms',\n",
       " 'Population',\n",
       " 'AveOccup',\n",
       " 'Latitude',\n",
       " 'Longitude']"
      ]
     },
     "execution_count": 99,
     "metadata": {},
     "output_type": "execute_result"
    }
   ],
   "execution_count": 99
  },
  {
   "cell_type": "markdown",
   "id": "fad01366",
   "metadata": {},
   "source": [
    "#### 模型验证、应用"
   ]
  },
  {
   "cell_type": "code",
   "id": "077a35df",
   "metadata": {
    "ExecuteTime": {
     "end_time": "2024-10-29T12:59:02.797367Z",
     "start_time": "2024-10-29T12:59:02.778367Z"
    }
   },
   "source": [
    "# 模型预测结果：y_\n",
    "y_ = model.predict(X_test).round(2)\n",
    "y_[:30]"
   ],
   "outputs": [
    {
     "data": {
      "text/plain": [
       "array([4.38, 0.72, 1.93, 3.29, 2.16, 1.39, 1.55, 1.6 , 3.8 , 2.36, 2.51,\n",
       "       1.41, 1.52, 1.19, 1.61, 1.44, 3.6 , 1.85, 2.11, 1.25, 1.33, 1.85,\n",
       "       1.31, 1.63, 1.95, 2.38, 2.51, 2.07, 1.29, 1.51])"
      ]
     },
     "execution_count": 100,
     "metadata": {},
     "output_type": "execute_result"
    }
   ],
   "execution_count": 100
  },
  {
   "cell_type": "code",
   "id": "efce4cdf",
   "metadata": {
    "ExecuteTime": {
     "end_time": "2024-10-29T12:59:02.844368Z",
     "start_time": "2024-10-29T12:59:02.835368Z"
    }
   },
   "source": [
    "y_test[:30]"
   ],
   "outputs": [
    {
     "data": {
      "text/plain": [
       "array([4.305, 0.905, 1.51 , 3.271, 2.688, 1.469, 1.394, 1.094, 3.709,\n",
       "       2.625, 1.969, 1.291, 1.089, 1.045, 1.373, 1.25 , 2.561, 1.4  ,\n",
       "       1.577, 2.115, 1.279, 0.6  , 0.982, 2.438, 1.405, 0.75 , 2.291,\n",
       "       1.647, 1.625, 1.214])"
      ]
     },
     "execution_count": 101,
     "metadata": {},
     "output_type": "execute_result"
    }
   ],
   "execution_count": 101
  },
  {
   "cell_type": "markdown",
   "id": "29b88d3d",
   "metadata": {},
   "source": [
    "#### 模型评估"
   ]
  },
  {
   "cell_type": "code",
   "id": "1a269745",
   "metadata": {
    "ExecuteTime": {
     "end_time": "2024-10-29T12:59:02.907368Z",
     "start_time": "2024-10-29T12:59:02.892369Z"
    }
   },
   "source": [
    "# 判断一下，训练数据 80%的数据的评分\n",
    "# 为什么使用，训练数据，评分高？？？\n",
    "# 做过题目，再次参加考试，分数高\n",
    "model.score(X_train,y_train)"
   ],
   "outputs": [
    {
     "data": {
      "text/plain": [
       "0.7131181991465523"
      ]
     },
     "execution_count": 102,
     "metadata": {},
     "output_type": "execute_result"
    }
   ],
   "execution_count": 102
  },
  {
   "cell_type": "code",
   "id": "71a1be24",
   "metadata": {
    "scrolled": true,
    "ExecuteTime": {
     "end_time": "2024-10-29T12:59:02.953369Z",
     "start_time": "2024-10-29T12:59:02.940371Z"
    }
   },
   "source": [
    "# 最大值，是1，小于0\n",
    "# 模型特别不好，那么评分可以是负数\n",
    "# 这个指标越接近1，说明算法越优秀~\n",
    "# 相当于，没见过题目，新题\n",
    "model.score(X_test,y_test)"
   ],
   "outputs": [
    {
     "data": {
      "text/plain": [
       "0.7511026311013401"
      ]
     },
     "execution_count": 103,
     "metadata": {},
     "output_type": "execute_result"
    }
   ],
   "execution_count": 103
  },
  {
   "cell_type": "markdown",
   "id": "7e615b25",
   "metadata": {},
   "source": [
    "$R^2 = 1 - \\frac{u}{v}$"
   ]
  },
  {
   "metadata": {},
   "cell_type": "markdown",
   "source": "",
   "id": "e0cc936b32f29fa6"
  },
  {
   "metadata": {},
   "cell_type": "markdown",
   "source": "",
   "id": "60bbcd008e379aff"
  },
  {
   "cell_type": "markdown",
   "id": "a9f5e9bc",
   "metadata": {},
   "source": [
    "`u` is the residual sum of squares ``((y_true - y_pred)\n",
    "** 2).sum()`\n"
   ]
  },
  {
   "cell_type": "markdown",
   "id": "a3cc6028",
   "metadata": {},
   "source": [
    "`v` is the total sum of squares ``((y_true -\n",
    "y_true.mean()) ** 2).sum()``"
   ]
  },
  {
   "cell_type": "code",
   "id": "ec651a04",
   "metadata": {
    "ExecuteTime": {
     "end_time": "2024-10-29T12:59:02.985372Z",
     "start_time": "2024-10-29T12:59:02.975371Z"
    }
   },
   "source": [
    "y_pred = model.predict(X_test)\n",
    "y_true = y_test"
   ],
   "outputs": [],
   "execution_count": 104
  },
  {
   "cell_type": "code",
   "id": "0fb92665",
   "metadata": {
    "ExecuteTime": {
     "end_time": "2024-10-29T12:59:03.032369Z",
     "start_time": "2024-10-29T12:59:03.019371Z"
    }
   },
   "source": [
    "u = ((y_true - y_pred)**2).sum()\n",
    "u "
   ],
   "outputs": [
    {
     "data": {
      "text/plain": [
       "np.float64(22.29612611119715)"
      ]
     },
     "execution_count": 105,
     "metadata": {},
     "output_type": "execute_result"
    }
   ],
   "execution_count": 105
  },
  {
   "cell_type": "code",
   "id": "fa6c5393",
   "metadata": {
    "ExecuteTime": {
     "end_time": "2024-10-29T12:59:03.125367Z",
     "start_time": "2024-10-29T12:59:03.108368Z"
    }
   },
   "source": [
    "v = ((y_true - y_true.mean())**2).sum()\n",
    "v"
   ],
   "outputs": [
    {
     "data": {
      "text/plain": [
       "np.float64(89.57959744554454)"
      ]
     },
     "execution_count": 106,
     "metadata": {},
     "output_type": "execute_result"
    }
   ],
   "execution_count": 106
  },
  {
   "cell_type": "code",
   "id": "8e672193",
   "metadata": {
    "ExecuteTime": {
     "end_time": "2024-10-29T12:59:03.234367Z",
     "start_time": "2024-10-29T12:59:03.216367Z"
    }
   },
   "source": [
    "1 - u/v"
   ],
   "outputs": [
    {
     "data": {
      "text/plain": [
       "np.float64(0.7511026311013401)"
      ]
     },
     "execution_count": 107,
     "metadata": {},
     "output_type": "execute_result"
    }
   ],
   "execution_count": 107
  },
  {
   "cell_type": "code",
   "id": "653a087e",
   "metadata": {
    "ExecuteTime": {
     "end_time": "2024-10-29T12:59:03.313979Z",
     "start_time": "2024-10-29T12:59:03.300979Z"
    }
   },
   "source": [
    "# 最小二乘法\n",
    "from sklearn.metrics import mean_squared_error"
   ],
   "outputs": [],
   "execution_count": 108
  },
  {
   "cell_type": "code",
   "id": "7c973b69",
   "metadata": {
    "ExecuteTime": {
     "end_time": "2024-10-29T12:59:03.361981Z",
     "start_time": "2024-10-29T12:59:03.347982Z"
    }
   },
   "source": [
    "# 这个是测试数据，验证数据，表现，误差\n",
    "# 对应那20%\n",
    "mean_squared_error(y_true,y_pred)"
   ],
   "outputs": [
    {
     "data": {
      "text/plain": [
       "np.float64(0.2207537238732391)"
      ]
     },
     "execution_count": 109,
     "metadata": {},
     "output_type": "execute_result"
    }
   ],
   "execution_count": 109
  },
  {
   "cell_type": "code",
   "id": "7114d0f9",
   "metadata": {
    "ExecuteTime": {
     "end_time": "2024-10-29T12:58:51.743335Z",
     "start_time": "2024-10-29T12:58:51.734339Z"
    }
   },
   "source": [
    "# 80% 训练，表现\n",
    "mean_squared_error(y_train,model.predict(X_train))"
   ],
   "outputs": [
    {
     "data": {
      "text/plain": [
       "np.float64(0.26810779542323177)"
      ]
     },
     "execution_count": 69,
     "metadata": {},
     "output_type": "execute_result"
    }
   ],
   "execution_count": 69
  },
  {
   "cell_type": "markdown",
   "id": "1521ecf2",
   "metadata": {},
   "source": [
    "### 代码模拟梯度下降"
   ]
  },
  {
   "cell_type": "code",
   "id": "9ea825d1",
   "metadata": {
    "ExecuteTime": {
     "end_time": "2024-10-29T13:33:15.902102Z",
     "start_time": "2024-10-29T13:33:15.885105Z"
    }
   },
   "source": [
    "import matplotlib.pyplot as plt"
   ],
   "outputs": [],
   "execution_count": 110
  },
  {
   "cell_type": "markdown",
   "id": "7043f750",
   "metadata": {},
   "source": [
    "#### 构建函数和导函数"
   ]
  },
  {
   "cell_type": "code",
   "id": "0e5179d8",
   "metadata": {
    "ExecuteTime": {
     "end_time": "2024-10-29T13:33:18.460085Z",
     "start_time": "2024-10-29T13:33:18.450083Z"
    }
   },
   "source": [
    "# 构建方程\n",
    "f = lambda x : (x - 3.5)**2 - 4.5*x + 10\n",
    "\n",
    "# 导函数\n",
    "g = lambda x :2 * (x - 3.5) - 4.5"
   ],
   "outputs": [],
   "execution_count": 111
  },
  {
   "cell_type": "markdown",
   "id": "be1bf2db",
   "metadata": {},
   "source": [
    "#### 函数可视化"
   ]
  },
  {
   "cell_type": "code",
   "id": "14324b86",
   "metadata": {
    "ExecuteTime": {
     "end_time": "2024-10-29T13:33:40.671497Z",
     "start_time": "2024-10-29T13:33:40.377815Z"
    }
   },
   "source": [
    "x = np.linspace(0,11.5,100)\n",
    "\n",
    "y = f(x)\n",
    "\n",
    "plt.plot(x,y)\n",
    "\n",
    "plt.scatter(5.75,f(5.75),color = 'red',s = 30)"
   ],
   "outputs": [
    {
     "data": {
      "text/plain": [
       "<matplotlib.collections.PathCollection at 0x2cb0303a590>"
      ]
     },
     "execution_count": 112,
     "metadata": {},
     "output_type": "execute_result"
    },
    {
     "data": {
      "text/plain": [
       "<Figure size 640x480 with 1 Axes>"
      ],
      "image/png": "[encoded data removed]"
     },
     "metadata": {},
     "output_type": "display_data"
    }
   ],
   "execution_count": 112
  },
  {
   "cell_type": "markdown",
   "id": "cb54e219",
   "metadata": {},
   "source": [
    "#### 求这个方程的最小值"
   ]
  },
  {
   "cell_type": "markdown",
   "id": "9ec200df",
   "metadata": {},
   "source": [
    "如果有方程，那么使用方程求导，非常方便！"
   ]
  },
  {
   "cell_type": "code",
   "execution_count": 26,
   "id": "89dd9800",
   "metadata": {},
   "outputs": [],
   "source": [
    "# 求导函数，令导函数为0，求解最小值对应的x值"
   ]
  },
  {
   "cell_type": "code",
   "execution_count": 27,
   "id": "9e9b119f",
   "metadata": {},
   "outputs": [],
   "source": [
    "# 2 * (x - 3.5) - 4.5\n",
    "# 2*x - 11.5 = 0\n",
    "# 2x = 11.5\n",
    "# x = 5.75"
   ]
  },
  {
   "cell_type": "markdown",
   "id": "66222608",
   "metadata": {},
   "source": [
    "#### 梯度下降（不能令方程的导函数为0，进行求解）"
   ]
  },
  {
   "metadata": {},
   "cell_type": "raw",
   "source": [
    "\n",
    "1. **和差法则**：如果有两个函数 \\( f(x) \\) 和 \\( g(x) \\)，那么它们的和或差的导数是：\n",
    "   \\[ (f+g)'(x) = f'(x) + g'(x) \\]\n",
    "   \\[ (f-g)'(x) = f'(x) - g'(x) \\]\n",
    "\n",
    "2. **乘积法则**：对于两个函数 \\( f(x) \\) 和 \\( g(x) \\)，它们的乘积的导数是：\n",
    "   \\[ (f \\cdot g)'(x) = f'(x) \\cdot g(x) + f(x) \\cdot g'(x) \\]\n",
    "\n",
    "3. **商法则**：对于两个函数 \\( f(x) \\) 和 \\( g(x) \\)，它们的商的导数是：\n",
    "   \\[ \\left(\\frac{f}{g}\\right)'(x) = \\frac{f'(x) \\cdot g(x) - f(x) \\cdot g'(x)}{(g(x))^2} \\]\n",
    "\n",
    "4. **链式法则**：如果 \\( f(x) \\) 是 \\( u(x) \\) 的函数，而 \\( u(x) \\) 是 \\( x \\) 的函数，那么 \\( f \\) 关于 \\( x \\) 的导数是：\n",
    "   \\[ f'(x) = f'(u(x)) \\cdot u'(x) \\]\n",
    "\n",
    "5. **幂法则**：对于函数 \\( x^n \\)，其中 \\( n \\) 是实数，其导数是：\n",
    "   \\[ (x^n)' = n \\cdot x^{n-1} \\]\n",
    "\n",
    "6. **指数函数**：对于函数 \\( a^x \\)，其中 \\( a \\) 是常数，其导数是：\n",
    "   \\[ (a^x)' = a^x \\ln(a) \\]\n",
    "\n",
    "7. **自然对数**：对于函数 \\( \\ln(x) \\)，其导数是：\n",
    "   \\[ (\\ln(x))' = \\frac{1}{x} \\]\n",
    "\n",
    "8. **三角函数**：\n",
    "   - 对于 \\( \\sin(x) \\)，其导数是 \\( \\cos(x) \\)。\n",
    "   - 对于 \\( \\cos(x) \\)，其导数是 \\( -\\sin(x) \\)。\n",
    "\n",
    "9. **复合三角函数**：比如和、差、倍角、半角等，它们也有相应的导数公式。\n",
    "\n",
    "10. **反函数**：如果 \\( y = f^{-1}(x) \\) 是 \\( x = f(y) \\) 的反函数，那么：\n",
    "    \\[ (f^{-1})'(x) = \\frac{1}{f'(f^{-1}(x))} \\]"
   ],
   "id": "c683958fd3bd1246",
   "outputs": null,
   "execution_count": null
  },
  {
   "metadata": {
    "collapsed": true,
    "ExecuteTime": {
     "end_time": "2024-10-29T13:49:00.163693Z",
     "start_time": "2024-10-29T13:48:59.963113Z"
    }
   },
   "cell_type": "code",
   "source": [
    "eta = 0.3 # 学习率\n",
    "\n",
    "# 梯度下降5.749，算不算答案\n",
    "# 5.7501\n",
    "# 随机（瞎蒙）,初始值\n",
    "x = np.random.randint(0,12,size = 1)[0]\n",
    "\n",
    "# 多次while 循环，每次梯度下降，更新，记录一下上一次的值\n",
    "# 比较，精确\n",
    "# + 0.1；+ 0.2,；+ 1\n",
    "# 一开始有差异，目的为了比较\n",
    "last_x = x + 0.1\n",
    "\n",
    "# 精确度\n",
    "precision = 0.0001\n",
    "print('-----------------随机x是：',x)\n",
    "\n",
    "# 每次梯度下降，求解出来的x值，一开始随机给的\n",
    "x_ = [x] # Python中列表\n",
    "count = 0\n",
    "while True:\n",
    "    if np.abs(x - last_x) < precision: # 更新时，变化甚微，终止\n",
    "        break\n",
    "    # 更新，梯度下降\n",
    "    # x是当前数值，赋值给上一个值\n",
    "    last_x = x\n",
    "    count += 1\n",
    "    x = x - eta * g(x)\n",
    "    x_.append(x)\n",
    "    print('+++++++++++++++更新之后的x是：',x)\n",
    "print('+++++++++++++++梯度下降次数：',count)\n",
    "\n",
    "# x1是NumPy数组\n",
    "x1 = np.linspace(0,11.5,100)\n",
    "y1 = f(x1)\n",
    "plt.figure(figsize=(12,9))\n",
    "plt.plot(x1,y1)\n",
    "\n",
    "# 散点图\n",
    "x_ = np.array(x_)\n",
    "plt.scatter(x_, f(x_),color = 'red',s = 30)"
   ],
   "id": "717196ef",
   "outputs": [
    {
     "name": "stdout",
     "output_type": "stream",
     "text": [
      "-----------------随机x是： 7\n",
      "+++++++++++++++更新之后的x是： 6.25\n",
      "+++++++++++++++更新之后的x是： 5.95\n",
      "+++++++++++++++更新之后的x是： 5.83\n",
      "+++++++++++++++更新之后的x是： 5.782\n",
      "+++++++++++++++更新之后的x是： 5.7628\n",
      "+++++++++++++++更新之后的x是： 5.75512\n",
      "+++++++++++++++更新之后的x是： 5.752048\n",
      "+++++++++++++++更新之后的x是： 5.7508192000000005\n",
      "+++++++++++++++更新之后的x是： 5.75032768\n",
      "+++++++++++++++更新之后的x是： 5.750131072\n",
      "+++++++++++++++更新之后的x是： 5.7500524288\n",
      "+++++++++++++++梯度下降次数： 11\n"
     ]
    },
    {
     "data": {
      "text/plain": [
       "<matplotlib.collections.PathCollection at 0x2cb0aca5000>"
      ]
     },
     "execution_count": 131,
     "metadata": {},
     "output_type": "execute_result"
    },
    {
     "data": {
      "text/plain": [
       "<Figure size 1200x900 with 1 Axes>"
      ],
      "image/png": "[encoded data removed]"
     },
     "metadata": {},
     "output_type": "display_data"
    }
   ],
   "execution_count": 131
  },
  {
   "cell_type": "code",
   "execution_count": null,
   "id": "9f197328",
   "metadata": {},
   "outputs": [],
   "source": []
  }
 ],
 "metadata": {
  "kernelspec": {
   "display_name": "Python 3",
   "language": "python",
   "name": "python3"
  },
  "language_info": {
   "codemirror_mode": {
    "name": "ipython",
    "version": 3
   },
   "file_extension": ".py",
   "mimetype": "text/x-python",
   "name": "python",
   "nbconvert_exporter": "python",
   "pygments_lexer": "ipython3",
   "version": "3.8.10"
  },
  "toc": {
   "base_numbering": 1,
   "nav_menu": {},
   "number_sections": true,
   "sideBar": true,
   "skip_h1_title": false,
   "title_cell": "Table of Contents",
   "title_sidebar": "Contents",
   "toc_cell": false,
   "toc_position": {},
   "toc_section_display": true,
   "toc_window_display": false
  }
 },
 "nbformat": 4,
 "nbformat_minor": 5
}
