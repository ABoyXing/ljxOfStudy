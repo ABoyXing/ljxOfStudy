{
 "cells": [
  {
   "cell_type": "markdown",
   "id": "02a53920",
   "metadata": {},
   "source": [
    "### 正规方程应用"
   ]
  },
  {
   "cell_type": "code",
   "id": "3b48cf60",
   "metadata": {
    "ExecuteTime": {
     "end_time": "2024-10-26T15:36:41.958714Z",
     "start_time": "2024-10-26T15:36:39.665099Z"
    }
   },
   "source": [
    "import numpy as np\n",
    "\n",
    "from sklearn.linear_model import LinearRegression"
   ],
   "outputs": [],
   "execution_count": 3
  },
  {
   "cell_type": "markdown",
   "id": "9481e0fb",
   "metadata": {},
   "source": [
    "#### 八元一次方程"
   ]
  },
  {
   "metadata": {},
   "cell_type": "markdown",
   "source": "",
   "id": "aec1fd2720b5381f"
  },
  {
   "cell_type": "code",
   "id": "cff15a92",
   "metadata": {
    "collapsed": true,
    "ExecuteTime": {
     "end_time": "2024-10-26T15:44:56.492971Z",
     "start_time": "2024-10-26T15:44:56.475896Z"
    }
   },
   "source": [
    "# 上面八元一次方程对应的X数据\n",
    "X = np.array([[  0 ,14 , 8 ,  0 ,  5,  -2,   9,  -3],\n",
    " [ -4 , 10 ,  6 ,  4 ,-14 , -2 ,-14  , 8],\n",
    " [ -1 , -6  , 5 ,-12 ,  3 , -3 ,  2 , -2],\n",
    " [  5 , -2  , 3 , 10  , 5 , 11 ,  4  ,-8],\n",
    " [-15 ,-15  ,-8 ,-15 ,  7 , -4, -12 ,  2],\n",
    " [ 11 ,-10 , -2 ,  4  , 3 , -9 , -6 ,  7],\n",
    " [-14 ,  0 ,  4 , -3  , 5 , 10 , 13 ,  7],\n",
    " [ -3 , -7 , -2 , -8  , 0 , -6 , -5 , -9]])\n",
    "# 对应的y\n",
    "y = np.array([ 339 ,-114  , 30 , 126, -395 , -87 , 422, -309])\n",
    "display(X,y)"
   ],
   "outputs": [
    {
     "data": {
      "text/plain": [
       "array([[  0,  14,   8,   0,   5,  -2,   9,  -3],\n",
       "       [ -4,  10,   6,   4, -14,  -2, -14,   8],\n",
       "       [ -1,  -6,   5, -12,   3,  -3,   2,  -2],\n",
       "       [  5,  -2,   3,  10,   5,  11,   4,  -8],\n",
       "       [-15, -15,  -8, -15,   7,  -4, -12,   2],\n",
       "       [ 11, -10,  -2,   4,   3,  -9,  -6,   7],\n",
       "       [-14,   0,   4,  -3,   5,  10,  13,   7],\n",
       "       [ -3,  -7,  -2,  -8,   0,  -6,  -5,  -9]])"
      ]
     },
     "metadata": {},
     "output_type": "display_data"
    },
    {
     "data": {
      "text/plain": [
       "array([ 339, -114,   30,  126, -395,  -87,  422, -309])"
      ]
     },
     "metadata": {},
     "output_type": "display_data"
    }
   ],
   "execution_count": 65
  },
  {
   "cell_type": "markdown",
   "id": "0c990f52",
   "metadata": {},
   "source": [
    "八元一次方程，唯一解，请问至少需要几个方程呢？"
   ]
  },
  {
   "cell_type": "code",
   "id": "d9be3f9f",
   "metadata": {
    "ExecuteTime": {
     "end_time": "2024-10-26T15:44:59.153853Z",
     "start_time": "2024-10-26T15:44:59.134854Z"
    }
   },
   "source": [
    "model = LinearRegression(fit_intercept=False)\n",
    "model.fit(X,y) # 训练\n",
    "display(model.coef_,model.intercept_)"
   ],
   "outputs": [
    {
     "data": {
      "text/plain": [
       "array([ 1.,  5., 15.,  3.,  8.,  4., 17., 12.])"
      ]
     },
     "metadata": {},
     "output_type": "display_data"
    },
    {
     "data": {
      "text/plain": [
       "0.0"
      ]
     },
     "metadata": {},
     "output_type": "display_data"
    }
   ],
   "execution_count": 66
  },
  {
   "cell_type": "code",
   "id": "a0cf005f",
   "metadata": {
    "ExecuteTime": {
     "end_time": "2024-10-26T15:45:00.791877Z",
     "start_time": "2024-10-26T15:45:00.780875Z"
    }
   },
   "source": [
    "# 标准答案~\n",
    "np.linalg.inv(X.T.dot(X)).dot(X.T).dot(y)\n"
   ],
   "outputs": [
    {
     "data": {
      "text/plain": [
       "array([ 1.,  5., 15.,  3.,  8.,  4., 17., 12.])"
      ]
     },
     "execution_count": 67,
     "metadata": {},
     "output_type": "execute_result"
    }
   ],
   "execution_count": 67
  },
  {
   "cell_type": "markdown",
   "id": "554f997e",
   "metadata": {},
   "source": [
    "#### 八元一次方程添加截距"
   ]
  },
  {
   "cell_type": "code",
   "id": "8bd69a4c",
   "metadata": {
    "ExecuteTime": {
     "end_time": "2024-10-26T15:45:03.173704Z",
     "start_time": "2024-10-26T15:45:03.156702Z"
    }
   },
   "source": [
    "# 设截距是12\n",
    "\n",
    "# 目标值进行移动，向上移动，加法运算\n",
    "print('截距是0：',y)\n",
    "y += 12\n",
    "print('增加了截距',y)"
   ],
   "outputs": [
    {
     "name": "stdout",
     "output_type": "stream",
     "text": [
      "截距是0： [ 339 -114   30  126 -395  -87  422 -309]\n",
      "增加了截距 [ 351 -102   42  138 -383  -75  434 -297]\n"
     ]
    }
   ],
   "execution_count": 68
  },
  {
   "cell_type": "markdown",
   "id": "1d299513",
   "metadata": {},
   "source": [
    "$\\hat{y} = w_1X_1 + w_2X_2 + …… + w_nX_n + b$"
   ]
  },
  {
   "cell_type": "markdown",
   "id": "b3b53361",
   "metadata": {},
   "source": [
    "b 也是一个未知变量  \n",
    "需要进行方程求解"
   ]
  },
  {
   "cell_type": "markdown",
   "id": "115784f8",
   "metadata": {},
   "source": [
    "$\\hat{y} = w_1X_1 + w_2X_2 + …… + w_nX_n + w_0 * 1$"
   ]
  },
  {
   "cell_type": "code",
   "id": "aa1df4f3",
   "metadata": {
    "ExecuteTime": {
     "end_time": "2024-10-26T15:45:05.851595Z",
     "start_time": "2024-10-26T15:45:05.835596Z"
    }
   },
   "source": [
    "# 向其后面增加一列\n",
    "X = np.concatenate([X,np.full(shape = (8,1),fill_value=1)],axis = 1)\n",
    "X"
   ],
   "outputs": [
    {
     "data": {
      "text/plain": [
       "array([[  0,  14,   8,   0,   5,  -2,   9,  -3,   1],\n",
       "       [ -4,  10,   6,   4, -14,  -2, -14,   8,   1],\n",
       "       [ -1,  -6,   5, -12,   3,  -3,   2,  -2,   1],\n",
       "       [  5,  -2,   3,  10,   5,  11,   4,  -8,   1],\n",
       "       [-15, -15,  -8, -15,   7,  -4, -12,   2,   1],\n",
       "       [ 11, -10,  -2,   4,   3,  -9,  -6,   7,   1],\n",
       "       [-14,   0,   4,  -3,   5,  10,  13,   7,   1],\n",
       "       [ -3,  -7,  -2,  -8,   0,  -6,  -5,  -9,   1]])"
      ]
     },
     "execution_count": 69,
     "metadata": {},
     "output_type": "execute_result"
    }
   ],
   "execution_count": 69
  },
  {
   "cell_type": "code",
   "id": "b9bb1770",
   "metadata": {
    "ExecuteTime": {
     "end_time": "2024-10-26T15:45:09.992972Z",
     "start_time": "2024-10-26T15:45:09.974979Z"
    }
   },
   "source": [
    "np.linalg.inv(X.T.dot(X)).dot(X.T).dot(y)"
   ],
   "outputs": [
    {
     "data": {
      "text/plain": [
       "array([  42.4453125 ,   -6.3515625 ,   83.359375  ,   -1.9921875 ,\n",
       "         10.9296875 ,   -5.953125  ,   -0.39648438,   -0.78515625,\n",
       "       -293.140625  ])"
      ]
     },
     "execution_count": 70,
     "metadata": {},
     "output_type": "execute_result"
    }
   ],
   "execution_count": 70
  },
  {
   "cell_type": "code",
   "id": "1e189d0e",
   "metadata": {
    "ExecuteTime": {
     "end_time": "2024-10-26T15:45:11.787070Z",
     "start_time": "2024-10-26T15:45:11.780069Z"
    }
   },
   "source": [
    "model = LinearRegression(fit_intercept=False)\n",
    "model.fit(X,y)\n",
    "display(model.coef_,model.intercept_)"
   ],
   "outputs": [
    {
     "data": {
      "text/plain": [
       "array([-0.28902686,  3.99875919, 17.18947808,  4.3391324 ,  8.59756611,\n",
       "        2.82031444, 16.74961517, 11.58693282,  4.16860692])"
      ]
     },
     "metadata": {},
     "output_type": "display_data"
    },
    {
     "data": {
      "text/plain": [
       "0.0"
      ]
     },
     "metadata": {},
     "output_type": "display_data"
    }
   ],
   "execution_count": 71
  },
  {
   "cell_type": "code",
   "id": "6e3ee8a9",
   "metadata": {
    "ExecuteTime": {
     "end_time": "2024-10-26T15:42:23.047482Z",
     "start_time": "2024-10-26T15:42:23.038482Z"
    }
   },
   "source": [
    "# 8代表8个方程，9代表计算的未知数\n",
    "# 8个9元一次方程 ，没有固定解\n",
    "# x + y = 3 二元一次方程，只有一个，有解吗？\n",
    "X.shape"
   ],
   "outputs": [
    {
     "data": {
      "text/plain": [
       "(8, 9)"
      ]
     },
     "execution_count": 38,
     "metadata": {},
     "output_type": "execute_result"
    }
   ],
   "execution_count": 38
  },
  {
   "cell_type": "markdown",
   "id": "6c72e037",
   "metadata": {},
   "source": [
    "#### 增加一个方程"
   ]
  },
  {
   "cell_type": "code",
   "id": "16768f3b",
   "metadata": {
    "ExecuteTime": {
     "end_time": "2024-10-26T15:45:15.828689Z",
     "start_time": "2024-10-26T15:45:15.809690Z"
    }
   },
   "source": [
    "# 标准答案\n",
    "w = np.array([ 1.,  5., 15.,  3.,  8.,  4., 17., 12.])\n",
    "w"
   ],
   "outputs": [
    {
     "data": {
      "text/plain": [
       "array([ 1.,  5., 15.,  3.,  8.,  4., 17., 12.])"
      ]
     },
     "execution_count": 72,
     "metadata": {},
     "output_type": "execute_result"
    }
   ],
   "execution_count": 72
  },
  {
   "cell_type": "code",
   "id": "e6093756",
   "metadata": {
    "ExecuteTime": {
     "end_time": "2024-10-26T15:45:19.112694Z",
     "start_time": "2024-10-26T15:45:19.101679Z"
    }
   },
   "source": [
    "# 第9个方程\n",
    "X9 = np.random.randint(-15,15,size = 8)\n",
    "X9"
   ],
   "outputs": [
    {
     "data": {
      "text/plain": [
       "array([ 10,   9, -13,  -7, -10,  11,   0,   4], dtype=int32)"
      ]
     },
     "execution_count": 73,
     "metadata": {},
     "output_type": "execute_result"
    }
   ],
   "execution_count": 73
  },
  {
   "cell_type": "code",
   "id": "80744d70",
   "metadata": {
    "ExecuteTime": {
     "end_time": "2024-10-26T15:45:22.349657Z",
     "start_time": "2024-10-26T15:45:22.338656Z"
    }
   },
   "source": [
    "# 上面的8个方程，都有截距是12，第九个方程也一样\n",
    "a = X9.dot(w) + 12\n",
    "\n",
    "y = np.concatenate([y,[a]])\n",
    "y"
   ],
   "outputs": [
    {
     "data": {
      "text/plain": [
       "array([ 351., -102.,   42.,  138., -383.,  -75.,  434., -297., -137.])"
      ]
     },
     "execution_count": 74,
     "metadata": {},
     "output_type": "execute_result"
    }
   ],
   "execution_count": 74
  },
  {
   "cell_type": "code",
   "id": "0e119274",
   "metadata": {
    "ExecuteTime": {
     "end_time": "2024-10-26T15:45:25.042698Z",
     "start_time": "2024-10-26T15:45:25.036698Z"
    }
   },
   "source": [
    "X9 = np.concatenate([X9,[1]])\n",
    "X9"
   ],
   "outputs": [
    {
     "data": {
      "text/plain": [
       "array([ 10,   9, -13,  -7, -10,  11,   0,   4,   1])"
      ]
     },
     "execution_count": 75,
     "metadata": {},
     "output_type": "execute_result"
    }
   ],
   "execution_count": 75
  },
  {
   "cell_type": "code",
   "id": "44489322",
   "metadata": {
    "ExecuteTime": {
     "end_time": "2024-10-26T15:45:41.652765Z",
     "start_time": "2024-10-26T15:45:41.646212Z"
    }
   },
   "source": [
    "X = np.concatenate([X,[X9]])\n",
    "X"
   ],
   "outputs": [
    {
     "data": {
      "text/plain": [
       "array([[  0,  14,   8,   0,   5,  -2,   9,  -3,   1],\n",
       "       [ -4,  10,   6,   4, -14,  -2, -14,   8,   1],\n",
       "       [ -1,  -6,   5, -12,   3,  -3,   2,  -2,   1],\n",
       "       [  5,  -2,   3,  10,   5,  11,   4,  -8,   1],\n",
       "       [-15, -15,  -8, -15,   7,  -4, -12,   2,   1],\n",
       "       [ 11, -10,  -2,   4,   3,  -9,  -6,   7,   1],\n",
       "       [-14,   0,   4,  -3,   5,  10,  13,   7,   1],\n",
       "       [ -3,  -7,  -2,  -8,   0,  -6,  -5,  -9,   1],\n",
       "       [ 10,   9, -13,  -7, -10,  11,   0,   4,   1]])"
      ]
     },
     "execution_count": 76,
     "metadata": {},
     "output_type": "execute_result"
    }
   ],
   "execution_count": 76
  },
  {
   "cell_type": "code",
   "id": "7356489a",
   "metadata": {
    "ExecuteTime": {
     "end_time": "2024-10-26T15:45:45.897930Z",
     "start_time": "2024-10-26T15:45:45.878931Z"
    }
   },
   "source": "w",
   "outputs": [
    {
     "data": {
      "text/plain": [
       "array([ 1.,  5., 15.,  3.,  8.,  4., 17., 12.])"
      ]
     },
     "execution_count": 77,
     "metadata": {},
     "output_type": "execute_result"
    }
   ],
   "execution_count": 77
  },
  {
   "cell_type": "code",
   "id": "ab9be840",
   "metadata": {
    "scrolled": true,
    "ExecuteTime": {
     "end_time": "2024-10-26T15:47:36.206877Z",
     "start_time": "2024-10-26T15:47:36.195877Z"
    }
   },
   "source": [
    "np.linalg.inv(X.T.dot(X)).dot(X.T).dot(y)"
   ],
   "outputs": [
    {
     "data": {
      "text/plain": [
       "array([ 1.,  5., 15.,  3.,  8.,  4., 17., 12., 12.])"
      ]
     },
     "execution_count": 80,
     "metadata": {},
     "output_type": "execute_result"
    }
   ],
   "execution_count": 80
  },
  {
   "cell_type": "code",
   "id": "2b864cdd",
   "metadata": {
    "ExecuteTime": {
     "end_time": "2024-10-26T15:48:01.301246Z",
     "start_time": "2024-10-26T15:48:01.277223Z"
    }
   },
   "source": [
    "model = LinearRegression(fit_intercept=False)\n",
    "model.fit(X,y)\n",
    "\n",
    "display(X,y,model.coef_,model.intercept_)"
   ],
   "outputs": [
    {
     "data": {
      "text/plain": [
       "array([[  0,  14,   8,   0,   5,  -2,   9,  -3,   1],\n",
       "       [ -4,  10,   6,   4, -14,  -2, -14,   8,   1],\n",
       "       [ -1,  -6,   5, -12,   3,  -3,   2,  -2,   1],\n",
       "       [  5,  -2,   3,  10,   5,  11,   4,  -8,   1],\n",
       "       [-15, -15,  -8, -15,   7,  -4, -12,   2,   1],\n",
       "       [ 11, -10,  -2,   4,   3,  -9,  -6,   7,   1],\n",
       "       [-14,   0,   4,  -3,   5,  10,  13,   7,   1],\n",
       "       [ -3,  -7,  -2,  -8,   0,  -6,  -5,  -9,   1],\n",
       "       [ 10,   9, -13,  -7, -10,  11,   0,   4,   1]])"
      ]
     },
     "metadata": {},
     "output_type": "display_data"
    },
    {
     "data": {
      "text/plain": [
       "array([ 351., -102.,   42.,  138., -383.,  -75.,  434., -297., -137.])"
      ]
     },
     "metadata": {},
     "output_type": "display_data"
    },
    {
     "data": {
      "text/plain": [
       "array([ 1.,  5., 15.,  3.,  8.,  4., 17., 12., 12.])"
      ]
     },
     "metadata": {},
     "output_type": "display_data"
    },
    {
     "data": {
      "text/plain": [
       "0.0"
      ]
     },
     "metadata": {},
     "output_type": "display_data"
    }
   ],
   "execution_count": 82
  },
  {
   "cell_type": "code",
   "id": "fa920fa7",
   "metadata": {
    "ExecuteTime": {
     "end_time": "2024-10-26T15:47:39.551287Z",
     "start_time": "2024-10-26T15:47:39.543214Z"
    }
   },
   "source": [
    "# 四舍五入，截距：12\n",
    "model = LinearRegression(fit_intercept=True)\n",
    "model.fit(X,y)\n",
    "display(model.coef_,model.intercept_)"
   ],
   "outputs": [
    {
     "data": {
      "text/plain": [
       "array([ 1.,  5., 15.,  3.,  8.,  4., 17., 12.,  0.])"
      ]
     },
     "metadata": {},
     "output_type": "display_data"
    },
    {
     "data": {
      "text/plain": [
       "np.float64(12.000000000000025)"
      ]
     },
     "metadata": {},
     "output_type": "display_data"
    }
   ],
   "execution_count": 81
  },
  {
   "cell_type": "code",
   "id": "76e3ba7e",
   "metadata": {
    "ExecuteTime": {
     "end_time": "2024-10-26T15:48:28.682335Z",
     "start_time": "2024-10-26T15:48:28.662338Z"
    }
   },
   "source": [
    "# 四舍五入，截距：12\n",
    "model = LinearRegression(fit_intercept=True)\n",
    "# 截距去掉！\n",
    "model.fit(X[:,:-1],y)\n",
    "display(model.coef_,model.intercept_)"
   ],
   "outputs": [
    {
     "data": {
      "text/plain": [
       "array([ 1.,  5., 15.,  3.,  8.,  4., 17., 12.])"
      ]
     },
     "metadata": {},
     "output_type": "display_data"
    },
    {
     "data": {
      "text/plain": [
       "np.float64(12.000000000000021)"
      ]
     },
     "metadata": {},
     "output_type": "display_data"
    }
   ],
   "execution_count": 83
  },
  {
   "cell_type": "markdown",
   "id": "fe6c843a",
   "metadata": {},
   "source": [
    "### 正规方程计算"
   ]
  },
  {
   "cell_type": "markdown",
   "id": "173abbe2",
   "metadata": {},
   "source": [
    "#### 简单线性回归（一个系数，变量）"
   ]
  },
  {
   "cell_type": "code",
   "id": "95b04ab1",
   "metadata": {
    "ExecuteTime": {
     "end_time": "2024-10-28T14:07:34.748516Z",
     "start_time": "2024-10-28T14:07:34.640512Z"
    }
   },
   "source": [
    "import numpy as np\n",
    "import matplotlib.pyplot as plt\n",
    "\n",
    "# 转化成矩阵，reshape\n",
    "X = np.linspace(0,10,num = 30).reshape(-1,1)\n",
    "# 斜率和截距，随机生成\n",
    "w = np.random.randint(1,5,size = 1)\n",
    "b = np.random.randint(1,10,size = 1)\n",
    "# 打印X w b\n",
    "print('X:',X,'\\nw:',w,'\\nb:',b)\n",
    "# 根据一元一次方程计算目标值y，并加上“噪声”，数据有上下波动~\n",
    "# 目标值y真实值！！！\n",
    "y = X * w + b + np.random.randn(30,1)\n",
    "\n",
    "\n",
    "plt.scatter(X,y)\n",
    "\n",
    "\n",
    "# 重新构造X，b截距，相当于系数w0，前面统一乘以1\n",
    "X = np.concatenate([X,np.full(shape = (30,1),fill_value= 1)],axis = 1)\n",
    "# \n",
    "# 正规方程求解\n",
    "θ = np.linalg.inv(X.T.dot(X)).dot(X.T).dot(y).round(2)\n",
    "# \n",
    "print('一元一次方程真实的斜率和截距是：',w, b)\n",
    "print('通过正规方程求解的斜率和截距是：',θ)\n",
    "# \n",
    "# 根据求解的斜率和截距绘制线性回归线型图\n",
    "plt.plot(X[:,0],X.dot(θ),color = 'green')"
   ],
   "outputs": [
    {
     "name": "stdout",
     "output_type": "stream",
     "text": [
      "X: [[ 0.        ]\n",
      " [ 0.34482759]\n",
      " [ 0.68965517]\n",
      " [ 1.03448276]\n",
      " [ 1.37931034]\n",
      " [ 1.72413793]\n",
      " [ 2.06896552]\n",
      " [ 2.4137931 ]\n",
      " [ 2.75862069]\n",
      " [ 3.10344828]\n",
      " [ 3.44827586]\n",
      " [ 3.79310345]\n",
      " [ 4.13793103]\n",
      " [ 4.48275862]\n",
      " [ 4.82758621]\n",
      " [ 5.17241379]\n",
      " [ 5.51724138]\n",
      " [ 5.86206897]\n",
      " [ 6.20689655]\n",
      " [ 6.55172414]\n",
      " [ 6.89655172]\n",
      " [ 7.24137931]\n",
      " [ 7.5862069 ]\n",
      " [ 7.93103448]\n",
      " [ 8.27586207]\n",
      " [ 8.62068966]\n",
      " [ 8.96551724]\n",
      " [ 9.31034483]\n",
      " [ 9.65517241]\n",
      " [10.        ]] \n",
      "w: [4] \n",
      "b: [2]\n",
      "一元一次方程真实的斜率和截距是： [4] [2]\n",
      "通过正规方程求解的斜率和截距是： [[3.98]\n",
      " [2.17]]\n"
     ]
    },
    {
     "data": {
      "text/plain": [
       "[<matplotlib.lines.Line2D at 0x157f23fec50>]"
      ]
     },
     "execution_count": 28,
     "metadata": {},
     "output_type": "execute_result"
    },
    {
     "data": {
      "text/plain": [
       "<Figure size 640x480 with 1 Axes>"
      ],
      "image/png": "[encoded data removed]"
     },
     "metadata": {},
     "output_type": "display_data"
    }
   ],
   "execution_count": 28
  },
  {
   "cell_type": "markdown",
   "id": "0b7c29bd",
   "metadata": {},
   "source": [
    "#### 复杂多元一次方程（二元举例，画图）"
   ]
  },
  {
   "cell_type": "code",
   "id": "6fe6e60a",
   "metadata": {
    "collapsed": true,
    "ExecuteTime": {
     "end_time": "2024-10-28T14:20:48.729372Z",
     "start_time": "2024-10-28T14:20:48.576587Z"
    }
   },
   "source": [
    "import numpy as np\n",
    "import matplotlib.pyplot as plt\n",
    "from mpl_toolkits.mplot3d.axes3d import Axes3D # 绘制三维图像\n",
    "# 转化成矩阵\n",
    "x1 = np.random.randint(-150,150,size = (300,1))\n",
    "x2 = np.random.randint(0,300,size = (300,1))\n",
    "# 打印\n",
    "# print('x1:',x1,'\\nx2:',x2)\n",
    "# 斜率和截距，随机生成\n",
    "w = np.random.randint(1,5,size = 2)\n",
    "b = np.random.randint(1,10,size = 1)\n",
    "\n",
    "# 根据二元一次方程计算目标值y，并加上“噪声”，数据有上下波动~\n",
    "y = x1 * w[0] + x2 * w[1] + b + np.random.randn(300,1)\n",
    "#在下面打印所有上述二元一次方程，注意格式！\n",
    "for i in range(300): print(f\"x1: {x1[i][0]}, x2: {x2[i][0]}, y: {y[i][0]:.2f}, 方程: y = {w[0]} * x1 + {w[1]} * x2 + {b[0]}\")\n",
    "# \n",
    "fig = plt.figure(figsize=(9,6))\n",
    "ax = plt.subplot(111,projection = '3d')\n",
    "ax.scatter(x1,x2,y) # 三维散点图\n",
    "ax.view_init(elev=10, azim=-20) # 调整视角\n",
    "\n",
    "# 重新构造X，将x1、x2以及截距b，相当于系数w0，前面统一乘以1进行数据合并\n",
    "X = np.concatenate([x1,x2,np.full(shape = (300,1),fill_value=1)],axis = 1)\n",
    "w = np.concatenate([w,b])\n",
    "# 正规方程求解\n",
    "θ = np.linalg.inv(X.T.dot(X)).dot(X.T).dot(y).round(2)\n",
    "\n",
    "print('二元一次方程真实的斜率和截距是：',w)\n",
    "print('通过正规方程求解的斜率和截距是：',θ.reshape(-1))\n",
    "\n",
    "# # 根据求解的斜率和截距绘制线性回归线型图\n",
    "x = np.linspace(-150,150,100)\n",
    "y = np.linspace(0,300,100)\n",
    "z = x * θ[0] + y * θ[1] + θ[2]\n",
    "ax.plot(x,y,z ,color = 'red')"
   ],
   "outputs": [
    {
     "name": "stdout",
     "output_type": "stream",
     "text": [
      "x1: -133, x2: 131, y: 397.40, 方程: y = 1 * x1 + 4 * x2 + 9\n",
      "x1: -121, x2: 265, y: 948.13, 方程: y = 1 * x1 + 4 * x2 + 9\n",
      "x1: -37, x2: 56, y: 196.41, 方程: y = 1 * x1 + 4 * x2 + 9\n",
      "x1: 75, x2: 46, y: 268.51, 方程: y = 1 * x1 + 4 * x2 + 9\n",
      "x1: 108, x2: 36, y: 261.31, 方程: y = 1 * x1 + 4 * x2 + 9\n",
      "x1: -96, x2: 106, y: 336.46, 方程: y = 1 * x1 + 4 * x2 + 9\n",
      "x1: 121, x2: 87, y: 476.28, 方程: y = 1 * x1 + 4 * x2 + 9\n",
      "x1: -48, x2: 154, y: 577.65, 方程: y = 1 * x1 + 4 * x2 + 9\n",
      "x1: 82, x2: 164, y: 746.90, 方程: y = 1 * x1 + 4 * x2 + 9\n",
      "x1: -141, x2: 194, y: 645.22, 方程: y = 1 * x1 + 4 * x2 + 9\n",
      "x1: -97, x2: 182, y: 640.29, 方程: y = 1 * x1 + 4 * x2 + 9\n",
      "x1: -108, x2: 203, y: 712.41, 方程: y = 1 * x1 + 4 * x2 + 9\n",
      "x1: -22, x2: 166, y: 649.51, 方程: y = 1 * x1 + 4 * x2 + 9\n",
      "x1: 50, x2: 246, y: 1042.53, 方程: y = 1 * x1 + 4 * x2 + 9\n",
      "x1: 115, x2: 205, y: 943.73, 方程: y = 1 * x1 + 4 * x2 + 9\n",
      "x1: -81, x2: 279, y: 1044.96, 方程: y = 1 * x1 + 4 * x2 + 9\n",
      "x1: -111, x2: 102, y: 306.67, 方程: y = 1 * x1 + 4 * x2 + 9\n",
      "x1: 70, x2: 10, y: 119.72, 方程: y = 1 * x1 + 4 * x2 + 9\n",
      "x1: 137, x2: 121, y: 629.80, 方程: y = 1 * x1 + 4 * x2 + 9\n",
      "x1: -60, x2: 116, y: 414.76, 方程: y = 1 * x1 + 4 * x2 + 9\n",
      "x1: -113, x2: 139, y: 450.06, 方程: y = 1 * x1 + 4 * x2 + 9\n",
      "x1: -150, x2: 280, y: 979.57, 方程: y = 1 * x1 + 4 * x2 + 9\n",
      "x1: -35, x2: 42, y: 142.20, 方程: y = 1 * x1 + 4 * x2 + 9\n",
      "x1: -100, x2: 260, y: 947.78, 方程: y = 1 * x1 + 4 * x2 + 9\n",
      "x1: 123, x2: 256, y: 1155.39, 方程: y = 1 * x1 + 4 * x2 + 9\n",
      "x1: -68, x2: 104, y: 358.94, 方程: y = 1 * x1 + 4 * x2 + 9\n",
      "x1: 113, x2: 20, y: 201.38, 方程: y = 1 * x1 + 4 * x2 + 9\n",
      "x1: 22, x2: 178, y: 742.13, 方程: y = 1 * x1 + 4 * x2 + 9\n",
      "x1: 23, x2: 143, y: 604.25, 方程: y = 1 * x1 + 4 * x2 + 9\n",
      "x1: 46, x2: 43, y: 227.34, 方程: y = 1 * x1 + 4 * x2 + 9\n",
      "x1: 24, x2: 29, y: 150.89, 方程: y = 1 * x1 + 4 * x2 + 9\n",
      "x1: -22, x2: 112, y: 436.97, 方程: y = 1 * x1 + 4 * x2 + 9\n",
      "x1: -144, x2: 295, y: 1044.94, 方程: y = 1 * x1 + 4 * x2 + 9\n",
      "x1: -49, x2: 231, y: 883.72, 方程: y = 1 * x1 + 4 * x2 + 9\n",
      "x1: -123, x2: 159, y: 523.20, 方程: y = 1 * x1 + 4 * x2 + 9\n",
      "x1: -23, x2: 241, y: 951.11, 方程: y = 1 * x1 + 4 * x2 + 9\n",
      "x1: 75, x2: 239, y: 1039.31, 方程: y = 1 * x1 + 4 * x2 + 9\n",
      "x1: 77, x2: 78, y: 398.15, 方程: y = 1 * x1 + 4 * x2 + 9\n",
      "x1: -5, x2: 163, y: 657.91, 方程: y = 1 * x1 + 4 * x2 + 9\n",
      "x1: 140, x2: 1, y: 154.50, 方程: y = 1 * x1 + 4 * x2 + 9\n",
      "x1: -85, x2: 171, y: 608.75, 方程: y = 1 * x1 + 4 * x2 + 9\n",
      "x1: 81, x2: 44, y: 266.97, 方程: y = 1 * x1 + 4 * x2 + 9\n",
      "x1: -124, x2: 123, y: 376.32, 方程: y = 1 * x1 + 4 * x2 + 9\n",
      "x1: -110, x2: 16, y: -37.91, 方程: y = 1 * x1 + 4 * x2 + 9\n",
      "x1: -33, x2: 90, y: 336.55, 方程: y = 1 * x1 + 4 * x2 + 9\n",
      "x1: 130, x2: 96, y: 522.40, 方程: y = 1 * x1 + 4 * x2 + 9\n",
      "x1: -122, x2: 115, y: 346.66, 方程: y = 1 * x1 + 4 * x2 + 9\n",
      "x1: -1, x2: 89, y: 364.74, 方程: y = 1 * x1 + 4 * x2 + 9\n",
      "x1: -128, x2: 58, y: 114.96, 方程: y = 1 * x1 + 4 * x2 + 9\n",
      "x1: 36, x2: 112, y: 494.36, 方程: y = 1 * x1 + 4 * x2 + 9\n",
      "x1: 11, x2: 229, y: 936.80, 方程: y = 1 * x1 + 4 * x2 + 9\n",
      "x1: 25, x2: 169, y: 709.86, 方程: y = 1 * x1 + 4 * x2 + 9\n",
      "x1: 5, x2: 47, y: 202.19, 方程: y = 1 * x1 + 4 * x2 + 9\n",
      "x1: 67, x2: 261, y: 1120.76, 方程: y = 1 * x1 + 4 * x2 + 9\n",
      "x1: -29, x2: 99, y: 376.48, 方程: y = 1 * x1 + 4 * x2 + 9\n",
      "x1: -78, x2: 167, y: 598.11, 方程: y = 1 * x1 + 4 * x2 + 9\n",
      "x1: 112, x2: 257, y: 1147.27, 方程: y = 1 * x1 + 4 * x2 + 9\n",
      "x1: -132, x2: 252, y: 885.19, 方程: y = 1 * x1 + 4 * x2 + 9\n",
      "x1: 46, x2: 96, y: 438.62, 方程: y = 1 * x1 + 4 * x2 + 9\n",
      "x1: 41, x2: 246, y: 1032.49, 方程: y = 1 * x1 + 4 * x2 + 9\n",
      "x1: -11, x2: 204, y: 813.78, 方程: y = 1 * x1 + 4 * x2 + 9\n",
      "x1: 85, x2: 297, y: 1281.59, 方程: y = 1 * x1 + 4 * x2 + 9\n",
      "x1: 71, x2: 116, y: 543.09, 方程: y = 1 * x1 + 4 * x2 + 9\n",
      "x1: 71, x2: 202, y: 888.68, 方程: y = 1 * x1 + 4 * x2 + 9\n",
      "x1: -148, x2: 25, y: -39.45, 方程: y = 1 * x1 + 4 * x2 + 9\n",
      "x1: -79, x2: 97, y: 319.13, 方程: y = 1 * x1 + 4 * x2 + 9\n",
      "x1: 120, x2: 275, y: 1229.78, 方程: y = 1 * x1 + 4 * x2 + 9\n",
      "x1: -11, x2: 140, y: 559.18, 方程: y = 1 * x1 + 4 * x2 + 9\n",
      "x1: 52, x2: 269, y: 1135.38, 方程: y = 1 * x1 + 4 * x2 + 9\n",
      "x1: -22, x2: 234, y: 921.87, 方程: y = 1 * x1 + 4 * x2 + 9\n",
      "x1: 125, x2: 128, y: 645.67, 方程: y = 1 * x1 + 4 * x2 + 9\n",
      "x1: -36, x2: 41, y: 136.02, 方程: y = 1 * x1 + 4 * x2 + 9\n",
      "x1: -64, x2: 80, y: 265.76, 方程: y = 1 * x1 + 4 * x2 + 9\n",
      "x1: -50, x2: 47, y: 146.65, 方程: y = 1 * x1 + 4 * x2 + 9\n",
      "x1: 80, x2: 39, y: 245.09, 方程: y = 1 * x1 + 4 * x2 + 9\n",
      "x1: 122, x2: 221, y: 1014.31, 方程: y = 1 * x1 + 4 * x2 + 9\n",
      "x1: 145, x2: 134, y: 689.96, 方程: y = 1 * x1 + 4 * x2 + 9\n",
      "x1: 80, x2: 207, y: 917.64, 方程: y = 1 * x1 + 4 * x2 + 9\n",
      "x1: -39, x2: 283, y: 1102.05, 方程: y = 1 * x1 + 4 * x2 + 9\n",
      "x1: -81, x2: 190, y: 686.87, 方程: y = 1 * x1 + 4 * x2 + 9\n",
      "x1: 21, x2: 122, y: 515.52, 方程: y = 1 * x1 + 4 * x2 + 9\n",
      "x1: 148, x2: 101, y: 561.53, 方程: y = 1 * x1 + 4 * x2 + 9\n",
      "x1: -82, x2: 177, y: 634.61, 方程: y = 1 * x1 + 4 * x2 + 9\n",
      "x1: 58, x2: 38, y: 217.86, 方程: y = 1 * x1 + 4 * x2 + 9\n",
      "x1: -107, x2: 95, y: 282.45, 方程: y = 1 * x1 + 4 * x2 + 9\n",
      "x1: -78, x2: 210, y: 769.95, 方程: y = 1 * x1 + 4 * x2 + 9\n",
      "x1: 146, x2: 285, y: 1294.67, 方程: y = 1 * x1 + 4 * x2 + 9\n",
      "x1: 42, x2: 5, y: 71.01, 方程: y = 1 * x1 + 4 * x2 + 9\n",
      "x1: 145, x2: 131, y: 677.83, 方程: y = 1 * x1 + 4 * x2 + 9\n",
      "x1: -95, x2: 288, y: 1067.15, 方程: y = 1 * x1 + 4 * x2 + 9\n",
      "x1: -54, x2: 286, y: 1097.98, 方程: y = 1 * x1 + 4 * x2 + 9\n",
      "x1: -49, x2: 221, y: 844.45, 方程: y = 1 * x1 + 4 * x2 + 9\n",
      "x1: -38, x2: 107, y: 397.86, 方程: y = 1 * x1 + 4 * x2 + 9\n",
      "x1: -121, x2: 12, y: -63.88, 方程: y = 1 * x1 + 4 * x2 + 9\n",
      "x1: 41, x2: 290, y: 1209.70, 方程: y = 1 * x1 + 4 * x2 + 9\n",
      "x1: 131, x2: 73, y: 433.58, 方程: y = 1 * x1 + 4 * x2 + 9\n",
      "x1: -105, x2: 263, y: 955.06, 方程: y = 1 * x1 + 4 * x2 + 9\n",
      "x1: 107, x2: 213, y: 966.93, 方程: y = 1 * x1 + 4 * x2 + 9\n",
      "x1: -100, x2: 275, y: 1010.36, 方程: y = 1 * x1 + 4 * x2 + 9\n",
      "x1: -142, x2: 231, y: 790.76, 方程: y = 1 * x1 + 4 * x2 + 9\n",
      "x1: -79, x2: 194, y: 706.15, 方程: y = 1 * x1 + 4 * x2 + 9\n",
      "x1: -108, x2: 156, y: 525.63, 方程: y = 1 * x1 + 4 * x2 + 9\n",
      "x1: -71, x2: 59, y: 173.00, 方程: y = 1 * x1 + 4 * x2 + 9\n",
      "x1: -121, x2: 242, y: 857.09, 方程: y = 1 * x1 + 4 * x2 + 9\n",
      "x1: 91, x2: 262, y: 1150.07, 方程: y = 1 * x1 + 4 * x2 + 9\n",
      "x1: -68, x2: 74, y: 236.55, 方程: y = 1 * x1 + 4 * x2 + 9\n",
      "x1: 128, x2: 152, y: 745.47, 方程: y = 1 * x1 + 4 * x2 + 9\n",
      "x1: -102, x2: 161, y: 551.01, 方程: y = 1 * x1 + 4 * x2 + 9\n",
      "x1: -27, x2: 111, y: 425.36, 方程: y = 1 * x1 + 4 * x2 + 9\n",
      "x1: -12, x2: 24, y: 92.15, 方程: y = 1 * x1 + 4 * x2 + 9\n",
      "x1: 27, x2: 299, y: 1233.30, 方程: y = 1 * x1 + 4 * x2 + 9\n",
      "x1: 91, x2: 128, y: 610.05, 方程: y = 1 * x1 + 4 * x2 + 9\n",
      "x1: 33, x2: 36, y: 185.82, 方程: y = 1 * x1 + 4 * x2 + 9\n",
      "x1: -75, x2: 151, y: 538.09, 方程: y = 1 * x1 + 4 * x2 + 9\n",
      "x1: -140, x2: 0, y: -130.77, 方程: y = 1 * x1 + 4 * x2 + 9\n",
      "x1: 91, x2: 159, y: 736.08, 方程: y = 1 * x1 + 4 * x2 + 9\n",
      "x1: 39, x2: 102, y: 456.85, 方程: y = 1 * x1 + 4 * x2 + 9\n",
      "x1: -35, x2: 77, y: 283.13, 方程: y = 1 * x1 + 4 * x2 + 9\n",
      "x1: -25, x2: 125, y: 484.52, 方程: y = 1 * x1 + 4 * x2 + 9\n",
      "x1: 65, x2: 15, y: 134.66, 方程: y = 1 * x1 + 4 * x2 + 9\n",
      "x1: -105, x2: 15, y: -35.14, 方程: y = 1 * x1 + 4 * x2 + 9\n",
      "x1: -74, x2: 138, y: 487.82, 方程: y = 1 * x1 + 4 * x2 + 9\n",
      "x1: 52, x2: 82, y: 389.04, 方程: y = 1 * x1 + 4 * x2 + 9\n",
      "x1: -75, x2: 235, y: 875.52, 方程: y = 1 * x1 + 4 * x2 + 9\n",
      "x1: -122, x2: 273, y: 978.33, 方程: y = 1 * x1 + 4 * x2 + 9\n",
      "x1: 47, x2: 248, y: 1048.62, 方程: y = 1 * x1 + 4 * x2 + 9\n",
      "x1: -2, x2: 187, y: 754.65, 方程: y = 1 * x1 + 4 * x2 + 9\n",
      "x1: -132, x2: 224, y: 773.62, 方程: y = 1 * x1 + 4 * x2 + 9\n",
      "x1: -94, x2: 62, y: 162.92, 方程: y = 1 * x1 + 4 * x2 + 9\n",
      "x1: -49, x2: 23, y: 52.41, 方程: y = 1 * x1 + 4 * x2 + 9\n",
      "x1: 31, x2: 224, y: 935.51, 方程: y = 1 * x1 + 4 * x2 + 9\n",
      "x1: 93, x2: 99, y: 498.25, 方程: y = 1 * x1 + 4 * x2 + 9\n",
      "x1: -14, x2: 14, y: 50.27, 方程: y = 1 * x1 + 4 * x2 + 9\n",
      "x1: -51, x2: 149, y: 552.20, 方程: y = 1 * x1 + 4 * x2 + 9\n",
      "x1: 33, x2: 45, y: 222.40, 方程: y = 1 * x1 + 4 * x2 + 9\n",
      "x1: -50, x2: 266, y: 1020.12, 方程: y = 1 * x1 + 4 * x2 + 9\n",
      "x1: -13, x2: 161, y: 639.24, 方程: y = 1 * x1 + 4 * x2 + 9\n",
      "x1: 33, x2: 236, y: 984.69, 方程: y = 1 * x1 + 4 * x2 + 9\n",
      "x1: -38, x2: 294, y: 1146.54, 方程: y = 1 * x1 + 4 * x2 + 9\n",
      "x1: -86, x2: 49, y: 118.32, 方程: y = 1 * x1 + 4 * x2 + 9\n",
      "x1: 7, x2: 250, y: 1014.89, 方程: y = 1 * x1 + 4 * x2 + 9\n",
      "x1: -16, x2: 57, y: 219.03, 方程: y = 1 * x1 + 4 * x2 + 9\n",
      "x1: -50, x2: 240, y: 919.23, 方程: y = 1 * x1 + 4 * x2 + 9\n",
      "x1: 147, x2: 198, y: 948.02, 方程: y = 1 * x1 + 4 * x2 + 9\n",
      "x1: 30, x2: 162, y: 686.14, 方程: y = 1 * x1 + 4 * x2 + 9\n",
      "x1: 19, x2: 117, y: 495.78, 方程: y = 1 * x1 + 4 * x2 + 9\n",
      "x1: 37, x2: 40, y: 205.76, 方程: y = 1 * x1 + 4 * x2 + 9\n",
      "x1: -132, x2: 109, y: 313.88, 方程: y = 1 * x1 + 4 * x2 + 9\n",
      "x1: 12, x2: 141, y: 584.25, 方程: y = 1 * x1 + 4 * x2 + 9\n",
      "x1: 62, x2: 41, y: 235.69, 方程: y = 1 * x1 + 4 * x2 + 9\n",
      "x1: -14, x2: 156, y: 620.01, 方程: y = 1 * x1 + 4 * x2 + 9\n",
      "x1: -129, x2: 179, y: 595.49, 方程: y = 1 * x1 + 4 * x2 + 9\n",
      "x1: -55, x2: 24, y: 48.41, 方程: y = 1 * x1 + 4 * x2 + 9\n",
      "x1: -38, x2: 229, y: 885.16, 方程: y = 1 * x1 + 4 * x2 + 9\n",
      "x1: 30, x2: 116, y: 502.09, 方程: y = 1 * x1 + 4 * x2 + 9\n",
      "x1: 25, x2: 227, y: 942.50, 方程: y = 1 * x1 + 4 * x2 + 9\n",
      "x1: 54, x2: 79, y: 378.90, 方程: y = 1 * x1 + 4 * x2 + 9\n",
      "x1: -59, x2: 42, y: 119.61, 方程: y = 1 * x1 + 4 * x2 + 9\n",
      "x1: 53, x2: 187, y: 810.25, 方程: y = 1 * x1 + 4 * x2 + 9\n",
      "x1: -30, x2: 79, y: 292.19, 方程: y = 1 * x1 + 4 * x2 + 9\n",
      "x1: 145, x2: 177, y: 863.09, 方程: y = 1 * x1 + 4 * x2 + 9\n",
      "x1: -137, x2: 294, y: 1048.61, 方程: y = 1 * x1 + 4 * x2 + 9\n",
      "x1: 2, x2: 6, y: 32.84, 方程: y = 1 * x1 + 4 * x2 + 9\n",
      "x1: 37, x2: 184, y: 781.36, 方程: y = 1 * x1 + 4 * x2 + 9\n",
      "x1: -9, x2: 11, y: 44.46, 方程: y = 1 * x1 + 4 * x2 + 9\n",
      "x1: 25, x2: 261, y: 1078.17, 方程: y = 1 * x1 + 4 * x2 + 9\n",
      "x1: 127, x2: 63, y: 388.86, 方程: y = 1 * x1 + 4 * x2 + 9\n",
      "x1: -35, x2: 137, y: 520.45, 方程: y = 1 * x1 + 4 * x2 + 9\n",
      "x1: 36, x2: 66, y: 310.34, 方程: y = 1 * x1 + 4 * x2 + 9\n",
      "x1: 90, x2: 179, y: 815.12, 方程: y = 1 * x1 + 4 * x2 + 9\n",
      "x1: -52, x2: 223, y: 848.75, 方程: y = 1 * x1 + 4 * x2 + 9\n",
      "x1: 49, x2: 188, y: 810.26, 方程: y = 1 * x1 + 4 * x2 + 9\n",
      "x1: -25, x2: 28, y: 95.89, 方程: y = 1 * x1 + 4 * x2 + 9\n",
      "x1: 21, x2: 80, y: 350.74, 方程: y = 1 * x1 + 4 * x2 + 9\n",
      "x1: -29, x2: 206, y: 804.80, 方程: y = 1 * x1 + 4 * x2 + 9\n",
      "x1: -16, x2: 67, y: 259.00, 方程: y = 1 * x1 + 4 * x2 + 9\n",
      "x1: -71, x2: 244, y: 915.83, 方程: y = 1 * x1 + 4 * x2 + 9\n",
      "x1: 34, x2: 84, y: 377.99, 方程: y = 1 * x1 + 4 * x2 + 9\n",
      "x1: -9, x2: 59, y: 235.77, 方程: y = 1 * x1 + 4 * x2 + 9\n",
      "x1: 82, x2: 153, y: 703.28, 方程: y = 1 * x1 + 4 * x2 + 9\n",
      "x1: -26, x2: 160, y: 622.66, 方程: y = 1 * x1 + 4 * x2 + 9\n",
      "x1: 79, x2: 0, y: 88.04, 方程: y = 1 * x1 + 4 * x2 + 9\n",
      "x1: -41, x2: 265, y: 1026.76, 方程: y = 1 * x1 + 4 * x2 + 9\n",
      "x1: 41, x2: 52, y: 259.05, 方程: y = 1 * x1 + 4 * x2 + 9\n",
      "x1: 131, x2: 61, y: 384.64, 方程: y = 1 * x1 + 4 * x2 + 9\n",
      "x1: 33, x2: 142, y: 608.39, 方程: y = 1 * x1 + 4 * x2 + 9\n",
      "x1: 71, x2: 176, y: 784.26, 方程: y = 1 * x1 + 4 * x2 + 9\n",
      "x1: -56, x2: 45, y: 133.19, 方程: y = 1 * x1 + 4 * x2 + 9\n",
      "x1: -146, x2: 181, y: 587.55, 方程: y = 1 * x1 + 4 * x2 + 9\n",
      "x1: 102, x2: 117, y: 578.60, 方程: y = 1 * x1 + 4 * x2 + 9\n",
      "x1: 87, x2: 156, y: 717.80, 方程: y = 1 * x1 + 4 * x2 + 9\n",
      "x1: 106, x2: 92, y: 483.79, 方程: y = 1 * x1 + 4 * x2 + 9\n",
      "x1: -149, x2: 78, y: 172.21, 方程: y = 1 * x1 + 4 * x2 + 9\n",
      "x1: 18, x2: 61, y: 270.64, 方程: y = 1 * x1 + 4 * x2 + 9\n",
      "x1: -22, x2: 249, y: 985.00, 方程: y = 1 * x1 + 4 * x2 + 9\n",
      "x1: 26, x2: 14, y: 91.72, 方程: y = 1 * x1 + 4 * x2 + 9\n",
      "x1: 43, x2: 233, y: 984.67, 方程: y = 1 * x1 + 4 * x2 + 9\n",
      "x1: 51, x2: 69, y: 336.97, 方程: y = 1 * x1 + 4 * x2 + 9\n",
      "x1: 131, x2: 259, y: 1175.02, 方程: y = 1 * x1 + 4 * x2 + 9\n",
      "x1: 12, x2: 268, y: 1091.43, 方程: y = 1 * x1 + 4 * x2 + 9\n",
      "x1: -41, x2: 293, y: 1139.73, 方程: y = 1 * x1 + 4 * x2 + 9\n",
      "x1: 41, x2: 131, y: 574.10, 方程: y = 1 * x1 + 4 * x2 + 9\n",
      "x1: -133, x2: 212, y: 723.43, 方程: y = 1 * x1 + 4 * x2 + 9\n",
      "x1: -94, x2: 276, y: 1019.72, 方程: y = 1 * x1 + 4 * x2 + 9\n",
      "x1: 146, x2: 130, y: 673.37, 方程: y = 1 * x1 + 4 * x2 + 9\n",
      "x1: 79, x2: 282, y: 1216.83, 方程: y = 1 * x1 + 4 * x2 + 9\n",
      "x1: 12, x2: 92, y: 388.48, 方程: y = 1 * x1 + 4 * x2 + 9\n",
      "x1: 32, x2: 124, y: 536.09, 方程: y = 1 * x1 + 4 * x2 + 9\n",
      "x1: 114, x2: 60, y: 362.77, 方程: y = 1 * x1 + 4 * x2 + 9\n",
      "x1: -129, x2: 225, y: 779.02, 方程: y = 1 * x1 + 4 * x2 + 9\n",
      "x1: 104, x2: 98, y: 504.22, 方程: y = 1 * x1 + 4 * x2 + 9\n",
      "x1: -134, x2: 299, y: 1070.55, 方程: y = 1 * x1 + 4 * x2 + 9\n",
      "x1: 110, x2: 63, y: 370.24, 方程: y = 1 * x1 + 4 * x2 + 9\n",
      "x1: 24, x2: 199, y: 829.10, 方程: y = 1 * x1 + 4 * x2 + 9\n",
      "x1: 114, x2: 219, y: 997.78, 方程: y = 1 * x1 + 4 * x2 + 9\n",
      "x1: -82, x2: 168, y: 598.98, 方程: y = 1 * x1 + 4 * x2 + 9\n",
      "x1: 121, x2: 208, y: 962.48, 方程: y = 1 * x1 + 4 * x2 + 9\n",
      "x1: 65, x2: 123, y: 565.05, 方程: y = 1 * x1 + 4 * x2 + 9\n",
      "x1: -93, x2: 147, y: 503.73, 方程: y = 1 * x1 + 4 * x2 + 9\n",
      "x1: 79, x2: 139, y: 644.54, 方程: y = 1 * x1 + 4 * x2 + 9\n",
      "x1: 147, x2: 226, y: 1059.89, 方程: y = 1 * x1 + 4 * x2 + 9\n",
      "x1: -51, x2: 46, y: 141.90, 方程: y = 1 * x1 + 4 * x2 + 9\n",
      "x1: 55, x2: 276, y: 1166.45, 方程: y = 1 * x1 + 4 * x2 + 9\n",
      "x1: -84, x2: 70, y: 204.17, 方程: y = 1 * x1 + 4 * x2 + 9\n",
      "x1: 99, x2: 192, y: 876.21, 方程: y = 1 * x1 + 4 * x2 + 9\n",
      "x1: -13, x2: 160, y: 637.64, 方程: y = 1 * x1 + 4 * x2 + 9\n",
      "x1: -31, x2: 279, y: 1094.03, 方程: y = 1 * x1 + 4 * x2 + 9\n",
      "x1: 78, x2: 57, y: 315.88, 方程: y = 1 * x1 + 4 * x2 + 9\n",
      "x1: -128, x2: 171, y: 564.26, 方程: y = 1 * x1 + 4 * x2 + 9\n",
      "x1: 60, x2: 208, y: 900.78, 方程: y = 1 * x1 + 4 * x2 + 9\n",
      "x1: -70, x2: 99, y: 335.21, 方程: y = 1 * x1 + 4 * x2 + 9\n",
      "x1: -110, x2: 60, y: 139.85, 方程: y = 1 * x1 + 4 * x2 + 9\n",
      "x1: 92, x2: 163, y: 753.24, 方程: y = 1 * x1 + 4 * x2 + 9\n",
      "x1: 80, x2: 6, y: 113.43, 方程: y = 1 * x1 + 4 * x2 + 9\n",
      "x1: 61, x2: 191, y: 834.33, 方程: y = 1 * x1 + 4 * x2 + 9\n",
      "x1: -147, x2: 23, y: -43.32, 方程: y = 1 * x1 + 4 * x2 + 9\n",
      "x1: 142, x2: 198, y: 944.63, 方程: y = 1 * x1 + 4 * x2 + 9\n",
      "x1: -14, x2: 161, y: 640.16, 方程: y = 1 * x1 + 4 * x2 + 9\n",
      "x1: 43, x2: 202, y: 860.30, 方程: y = 1 * x1 + 4 * x2 + 9\n",
      "x1: -127, x2: 175, y: 581.88, 方程: y = 1 * x1 + 4 * x2 + 9\n",
      "x1: -57, x2: 195, y: 728.78, 方程: y = 1 * x1 + 4 * x2 + 9\n",
      "x1: 8, x2: 99, y: 414.20, 方程: y = 1 * x1 + 4 * x2 + 9\n",
      "x1: -92, x2: 72, y: 205.34, 方程: y = 1 * x1 + 4 * x2 + 9\n",
      "x1: 80, x2: 275, y: 1189.48, 方程: y = 1 * x1 + 4 * x2 + 9\n",
      "x1: -149, x2: 161, y: 504.40, 方程: y = 1 * x1 + 4 * x2 + 9\n",
      "x1: -45, x2: 190, y: 723.52, 方程: y = 1 * x1 + 4 * x2 + 9\n",
      "x1: -145, x2: 65, y: 123.42, 方程: y = 1 * x1 + 4 * x2 + 9\n",
      "x1: 113, x2: 58, y: 352.45, 方程: y = 1 * x1 + 4 * x2 + 9\n",
      "x1: 47, x2: 113, y: 508.13, 方程: y = 1 * x1 + 4 * x2 + 9\n",
      "x1: -57, x2: 206, y: 777.16, 方程: y = 1 * x1 + 4 * x2 + 9\n",
      "x1: -108, x2: 200, y: 700.28, 方程: y = 1 * x1 + 4 * x2 + 9\n",
      "x1: 41, x2: 282, y: 1177.76, 方程: y = 1 * x1 + 4 * x2 + 9\n",
      "x1: 56, x2: 283, y: 1196.26, 方程: y = 1 * x1 + 4 * x2 + 9\n",
      "x1: -99, x2: 292, y: 1078.70, 方程: y = 1 * x1 + 4 * x2 + 9\n",
      "x1: 38, x2: 238, y: 998.71, 方程: y = 1 * x1 + 4 * x2 + 9\n",
      "x1: -107, x2: 110, y: 341.67, 方程: y = 1 * x1 + 4 * x2 + 9\n",
      "x1: 75, x2: 213, y: 935.79, 方程: y = 1 * x1 + 4 * x2 + 9\n",
      "x1: 38, x2: 242, y: 1016.38, 方程: y = 1 * x1 + 4 * x2 + 9\n",
      "x1: -85, x2: 227, y: 832.34, 方程: y = 1 * x1 + 4 * x2 + 9\n",
      "x1: 133, x2: 99, y: 537.04, 方程: y = 1 * x1 + 4 * x2 + 9\n",
      "x1: 47, x2: 19, y: 132.65, 方程: y = 1 * x1 + 4 * x2 + 9\n",
      "x1: 15, x2: 208, y: 854.40, 方程: y = 1 * x1 + 4 * x2 + 9\n",
      "x1: -123, x2: 89, y: 241.00, 方程: y = 1 * x1 + 4 * x2 + 9\n",
      "x1: -25, x2: 193, y: 756.04, 方程: y = 1 * x1 + 4 * x2 + 9\n",
      "x1: -101, x2: 179, y: 624.14, 方程: y = 1 * x1 + 4 * x2 + 9\n",
      "x1: -118, x2: 258, y: 921.86, 方程: y = 1 * x1 + 4 * x2 + 9\n",
      "x1: 29, x2: 126, y: 541.79, 方程: y = 1 * x1 + 4 * x2 + 9\n",
      "x1: -44, x2: 92, y: 331.76, 方程: y = 1 * x1 + 4 * x2 + 9\n",
      "x1: 13, x2: 191, y: 785.41, 方程: y = 1 * x1 + 4 * x2 + 9\n",
      "x1: 127, x2: 38, y: 287.98, 方程: y = 1 * x1 + 4 * x2 + 9\n",
      "x1: 27, x2: 174, y: 732.72, 方程: y = 1 * x1 + 4 * x2 + 9\n",
      "x1: 49, x2: 145, y: 638.34, 方程: y = 1 * x1 + 4 * x2 + 9\n",
      "x1: 42, x2: 153, y: 662.00, 方程: y = 1 * x1 + 4 * x2 + 9\n",
      "x1: -88, x2: 63, y: 173.77, 方程: y = 1 * x1 + 4 * x2 + 9\n",
      "x1: 33, x2: 102, y: 451.43, 方程: y = 1 * x1 + 4 * x2 + 9\n",
      "x1: -131, x2: 201, y: 682.76, 方程: y = 1 * x1 + 4 * x2 + 9\n",
      "x1: 105, x2: 20, y: 193.97, 方程: y = 1 * x1 + 4 * x2 + 9\n",
      "x1: 42, x2: 42, y: 219.86, 方程: y = 1 * x1 + 4 * x2 + 9\n",
      "x1: -7, x2: 231, y: 925.13, 方程: y = 1 * x1 + 4 * x2 + 9\n",
      "x1: 60, x2: 76, y: 372.13, 方程: y = 1 * x1 + 4 * x2 + 9\n",
      "x1: -42, x2: 34, y: 102.13, 方程: y = 1 * x1 + 4 * x2 + 9\n",
      "x1: -24, x2: 26, y: 87.84, 方程: y = 1 * x1 + 4 * x2 + 9\n",
      "x1: 93, x2: 29, y: 216.17, 方程: y = 1 * x1 + 4 * x2 + 9\n",
      "x1: 51, x2: 248, y: 1051.44, 方程: y = 1 * x1 + 4 * x2 + 9\n",
      "x1: -124, x2: 7, y: -87.16, 方程: y = 1 * x1 + 4 * x2 + 9\n",
      "x1: 13, x2: 84, y: 358.57, 方程: y = 1 * x1 + 4 * x2 + 9\n",
      "x1: -66, x2: 72, y: 232.73, 方程: y = 1 * x1 + 4 * x2 + 9\n",
      "x1: 97, x2: 145, y: 687.34, 方程: y = 1 * x1 + 4 * x2 + 9\n",
      "x1: -50, x2: 205, y: 780.41, 方程: y = 1 * x1 + 4 * x2 + 9\n",
      "x1: -137, x2: 280, y: 991.51, 方程: y = 1 * x1 + 4 * x2 + 9\n",
      "x1: -57, x2: 79, y: 267.20, 方程: y = 1 * x1 + 4 * x2 + 9\n",
      "x1: 98, x2: 290, y: 1268.38, 方程: y = 1 * x1 + 4 * x2 + 9\n",
      "x1: 88, x2: 289, y: 1254.61, 方程: y = 1 * x1 + 4 * x2 + 9\n",
      "x1: -46, x2: 57, y: 193.04, 方程: y = 1 * x1 + 4 * x2 + 9\n",
      "x1: 92, x2: 29, y: 218.19, 方程: y = 1 * x1 + 4 * x2 + 9\n",
      "x1: -149, x2: 183, y: 591.98, 方程: y = 1 * x1 + 4 * x2 + 9\n",
      "x1: 124, x2: 37, y: 281.25, 方程: y = 1 * x1 + 4 * x2 + 9\n",
      "x1: -125, x2: 221, y: 767.04, 方程: y = 1 * x1 + 4 * x2 + 9\n",
      "x1: -89, x2: 226, y: 824.15, 方程: y = 1 * x1 + 4 * x2 + 9\n",
      "x1: 77, x2: 118, y: 558.45, 方程: y = 1 * x1 + 4 * x2 + 9\n",
      "二元一次方程真实的斜率和截距是： [1 4 9]\n",
      "通过正规方程求解的斜率和截距是： [1.   4.   9.07]\n"
     ]
    },
    {
     "data": {
      "text/plain": [
       "[<mpl_toolkits.mplot3d.art3d.Line3D at 0x157f48bdd80>]"
      ]
     },
     "execution_count": 33,
     "metadata": {},
     "output_type": "execute_result"
    },
    {
     "data": {
      "text/plain": [
       "<Figure size 900x600 with 1 Axes>"
      ],
      "image/png": "[encoded data removed]"
     },
     "metadata": {},
     "output_type": "display_data"
    }
   ],
   "execution_count": 33
  },
  {
   "cell_type": "markdown",
   "id": "3d42c46c",
   "metadata": {},
   "source": [
    "### sklearn线性回归"
   ]
  },
  {
   "cell_type": "markdown",
   "id": "937eeb09",
   "metadata": {},
   "source": [
    "#### 简单线性回归"
   ]
  },
  {
   "cell_type": "code",
   "execution_count": 37,
   "id": "38688f08",
   "metadata": {},
   "outputs": [
    {
     "name": "stdout",
     "output_type": "stream",
     "text": [
      "一元一次方程真实的斜率和截距是： [2] [4]\n",
      "通过scikit-learn求解的斜率和截距是： [[2.03820007]] [3.66036694]\n"
     ]
    },
    {
     "data": {
      "text/plain": [
       "[<matplotlib.lines.Line2D at 0x1af2d0610d0>]"
      ]
     },
     "execution_count": 37,
     "metadata": {},
     "output_type": "execute_result"
    },
    {
     "data": {
      "image/png": "[encoded data removed]",
      "text/plain": [
       "<Figure size 432x288 with 1 Axes>"
      ]
     },
     "metadata": {
      "needs_background": "light"
     },
     "output_type": "display_data"
    }
   ],
   "source": [
    "from sklearn.linear_model import LinearRegression\n",
    "import numpy as np\n",
    "import matplotlib.pyplot as plt\n",
    "# 转化成矩阵\n",
    "X = np.linspace(0,10,num = 30).reshape(-1,1)\n",
    "# 斜率和截距，随机生成\n",
    "w = np.random.randint(1,5,size = 1)\n",
    "b = np.random.randint(1,10,size = 1)\n",
    "# 根据一元一次方程计算目标值y，并加上“噪声”，数据有上下波动~\n",
    "y = X * w + b + np.random.randn(30,1)\n",
    "plt.scatter(X,y)\n",
    "\n",
    "# 使用scikit-learn中的线性回归求解\n",
    "model = LinearRegression()\n",
    "model.fit(X,y)\n",
    "\n",
    "w_ = model.coef_\n",
    "b_ = model.intercept_\n",
    "print('一元一次方程真实的斜率和截距是：',w, b)\n",
    "print('通过scikit-learn求解的斜率和截距是：',w_,b_)\n",
    "plt.plot(X,X.dot(w_) + b_,color = 'green')"
   ]
  },
  {
   "cell_type": "markdown",
   "id": "e311928e",
   "metadata": {},
   "source": [
    "#### 复杂线性回归（二元）"
   ]
  },
  {
   "cell_type": "code",
   "execution_count": 39,
   "id": "f9d48189",
   "metadata": {},
   "outputs": [
    {
     "name": "stdout",
     "output_type": "stream",
     "text": [
      "二元一次方程真实的斜率和截距是： [3 2] [4]\n",
      "通过scikit-learn求解的斜率和截距是： [3.00049364 1.99981677] [3.98646647]\n"
     ]
    },
    {
     "data": {
      "text/plain": [
       "[<mpl_toolkits.mplot3d.art3d.Line3D at 0x1af2cf8a310>]"
      ]
     },
     "execution_count": 39,
     "metadata": {},
     "output_type": "execute_result"
    },
    {
     "data": {
      "image/png": "[encoded data removed]",
      "text/plain": [
       "<Figure size 648x432 with 1 Axes>"
      ]
     },
     "metadata": {
      "needs_background": "light"
     },
     "output_type": "display_data"
    }
   ],
   "source": [
    "import numpy as np\n",
    "import matplotlib.pyplot as plt\n",
    "from mpl_toolkits.mplot3d.axes3d import Axes3D\n",
    "import warnings\n",
    "warnings.filterwarnings('ignore')\n",
    "\n",
    "# 转化成矩阵\n",
    "x1 = np.random.randint(-150,150,size = (300,1))\n",
    "x2 = np.random.randint(0,300,size = (300,1))\n",
    "# 斜率和截距，随机生成\n",
    "w = np.random.randint(1,5,size = 2)\n",
    "b = np.random.randint(1,10,size = 1)\n",
    "# 根据二元一次方程计算目标值y，并加上“噪声”，数据有上下波动~\n",
    "y = x1 * w[0] + x2 * w[1] + b + np.random.randn(300,1)\n",
    "\n",
    "fig = plt.figure(figsize=(9,6))\n",
    "ax = Axes3D(fig)\n",
    "ax.scatter(x1,x2,y) # 三维散点图\n",
    "ax.view_init(elev=10, azim=-20) # 调整视角\n",
    "\n",
    "\n",
    "# 重新构造X，将x1、x2以及截距b，相当于系数w0，前面统一乘以1进行数据合并\n",
    "X = np.concatenate([x1,x2],axis = 1)\n",
    "# 使用scikit-learn中的线性回归求解\n",
    "model = LinearRegression()\n",
    "model.fit(X,y)\n",
    "w_ = model.coef_.reshape(-1)\n",
    "b_ = model.intercept_\n",
    "\n",
    "\n",
    "print('二元一次方程真实的斜率和截距是：',w,b)\n",
    "print('通过scikit-learn求解的斜率和截距是：',w_,b_)\n",
    "# # 根据求解的斜率和截距绘制线性回归线型图\n",
    "x = np.linspace(-150,150,100)\n",
    "y = np.linspace(0,300,100)\n",
    "z = x * w_[0] + y * w_[1] + b_\n",
    "ax.plot(x,y,z ,color = 'green')"
   ]
  },
  {
   "cell_type": "code",
   "execution_count": null,
   "id": "77c45753",
   "metadata": {},
   "outputs": [],
   "source": []
  }
 ],
 "metadata": {
  "kernelspec": {
   "display_name": "Python 3",
   "language": "python",
   "name": "python3"
  },
  "language_info": {
   "codemirror_mode": {
    "name": "ipython",
    "version": 3
   },
   "file_extension": ".py",
   "mimetype": "text/x-python",
   "name": "python",
   "nbconvert_exporter": "python",
   "pygments_lexer": "ipython3",
   "version": "3.8.10"
  },
  "toc": {
   "base_numbering": 1,
   "nav_menu": {},
   "number_sections": true,
   "sideBar": true,
   "skip_h1_title": false,
   "title_cell": "Table of Contents",
   "title_sidebar": "Contents",
   "toc_cell": false,
   "toc_position": {},
   "toc_section_display": true,
   "toc_window_display": true
  }
 },
 "nbformat": 4,
 "nbformat_minor": 5
}
