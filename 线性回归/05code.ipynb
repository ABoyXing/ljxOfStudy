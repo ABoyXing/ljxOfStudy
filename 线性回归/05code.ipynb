{
 "cells": [
  {
   "cell_type": "markdown",
   "id": "2580f9fe",
   "metadata": {
    "heading_collapsed": true
   },
   "source": [
    "### 最大值最小值归一化"
   ]
  },
  {
   "cell_type": "code",
   "id": "6b4d8d5b",
   "metadata": {
    "collapsed": true,
    "hidden": true,
    "ExecuteTime": {
     "end_time": "2024-11-15T07:14:48.201740Z",
     "start_time": "2024-11-15T07:14:47.464822Z"
    }
   },
   "source": [
    "import numpy as np\n",
    "\n",
    "x_1 = np.random.randint(0,10,size = 10) # 一维\n",
    "x_2 = np.random.randint(1000,5000,size = 10) # 一维\n",
    "\n",
    "# c_合并成二维\n",
    "X = np.c_[x_1,x_2]\n",
    "\n",
    "X"
   ],
   "outputs": [
    {
     "data": {
      "text/plain": [
       "array([[   7, 3594],\n",
       "       [   0, 2698],\n",
       "       [   6, 1491],\n",
       "       [   9, 4106],\n",
       "       [   8, 1569],\n",
       "       [   6, 2302],\n",
       "       [   0, 1316],\n",
       "       [   1, 1065],\n",
       "       [   8, 4892],\n",
       "       [   6, 4583]], dtype=int32)"
      ]
     },
     "execution_count": 1,
     "metadata": {},
     "output_type": "execute_result"
    }
   ],
   "execution_count": 1
  },
  {
   "cell_type": "code",
   "id": "c8496171",
   "metadata": {
    "collapsed": true,
    "hidden": true,
    "ExecuteTime": {
     "end_time": "2024-11-15T07:15:06.830737Z",
     "start_time": "2024-11-15T07:15:06.808737Z"
    }
   },
   "source": [
    "X_norm = (X - X.min(axis = 0))/(X.max(axis = 0) - X.min(axis = 0))\n",
    "X_norm.round(2)"
   ],
   "outputs": [
    {
     "data": {
      "text/plain": [
       "array([[0.78, 0.66],\n",
       "       [0.  , 0.43],\n",
       "       [0.67, 0.11],\n",
       "       [1.  , 0.79],\n",
       "       [0.89, 0.13],\n",
       "       [0.67, 0.32],\n",
       "       [0.  , 0.07],\n",
       "       [0.11, 0.  ],\n",
       "       [0.89, 1.  ],\n",
       "       [0.67, 0.92]])"
      ]
     },
     "execution_count": 2,
     "metadata": {},
     "output_type": "execute_result"
    }
   ],
   "execution_count": 2
  },
  {
   "cell_type": "markdown",
   "id": "f35b2294",
   "metadata": {
    "hidden": true
   },
   "source": [
    "#### 演示离群点"
   ]
  },
  {
   "cell_type": "code",
   "id": "7986ea7b",
   "metadata": {
    "collapsed": true,
    "hidden": true,
    "ExecuteTime": {
     "end_time": "2024-11-15T07:15:29.600744Z",
     "start_time": "2024-11-15T07:15:29.595740Z"
    }
   },
   "source": [
    "X[6,1] = 123456789\n",
    "X"
   ],
   "outputs": [
    {
     "data": {
      "text/plain": [
       "array([[        7,      3594],\n",
       "       [        0,      2698],\n",
       "       [        6,      1491],\n",
       "       [        9,      4106],\n",
       "       [        8,      1569],\n",
       "       [        6,      2302],\n",
       "       [        0, 123456789],\n",
       "       [        1,      1065],\n",
       "       [        8,      4892],\n",
       "       [        6,      4583]], dtype=int32)"
      ]
     },
     "execution_count": 3,
     "metadata": {},
     "output_type": "execute_result"
    }
   ],
   "execution_count": 3
  },
  {
   "cell_type": "code",
   "id": "cd8c5e45",
   "metadata": {
    "hidden": true,
    "ExecuteTime": {
     "end_time": "2024-11-15T07:15:33.544661Z",
     "start_time": "2024-11-15T07:15:33.535662Z"
    }
   },
   "source": [
    "X_norm = (X - X.min(axis = 0))/(X.max(axis = 0) - X.min(axis = 0))\n",
    "X_norm.round(2)"
   ],
   "outputs": [
    {
     "data": {
      "text/plain": [
       "array([[0.78, 0.  ],\n",
       "       [0.  , 0.  ],\n",
       "       [0.67, 0.  ],\n",
       "       [1.  , 0.  ],\n",
       "       [0.89, 0.  ],\n",
       "       [0.67, 0.  ],\n",
       "       [0.  , 1.  ],\n",
       "       [0.11, 0.  ],\n",
       "       [0.89, 0.  ],\n",
       "       [0.67, 0.  ]])"
      ]
     },
     "execution_count": 4,
     "metadata": {},
     "output_type": "execute_result"
    }
   ],
   "execution_count": 4
  },
  {
   "cell_type": "markdown",
   "id": "70e7bdfd",
   "metadata": {
    "hidden": true
   },
   "source": [
    "#### sklearn方法调用"
   ]
  },
  {
   "cell_type": "code",
   "id": "eae24c5e",
   "metadata": {
    "hidden": true,
    "ExecuteTime": {
     "end_time": "2024-11-15T07:29:58.070164Z",
     "start_time": "2024-11-15T07:29:54.483517Z"
    }
   },
   "source": [
    "from sklearn.preprocessing import MinMaxScaler"
   ],
   "outputs": [],
   "execution_count": 5
  },
  {
   "cell_type": "code",
   "id": "baab44df",
   "metadata": {
    "collapsed": true,
    "hidden": true,
    "ExecuteTime": {
     "end_time": "2024-11-15T07:30:04.192313Z",
     "start_time": "2024-11-15T07:30:04.173311Z"
    }
   },
   "source": [
    "np.set_printoptions(suppress=True)\n",
    "\n",
    "mms = MinMaxScaler()\n",
    "\n",
    "mms.fit_transform(X).round(2)"
   ],
   "outputs": [
    {
     "data": {
      "text/plain": [
       "array([[0.78, 0.  ],\n",
       "       [0.  , 0.  ],\n",
       "       [0.67, 0.  ],\n",
       "       [1.  , 0.  ],\n",
       "       [0.89, 0.  ],\n",
       "       [0.67, 0.  ],\n",
       "       [0.  , 1.  ],\n",
       "       [0.11, 0.  ],\n",
       "       [0.89, 0.  ],\n",
       "       [0.67, 0.  ]])"
      ]
     },
     "execution_count": 6,
     "metadata": {},
     "output_type": "execute_result"
    }
   ],
   "execution_count": 6
  },
  {
   "cell_type": "markdown",
   "id": "3a7e9653",
   "metadata": {},
   "source": [
    "### Z-Score归一化（标准化）"
   ]
  },
  {
   "cell_type": "markdown",
   "id": "c71a6256",
   "metadata": {},
   "source": [
    "#### 根据公式进行计算"
   ]
  },
  {
   "cell_type": "code",
   "execution_count": 13,
   "id": "ee0acbd9",
   "metadata": {
    "collapsed": true
   },
   "outputs": [
    {
     "data": {
      "text/plain": [
       "array([[   8, 9245],\n",
       "       [   9, 6186],\n",
       "       [   6, 9786],\n",
       "       [   3, 1383],\n",
       "       [   5, 5846],\n",
       "       [   8, 6619],\n",
       "       [   5, 2208],\n",
       "       [   5, 8573],\n",
       "       [   6, 5401],\n",
       "       [   8, 6216]])"
      ]
     },
     "execution_count": 13,
     "metadata": {},
     "output_type": "execute_result"
    }
   ],
   "source": [
    "import numpy as np\n",
    "\n",
    "x1 = np.random.randint(0,10,size = (10,1))\n",
    "\n",
    "x2 = np.random.randint(1000,10000,size = (10,1))\n",
    "\n",
    "X = np.concatenate([x1,x2],axis = 1)\n",
    "X"
   ]
  },
  {
   "cell_type": "code",
   "execution_count": 16,
   "id": "69c62f7b",
   "metadata": {},
   "outputs": [
    {
     "data": {
      "text/plain": [
       "array([[ 0.94884747,  1.18993453],\n",
       "       [ 1.50699304,  0.01524523],\n",
       "       [-0.16744367,  1.39768441],\n",
       "       [-1.84188039, -1.82915904],\n",
       "       [-0.72558924, -0.11531847],\n",
       "       [ 0.94884747,  0.18152194],\n",
       "       [-0.72558924, -1.51235006],\n",
       "       [-0.72558924,  0.93187921],\n",
       "       [-0.16744367, -0.28620331],\n",
       "       [ 0.94884747,  0.02676556]])"
      ]
     },
     "execution_count": 16,
     "metadata": {},
     "output_type": "execute_result"
    }
   ],
   "source": [
    "X_norm = (X - X.mean(axis = 0))/X.std(axis = 0)\n",
    "X_norm # 归一化的结果：正态分布，0,1"
   ]
  },
  {
   "cell_type": "code",
   "execution_count": 17,
   "id": "087b63d2",
   "metadata": {},
   "outputs": [
    {
     "data": {
      "text/plain": [
       "array([ 0., -0.])"
      ]
     },
     "execution_count": 17,
     "metadata": {},
     "output_type": "execute_result"
    }
   ],
   "source": [
    "X_norm.mean(axis = 0)"
   ]
  },
  {
   "cell_type": "code",
   "execution_count": 18,
   "id": "8cf85bf2",
   "metadata": {},
   "outputs": [
    {
     "data": {
      "text/plain": [
       "array([1., 1.])"
      ]
     },
     "execution_count": 18,
     "metadata": {},
     "output_type": "execute_result"
    }
   ],
   "source": [
    "X_norm.std(axis = 0)"
   ]
  },
  {
   "cell_type": "markdown",
   "id": "ae379e91",
   "metadata": {},
   "source": [
    "#### 使用sklearn库"
   ]
  },
  {
   "cell_type": "code",
   "execution_count": 19,
   "id": "cbc4a18a",
   "metadata": {
    "collapsed": true
   },
   "outputs": [
    {
     "data": {
      "text/plain": [
       "array([[ 0.94884747,  1.18993453],\n",
       "       [ 1.50699304,  0.01524523],\n",
       "       [-0.16744367,  1.39768441],\n",
       "       [-1.84188039, -1.82915904],\n",
       "       [-0.72558924, -0.11531847],\n",
       "       [ 0.94884747,  0.18152194],\n",
       "       [-0.72558924, -1.51235006],\n",
       "       [-0.72558924,  0.93187921],\n",
       "       [-0.16744367, -0.28620331],\n",
       "       [ 0.94884747,  0.02676556]])"
      ]
     },
     "execution_count": 19,
     "metadata": {},
     "output_type": "execute_result"
    }
   ],
   "source": [
    "# preprocessing 预处理，数据\n",
    "from sklearn.preprocessing import StandardScaler\n",
    "\n",
    "standard = StandardScaler()\n",
    "\n",
    "# 第一步，进行训练\n",
    "standard.fit(X)\n",
    "\n",
    "# 第二步，转换\n",
    "X_norm2 = standard.transform(X)\n",
    "\n",
    "# standard.fit_transform(X) # 一步转换\n",
    "X_norm2"
   ]
  },
  {
   "cell_type": "markdown",
   "id": "8e694f40",
   "metadata": {},
   "source": [
    "### 归一化实战"
   ]
  },
  {
   "cell_type": "markdown",
   "id": "3d59961b",
   "metadata": {},
   "source": [
    "#### 不进行归一化"
   ]
  },
  {
   "cell_type": "code",
   "execution_count": 26,
   "id": "64c8e70f",
   "metadata": {
    "collapsed": true
   },
   "outputs": [
    {
     "data": {
      "text/plain": [
       "array([ 0.26825457,  0.2600059 , -0.06905626,  0.09156779,  0.27141095,\n",
       "        0.19877399, -0.13506734,  0.23545488, -0.0660262 ,  0.28739887,\n",
       "       -0.57255987, -0.55241158, -0.33249774,  0.09408069, -0.08724635])"
      ]
     },
     "execution_count": 26,
     "metadata": {},
     "output_type": "execute_result"
    }
   ],
   "source": [
    "import pandas as pd\n",
    "import numpy as np\n",
    "from sklearn.linear_model import LinearRegression\n",
    "\n",
    "df = pd.read_csv('./zhengqi_train.txt',sep = '\\t')\n",
    "X_train = df.iloc[:,:-1]\n",
    "y_train = df['target']\n",
    "\n",
    "X_test = pd.read_csv('./zhengqi_test.txt',sep = '\\t')\n",
    "\n",
    "# display(X_train.head(),y_train.head(),X_test.head())\n",
    "\n",
    "model = LinearRegression()\n",
    "\n",
    "model.fit(X_train,y_train)\n",
    "\n",
    "y_ = model.predict(X_test)\n",
    "\n",
    "np.savetxt('./result1.txt',y_)\n",
    "y_[:15]"
   ]
  },
  {
   "cell_type": "markdown",
   "id": "6d657c1b",
   "metadata": {},
   "source": [
    "#### 最大值最小值归一化"
   ]
  },
  {
   "cell_type": "code",
   "execution_count": 31,
   "id": "7ded3621",
   "metadata": {
    "collapsed": true
   },
   "outputs": [
    {
     "data": {
      "text/html": [
       "<div>\n",
       "<style scoped>\n",
       "    .dataframe tbody tr th:only-of-type {\n",
       "        vertical-align: middle;\n",
       "    }\n",
       "\n",
       "    .dataframe tbody tr th {\n",
       "        vertical-align: top;\n",
       "    }\n",
       "\n",
       "    .dataframe thead th {\n",
       "        text-align: right;\n",
       "    }\n",
       "</style>\n",
       "<table border=\"1\" class=\"dataframe\">\n",
       "  <thead>\n",
       "    <tr style=\"text-align: right;\">\n",
       "      <th></th>\n",
       "      <th>V0</th>\n",
       "      <th>V1</th>\n",
       "      <th>V2</th>\n",
       "      <th>V3</th>\n",
       "      <th>V4</th>\n",
       "      <th>V5</th>\n",
       "      <th>V6</th>\n",
       "      <th>V7</th>\n",
       "      <th>V8</th>\n",
       "      <th>V9</th>\n",
       "      <th>V10</th>\n",
       "      <th>V11</th>\n",
       "      <th>V12</th>\n",
       "      <th>V13</th>\n",
       "      <th>V14</th>\n",
       "      <th>V15</th>\n",
       "      <th>V16</th>\n",
       "      <th>V17</th>\n",
       "      <th>V18</th>\n",
       "      <th>V19</th>\n",
       "      <th>V20</th>\n",
       "      <th>V21</th>\n",
       "      <th>V22</th>\n",
       "      <th>V23</th>\n",
       "      <th>V24</th>\n",
       "      <th>V25</th>\n",
       "      <th>V26</th>\n",
       "      <th>V27</th>\n",
       "      <th>V28</th>\n",
       "      <th>V29</th>\n",
       "      <th>V30</th>\n",
       "      <th>V31</th>\n",
       "      <th>V32</th>\n",
       "      <th>V33</th>\n",
       "      <th>V34</th>\n",
       "      <th>V35</th>\n",
       "      <th>V36</th>\n",
       "      <th>V37</th>\n",
       "    </tr>\n",
       "  </thead>\n",
       "  <tbody>\n",
       "    <tr>\n",
       "      <th>0</th>\n",
       "      <td>0.566</td>\n",
       "      <td>0.016</td>\n",
       "      <td>-0.143</td>\n",
       "      <td>0.407</td>\n",
       "      <td>0.452</td>\n",
       "      <td>-0.901</td>\n",
       "      <td>-1.812</td>\n",
       "      <td>-2.360</td>\n",
       "      <td>-0.436</td>\n",
       "      <td>-2.114</td>\n",
       "      <td>-0.940</td>\n",
       "      <td>-0.307</td>\n",
       "      <td>-0.073</td>\n",
       "      <td>0.550</td>\n",
       "      <td>-0.484</td>\n",
       "      <td>0.000</td>\n",
       "      <td>-1.707</td>\n",
       "      <td>-1.162</td>\n",
       "      <td>-0.573</td>\n",
       "      <td>-0.991</td>\n",
       "      <td>0.610</td>\n",
       "      <td>-0.400</td>\n",
       "      <td>-0.063</td>\n",
       "      <td>0.356</td>\n",
       "      <td>0.800</td>\n",
       "      <td>-0.223</td>\n",
       "      <td>0.796</td>\n",
       "      <td>0.168</td>\n",
       "      <td>-0.450</td>\n",
       "      <td>0.136</td>\n",
       "      <td>0.109</td>\n",
       "      <td>-0.615</td>\n",
       "      <td>0.327</td>\n",
       "      <td>-4.627</td>\n",
       "      <td>-4.789</td>\n",
       "      <td>-5.101</td>\n",
       "      <td>-2.608</td>\n",
       "      <td>-3.508</td>\n",
       "    </tr>\n",
       "    <tr>\n",
       "      <th>1</th>\n",
       "      <td>0.968</td>\n",
       "      <td>0.437</td>\n",
       "      <td>0.066</td>\n",
       "      <td>0.566</td>\n",
       "      <td>0.194</td>\n",
       "      <td>-0.893</td>\n",
       "      <td>-1.566</td>\n",
       "      <td>-2.360</td>\n",
       "      <td>0.332</td>\n",
       "      <td>-2.114</td>\n",
       "      <td>0.188</td>\n",
       "      <td>-0.455</td>\n",
       "      <td>-0.134</td>\n",
       "      <td>1.109</td>\n",
       "      <td>-0.488</td>\n",
       "      <td>0.000</td>\n",
       "      <td>-0.977</td>\n",
       "      <td>-1.162</td>\n",
       "      <td>-0.571</td>\n",
       "      <td>-0.836</td>\n",
       "      <td>0.588</td>\n",
       "      <td>-0.802</td>\n",
       "      <td>-0.063</td>\n",
       "      <td>0.357</td>\n",
       "      <td>0.801</td>\n",
       "      <td>-0.144</td>\n",
       "      <td>1.057</td>\n",
       "      <td>0.338</td>\n",
       "      <td>0.671</td>\n",
       "      <td>-0.128</td>\n",
       "      <td>0.124</td>\n",
       "      <td>0.032</td>\n",
       "      <td>0.600</td>\n",
       "      <td>-0.843</td>\n",
       "      <td>0.160</td>\n",
       "      <td>0.364</td>\n",
       "      <td>-0.335</td>\n",
       "      <td>-0.730</td>\n",
       "    </tr>\n",
       "    <tr>\n",
       "      <th>2</th>\n",
       "      <td>1.013</td>\n",
       "      <td>0.568</td>\n",
       "      <td>0.235</td>\n",
       "      <td>0.370</td>\n",
       "      <td>0.112</td>\n",
       "      <td>-0.797</td>\n",
       "      <td>-1.367</td>\n",
       "      <td>-2.360</td>\n",
       "      <td>0.396</td>\n",
       "      <td>-2.114</td>\n",
       "      <td>0.874</td>\n",
       "      <td>-0.051</td>\n",
       "      <td>-0.072</td>\n",
       "      <td>0.767</td>\n",
       "      <td>-0.493</td>\n",
       "      <td>-0.212</td>\n",
       "      <td>-0.618</td>\n",
       "      <td>-0.897</td>\n",
       "      <td>-0.564</td>\n",
       "      <td>-0.558</td>\n",
       "      <td>0.576</td>\n",
       "      <td>-0.477</td>\n",
       "      <td>-0.063</td>\n",
       "      <td>0.355</td>\n",
       "      <td>0.961</td>\n",
       "      <td>-0.067</td>\n",
       "      <td>0.915</td>\n",
       "      <td>0.326</td>\n",
       "      <td>1.287</td>\n",
       "      <td>-0.009</td>\n",
       "      <td>0.361</td>\n",
       "      <td>0.277</td>\n",
       "      <td>-0.116</td>\n",
       "      <td>-0.843</td>\n",
       "      <td>0.160</td>\n",
       "      <td>0.364</td>\n",
       "      <td>0.765</td>\n",
       "      <td>-0.589</td>\n",
       "    </tr>\n",
       "    <tr>\n",
       "      <th>3</th>\n",
       "      <td>0.733</td>\n",
       "      <td>0.368</td>\n",
       "      <td>0.283</td>\n",
       "      <td>0.165</td>\n",
       "      <td>0.599</td>\n",
       "      <td>-0.679</td>\n",
       "      <td>-1.200</td>\n",
       "      <td>-2.086</td>\n",
       "      <td>0.403</td>\n",
       "      <td>-2.114</td>\n",
       "      <td>0.011</td>\n",
       "      <td>0.102</td>\n",
       "      <td>-0.014</td>\n",
       "      <td>0.769</td>\n",
       "      <td>-0.371</td>\n",
       "      <td>-0.162</td>\n",
       "      <td>-0.429</td>\n",
       "      <td>-0.897</td>\n",
       "      <td>-0.574</td>\n",
       "      <td>-0.564</td>\n",
       "      <td>0.272</td>\n",
       "      <td>-0.491</td>\n",
       "      <td>-0.063</td>\n",
       "      <td>0.352</td>\n",
       "      <td>1.435</td>\n",
       "      <td>0.113</td>\n",
       "      <td>0.898</td>\n",
       "      <td>0.277</td>\n",
       "      <td>1.298</td>\n",
       "      <td>0.015</td>\n",
       "      <td>0.417</td>\n",
       "      <td>0.279</td>\n",
       "      <td>0.603</td>\n",
       "      <td>-0.843</td>\n",
       "      <td>-0.065</td>\n",
       "      <td>0.364</td>\n",
       "      <td>0.333</td>\n",
       "      <td>-0.112</td>\n",
       "    </tr>\n",
       "    <tr>\n",
       "      <th>4</th>\n",
       "      <td>0.684</td>\n",
       "      <td>0.638</td>\n",
       "      <td>0.260</td>\n",
       "      <td>0.209</td>\n",
       "      <td>0.337</td>\n",
       "      <td>-0.454</td>\n",
       "      <td>-1.073</td>\n",
       "      <td>-2.086</td>\n",
       "      <td>0.314</td>\n",
       "      <td>-2.114</td>\n",
       "      <td>-0.251</td>\n",
       "      <td>0.570</td>\n",
       "      <td>0.199</td>\n",
       "      <td>-0.349</td>\n",
       "      <td>-0.342</td>\n",
       "      <td>-0.138</td>\n",
       "      <td>-0.391</td>\n",
       "      <td>-0.897</td>\n",
       "      <td>-0.572</td>\n",
       "      <td>-0.394</td>\n",
       "      <td>0.106</td>\n",
       "      <td>0.309</td>\n",
       "      <td>-0.259</td>\n",
       "      <td>0.352</td>\n",
       "      <td>0.881</td>\n",
       "      <td>0.221</td>\n",
       "      <td>0.386</td>\n",
       "      <td>0.332</td>\n",
       "      <td>1.289</td>\n",
       "      <td>0.183</td>\n",
       "      <td>1.078</td>\n",
       "      <td>0.328</td>\n",
       "      <td>0.418</td>\n",
       "      <td>-0.843</td>\n",
       "      <td>-0.215</td>\n",
       "      <td>0.364</td>\n",
       "      <td>-0.280</td>\n",
       "      <td>-0.028</td>\n",
       "    </tr>\n",
       "  </tbody>\n",
       "</table>\n",
       "</div>"
      ],
      "text/plain": [
       "      V0     V1     V2     V3     V4     V5     V6     V7  ...    V30    V31    V32    V33    V34    V35    V36    V37\n",
       "0  0.566  0.016 -0.143  0.407  0.452 -0.901 -1.812 -2.360  ...  0.109 -0.615  0.327 -4.627 -4.789 -5.101 -2.608 -3.508\n",
       "1  0.968  0.437  0.066  0.566  0.194 -0.893 -1.566 -2.360  ...  0.124  0.032  0.600 -0.843  0.160  0.364 -0.335 -0.730\n",
       "2  1.013  0.568  0.235  0.370  0.112 -0.797 -1.367 -2.360  ...  0.361  0.277 -0.116 -0.843  0.160  0.364  0.765 -0.589\n",
       "3  0.733  0.368  0.283  0.165  0.599 -0.679 -1.200 -2.086  ...  0.417  0.279  0.603 -0.843 -0.065  0.364  0.333 -0.112\n",
       "4  0.684  0.638  0.260  0.209  0.337 -0.454 -1.073 -2.086  ...  1.078  0.328  0.418 -0.843 -0.215  0.364 -0.280 -0.028\n",
       "\n",
       "[5 rows x 38 columns]"
      ]
     },
     "metadata": {},
     "output_type": "display_data"
    },
    {
     "data": {
      "text/plain": [
       "array([[0.69801031],\n",
       "       [0.6861968 ],\n",
       "       [0.65270343],\n",
       "       [0.67012411],\n",
       "       [0.69424164],\n",
       "       [0.68954379],\n",
       "       [0.63941183],\n",
       "       [0.69726306],\n",
       "       [0.63169109],\n",
       "       [0.69597451],\n",
       "       [0.57275288],\n",
       "       [0.57584871],\n",
       "       [0.58303058],\n",
       "       [0.64112287],\n",
       "       [0.6590907 ]])"
      ]
     },
     "execution_count": 31,
     "metadata": {},
     "output_type": "execute_result"
    }
   ],
   "source": [
    "import pandas as pd\n",
    "import numpy as np\n",
    "from sklearn.linear_model import LinearRegression\n",
    "from sklearn.preprocessing import MinMaxScaler\n",
    "\n",
    "df = pd.read_csv('./zhengqi_train.txt',sep = '\\t')\n",
    "X_train = df.iloc[:,:-1]\n",
    "y_train = df[['target']]\n",
    "\n",
    "X_test = pd.read_csv('./zhengqi_test.txt',sep = '\\t')\n",
    "\n",
    "display(X_train.head())\n",
    "\n",
    "# 归一化，数据，特征：工业蒸汽量，生产工艺参数\n",
    "mms = MinMaxScaler()\n",
    "X_train_norm = mms.fit_transform(X_train)\n",
    "y_train_norm = mms.fit_transform(y_train)\n",
    "X_test_norm = mms.fit_transform(X_test)\n",
    "\n",
    "# 训练和预测\n",
    "model = LinearRegression()\n",
    "model.fit(X_train_norm, y_train_norm)\n",
    "y_pred = model.predict(X_test_norm)\n",
    "np.savetxt('./result2.txt',y_pred)\n",
    "y_pred[:15]"
   ]
  },
  {
   "cell_type": "markdown",
   "id": "72b97cdc",
   "metadata": {},
   "source": [
    "#### Z-score归一化"
   ]
  },
  {
   "cell_type": "code",
   "execution_count": 32,
   "id": "4ff720a2",
   "metadata": {},
   "outputs": [
    {
     "data": {
      "text/plain": [
       "array([[ 0.52564964],\n",
       "       [ 0.48973218],\n",
       "       [ 0.32666665],\n",
       "       [ 0.36998727],\n",
       "       [ 0.5268688 ],\n",
       "       [ 0.46154774],\n",
       "       [ 0.22804888],\n",
       "       [ 0.48236749],\n",
       "       [ 0.21097507],\n",
       "       [ 0.49360554],\n",
       "       [-0.10965964],\n",
       "       [-0.09819487],\n",
       "       [-0.02267627],\n",
       "       [ 0.26229629],\n",
       "       [ 0.24690629]])"
      ]
     },
     "execution_count": 32,
     "metadata": {},
     "output_type": "execute_result"
    }
   ],
   "source": [
    "import pandas as pd\n",
    "import numpy as np\n",
    "from sklearn.linear_model import LinearRegression\n",
    "from sklearn.preprocessing import StandardScaler\n",
    "\n",
    "df = pd.read_csv('./zhengqi_train.txt',sep = '\\t')\n",
    "X_train = df.iloc[:,:-1]\n",
    "y_train = df[['target']]\n",
    "\n",
    "X_test = pd.read_csv('./zhengqi_test.txt',sep = '\\t')\n",
    "\n",
    "# 归一化，数据，特征：工业蒸汽量，生产工艺参数\n",
    "standard = StandardScaler()\n",
    "X_train_norm = standard.fit_transform(X_train)\n",
    "y_train_norm = standard.fit_transform(y_train)\n",
    "X_test_norm = standard.fit_transform(X_test)\n",
    "\n",
    "\n",
    "# 训练和预测\n",
    "model = LinearRegression()\n",
    "model.fit(X_train_norm, y_train_norm)\n",
    "y_pred = model.predict(X_test_norm)\n",
    "np.savetxt('./result3.txt',y_pred)\n",
    "y_pred[:15]"
   ]
  },
  {
   "cell_type": "code",
   "execution_count": null,
   "id": "52187ba8",
   "metadata": {},
   "outputs": [],
   "source": []
  }
 ],
 "metadata": {
  "kernelspec": {
   "display_name": "Python 3",
   "language": "python",
   "name": "python3"
  },
  "language_info": {
   "codemirror_mode": {
    "name": "ipython",
    "version": 3
   },
   "file_extension": ".py",
   "mimetype": "text/x-python",
   "name": "python",
   "nbconvert_exporter": "python",
   "pygments_lexer": "ipython3",
   "version": "3.8.10"
  },
  "toc": {
   "base_numbering": 1,
   "nav_menu": {},
   "number_sections": true,
   "sideBar": true,
   "skip_h1_title": false,
   "title_cell": "Table of Contents",
   "title_sidebar": "Contents",
   "toc_cell": false,
   "toc_position": {},
   "toc_section_display": true,
   "toc_window_display": true
  }
 },
 "nbformat": 4,
 "nbformat_minor": 5
}
