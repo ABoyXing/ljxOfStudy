{
 "cells": [
  {
   "cell_type": "code",
   "execution_count": 5,
   "metadata": {},
   "outputs": [
    {
     "name": "stdout",
     "output_type": "stream",
     "text": [
      "[[1 2]\n",
      " [3 4]\n",
      " [5 6]]\n",
      "[[10 20]\n",
      " [30 40]\n",
      " [50 60]]\n",
      "[[ 1  2 10 20]\n",
      " [ 3  4 30 40]\n",
      " [ 5  6 50 60]]\n",
      "[[ 1  2]\n",
      " [ 3  4]\n",
      " [ 5  6]\n",
      " [10 20]\n",
      " [30 40]\n",
      " [50 60]]\n"
     ]
    }
   ],
   "source": [
    "# \n",
    "import numpy as np\n",
    "n1=np.array([[1,2],[3,4],[5,6]])\n",
    "# 创建第二个数组\n",
    "n2=np.array([[10,20],[30,40],[50,60]])\n",
    "print(n1)\n",
    "print(n2)\n",
    "\n",
    "# 水平方向增加数据 (列数的增加)2列， 4列\n",
    "print(np.hstack((n1,n2)))\n",
    "\n",
    "#垂直方向增加数据(行数的增加) 3行，变为6行\n",
    "print(np.vstack((n1,n2)))"
   ]
  },
  {
   "cell_type": "code",
   "execution_count": 9,
   "metadata": {},
   "outputs": [
    {
     "name": "stdout",
     "output_type": "stream",
     "text": [
      "[[1 2]\n",
      " [3 4]\n",
      " [5 6]]\n",
      "[[1 2]\n",
      " [3 4]]\n",
      "[[2]\n",
      " [4]\n",
      " [6]]\n",
      "[[1 2]]\n"
     ]
    }
   ],
   "source": [
    "#数组的删除操作\n",
    "n1=np.array([[1,2],[3,4],[5,6]])\n",
    "print(n1)\n",
    "\n",
    "#删除第三行\n",
    "n2=np.delete(n1,2,axis=0) # 2行索引为2的，轴是0\n",
    "print(n2)\n",
    "\n",
    "#删除第一列\n",
    "n3=np.delete(n1,0,axis=1)\n",
    "print(n3)\n",
    "\n",
    "#删除第二行和第三行\n",
    "n4=np.delete(n1,(1,2),axis=0)\n",
    "print(n4)"
   ]
  },
  {
   "cell_type": "code",
   "execution_count": 12,
   "metadata": {},
   "outputs": [
    {
     "name": "stdout",
     "output_type": "stream",
     "text": [
      "[[1 2]\n",
      " [3 4]\n",
      " [5 6]]\n",
      "[[ 1  2]\n",
      " [30 40]\n",
      " [ 5  6]]\n",
      "[[ 1  2]\n",
      " [30 40]\n",
      " [ 5 88]]\n"
     ]
    }
   ],
   "source": [
    "#数组的修改操作\n",
    "n1=np.array([[1,2],[3,4],[5,6]])\n",
    "print(n1)\n",
    "#修改操作\n",
    "n1[1]=[30,40]\n",
    "print(n1)\n",
    "\n",
    "n1[2][1]=88\n",
    "print(n1)"
   ]
  },
  {
   "cell_type": "code",
   "execution_count": 16,
   "metadata": {},
   "outputs": [
    {
     "name": "stdout",
     "output_type": "stream",
     "text": [
      "[ 1  2  3  4  5  6  7  8  9 10]\n",
      "[ 6  7  8  9 10]\n",
      "[0 0 0 0 0 2 2 2 2 2]\n"
     ]
    }
   ],
   "source": [
    "#数组的查询操作\n",
    "n=np.arange(1,11)\n",
    "print(n)\n",
    "\n",
    "n2=n[np.where(n>5)] # 数组中所有大于5的元素\n",
    "print(n2)\n",
    "\n",
    "n3=np.where(n>5,2,0) # 数组中的元素大于5，输出2,否则输出0\n",
    "print(n3)"
   ]
  },
  {
   "cell_type": "code",
   "execution_count": null,
   "metadata": {},
   "outputs": [],
   "source": []
  }
 ],
 "metadata": {
  "kernelspec": {
   "display_name": "Python 3",
   "language": "python",
   "name": "python3"
  },
  "language_info": {
   "codemirror_mode": {
    "name": "ipython",
    "version": 3
   },
   "file_extension": ".py",
   "mimetype": "text/x-python",
   "name": "python",
   "nbconvert_exporter": "python",
   "pygments_lexer": "ipython3",
   "version": "3.7.6"
  }
 },
 "nbformat": 4,
 "nbformat_minor": 4
}
