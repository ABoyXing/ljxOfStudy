{
 "cells": [
  {
   "cell_type": "code",
   "execution_count": 4,
   "metadata": {},
   "outputs": [
    {
     "name": "stdout",
     "output_type": "stream",
     "text": [
      "[[5 6]\n",
      " [7 8]]\n",
      "[[5 6]\n",
      " [7 8]]\n",
      "<class 'numpy.matrix'> <class 'numpy.matrix'>\n",
      "<class 'numpy.ndarray'>\n"
     ]
    }
   ],
   "source": [
    "import numpy as np\n",
    "a=np.mat('5 6;7 8') # 创建矩阵的方式\n",
    "print(a)\n",
    "\n",
    "b=np.mat([[5,6],[7,8]])\n",
    "print(b)\n",
    "\n",
    "print(type(a),type(b))\n",
    "\n",
    "n1=np.array([[5,6],[7,8]])\n",
    "print(type(n1))"
   ]
  },
  {
   "cell_type": "code",
   "execution_count": 5,
   "metadata": {},
   "outputs": [
    {
     "name": "stdout",
     "output_type": "stream",
     "text": [
      "[[0. 0. 0.]\n",
      " [0. 0. 0.]\n",
      " [0. 0. 0.]]\n"
     ]
    }
   ],
   "source": [
    "# 使用mat函数创建常见的矩阵\n",
    "#创建一个3*3的零矩阵\n",
    "d1=np.mat(np.zeros((3,3)))\n",
    "print(d1)"
   ]
  },
  {
   "cell_type": "code",
   "execution_count": 6,
   "metadata": {},
   "outputs": [
    {
     "name": "stdout",
     "output_type": "stream",
     "text": [
      "[[1. 1. 1. 1.]\n",
      " [1. 1. 1. 1.]]\n"
     ]
    }
   ],
   "source": [
    "# 创建一个2*4的1矩阵\n",
    "d2=np.mat(np.ones((2,4)))\n",
    "print(d2)"
   ]
  },
  {
   "cell_type": "code",
   "execution_count": 7,
   "metadata": {},
   "outputs": [
    {
     "name": "stdout",
     "output_type": "stream",
     "text": [
      "[[0.31778051 0.26456282 0.19043189]\n",
      " [0.04446189 0.24296307 0.6318717 ]\n",
      " [0.15619671 0.29178315 0.05843207]]\n"
     ]
    }
   ],
   "source": [
    "nd3=np.mat(np.random.rand(3,3)) # 0-1之间的随机数\n",
    "print(nd3)"
   ]
  },
  {
   "cell_type": "code",
   "execution_count": 8,
   "metadata": {},
   "outputs": [
    {
     "name": "stdout",
     "output_type": "stream",
     "text": [
      "[[4 7 7 3 1]\n",
      " [3 1 5 1 5]\n",
      " [3 2 6 2 2]]\n"
     ]
    }
   ],
   "source": [
    "#  1-8之间的随机数\n",
    "d4=np.mat(np.random.randint(1,8,size=(3,5)))\n",
    "print(d4)"
   ]
  },
  {
   "cell_type": "code",
   "execution_count": 10,
   "metadata": {},
   "outputs": [
    {
     "name": "stdout",
     "output_type": "stream",
     "text": [
      "[[1 0]\n",
      " [0 1]]\n",
      "[[1 0 0 0]\n",
      " [0 1 0 0]\n",
      " [0 0 1 0]\n",
      " [0 0 0 1]]\n"
     ]
    }
   ],
   "source": [
    "# 对角矩阵\n",
    "nd5=np.mat(np.eye(2,2),dtype=int)\n",
    "print(nd5)\n",
    "\n",
    "nd6=np.mat(np.eye(4,4),dtype=int)\n",
    "print(nd6)"
   ]
  },
  {
   "cell_type": "code",
   "execution_count": 11,
   "metadata": {},
   "outputs": [
    {
     "name": "stdout",
     "output_type": "stream",
     "text": [
      "[[1 0 0]\n",
      " [0 2 0]\n",
      " [0 0 3]]\n"
     ]
    }
   ],
   "source": [
    "# 对角线矩阵\n",
    "a=[1,2,3]\n",
    "data1=np.mat(np.diag(a))   # 对象线是1，2，3\n",
    "print(data1)"
   ]
  },
  {
   "cell_type": "code",
   "execution_count": 12,
   "metadata": {},
   "outputs": [
    {
     "name": "stdout",
     "output_type": "stream",
     "text": [
      "[[7 0 0]\n",
      " [0 8 0]\n",
      " [0 0 9]]\n"
     ]
    }
   ],
   "source": [
    "b=[7,8,9]\n",
    "data1=np.mat(np.diag(b))   # 对象线是7，8，9\n",
    "print(data1)"
   ]
  },
  {
   "cell_type": "code",
   "execution_count": null,
   "metadata": {},
   "outputs": [],
   "source": []
  }
 ],
 "metadata": {
  "kernelspec": {
   "display_name": "Python 3",
   "language": "python",
   "name": "python3"
  },
  "language_info": {
   "codemirror_mode": {
    "name": "ipython",
    "version": 3
   },
   "file_extension": ".py",
   "mimetype": "text/x-python",
   "name": "python",
   "nbconvert_exporter": "python",
   "pygments_lexer": "ipython3",
   "version": "3.7.6"
  }
 },
 "nbformat": 4,
 "nbformat_minor": 4
}
