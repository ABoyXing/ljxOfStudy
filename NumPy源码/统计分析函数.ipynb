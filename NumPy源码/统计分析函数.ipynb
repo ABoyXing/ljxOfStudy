{
 "cells": [
  {
   "cell_type": "code",
   "execution_count": 4,
   "metadata": {},
   "outputs": [
    {
     "name": "stdout",
     "output_type": "stream",
     "text": [
      "[[1 2 3]\n",
      " [4 5 6]\n",
      " [7 8 9]]\n",
      "45\n",
      "[12 15 18]\n",
      "[ 6 15 24]\n"
     ]
    }
   ],
   "source": [
    "#\n",
    "import numpy as np\n",
    "n=np.array([[1,2,3],[4,5,6],[7,8,9]])\n",
    "print(n)\n",
    "print(n.sum()) #整个数组求和\n",
    "\n",
    "#数组元素行的和\n",
    "print(n.sum(axis=0))\n",
    "\n",
    "#数组元素列的和\n",
    "print(n.sum(axis=1))"
   ]
  },
  {
   "cell_type": "code",
   "execution_count": 7,
   "metadata": {},
   "outputs": [
    {
     "name": "stdout",
     "output_type": "stream",
     "text": [
      "5.0\n",
      "行的平均值\n",
      "[4. 5. 6.]\n",
      "列的平均值\n",
      "[2. 5. 8.]\n"
     ]
    }
   ],
   "source": [
    "#平均值\n",
    "print(n.mean())\n",
    "\n",
    "print('行的平均值')\n",
    "print(n.mean(axis=0))\n",
    "\n",
    "print('列的平均值')\n",
    "print(n.mean(axis=1))"
   ]
  },
  {
   "cell_type": "code",
   "execution_count": 9,
   "metadata": {},
   "outputs": [
    {
     "name": "stdout",
     "output_type": "stream",
     "text": [
      "9\n",
      "行的最大值 [7 8 9]\n",
      "列的最大值 [3 6 9]\n",
      "1\n",
      "行的最小值 [1 2 3]\n",
      "列的最小值 [1 4 7]\n"
     ]
    }
   ],
   "source": [
    "# 数组中的最大值和最小值\n",
    "print(n.max())\n",
    "\n",
    "print('行的最大值',n.max(axis=0))\n",
    "\n",
    "print('列的最大值',n.max(axis=1))\n",
    "print(n.min())\n",
    "\n",
    "\n",
    "print('行的最小值',n.min(axis=0))\n",
    "\n",
    "print('列的最小值',n.min(axis=1))"
   ]
  },
  {
   "cell_type": "code",
   "execution_count": 10,
   "metadata": {},
   "outputs": [
    {
     "name": "stdout",
     "output_type": "stream",
     "text": [
      "3.6666666666666665\n"
     ]
    }
   ],
   "source": [
    "#加权平均\n",
    "# 一组数据与出现的次数相乘再平均计算，加权平均\n",
    "n1=np.array([1,2,3,4,5])  # 数组中的数据\n",
    "n2=np.array([10,20,30,40,50]) # n2表示的是n1数组中数据出现的次数\n",
    "print(np.average(n1,weights=n2))  # (1*10+2*20+3*30+4*40+5*50)/(10+20+30+40+50)\n"
   ]
  },
  {
   "cell_type": "code",
   "execution_count": 12,
   "metadata": {},
   "outputs": [
    {
     "name": "stdout",
     "output_type": "stream",
     "text": [
      "3.5\n",
      "3.5\n"
     ]
    }
   ],
   "source": [
    "#中位数  (前掉是数组有序)\n",
    "n1=np.array([1,2,3,4,5,6]) #(3+4)/2\n",
    "print(np.median(n1))\n",
    "\n",
    "n1=np.array([1,2,3,4,5,288])\n",
    "print(np.median(n1))"
   ]
  },
  {
   "cell_type": "code",
   "execution_count": 14,
   "metadata": {},
   "outputs": [
    {
     "name": "stdout",
     "output_type": "stream",
     "text": [
      "0.6666666666666666\n",
      "0.816496580927726\n"
     ]
    }
   ],
   "source": [
    "#方差  :各组数据与它们的平均数的差的平方\n",
    "\n",
    "n=np.array([1,2,3])  # 平均数为2  ，（1-2）=-1   （2-2）=0  （3-2)=1\n",
    "print(n.var())\n",
    " \n",
    "#标准差 :均方差，方差的平方根\n",
    "print(n.std())"
   ]
  },
  {
   "cell_type": "code",
   "execution_count": null,
   "metadata": {},
   "outputs": [],
   "source": []
  }
 ],
 "metadata": {
  "kernelspec": {
   "display_name": "Python 3",
   "language": "python",
   "name": "python3"
  },
  "language_info": {
   "codemirror_mode": {
    "name": "ipython",
    "version": 3
   },
   "file_extension": ".py",
   "mimetype": "text/x-python",
   "name": "python",
   "nbconvert_exporter": "python",
   "pygments_lexer": "ipython3",
   "version": "3.7.6"
  }
 },
 "nbformat": 4,
 "nbformat_minor": 4
}
