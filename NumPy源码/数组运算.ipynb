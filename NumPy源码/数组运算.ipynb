{
 "cells": [
  {
   "cell_type": "code",
   "metadata": {
    "ExecuteTime": {
     "end_time": "2024-10-09T12:18:11.481850Z",
     "start_time": "2024-10-09T12:18:11.271981Z"
    }
   },
   "source": [
    "import numpy as np\n",
    "n1=np.array([1,2])\n",
    "n2=np.array([3,4])\n",
    "print(n1)\n",
    "print(n2)\n",
    "# 数组运算\n",
    "print('加法运算',n1+n2)\n",
    "print('减法运算',n1-n2)\n",
    "print('乘法运算',n1*n2)\n",
    "print('除法运算',n1/n2)\n",
    "print('幂运算',n1**n2)\n",
    "print('比较运算',n1>n2)\n",
    "print('比较运算',n1<n2)\n",
    "print('比较运算',n1!=n2)"
   ],
   "outputs": [
    {
     "name": "stdout",
     "output_type": "stream",
     "text": [
      "[1 2]\n",
      "[3 4]\n",
      "加法运算 [4 6]\n",
      "减法运算 [-2 -2]\n",
      "乘法运算 [3 8]\n",
      "除法运算 [0.33333333 0.5       ]\n",
      "幂运算 [ 1 16]\n",
      "比较运算 [False False]\n",
      "比较运算 [ True  True]\n",
      "比较运算 [ True  True]\n"
     ]
    }
   ],
   "execution_count": 2
  },
  {
   "cell_type": "code",
   "execution_count": 24,
   "metadata": {},
   "outputs": [
    {
     "name": "stdout",
     "output_type": "stream",
     "text": [
      "1\n",
      "1\n"
     ]
    }
   ],
   "source": [
    "# 数组中的索引\n",
    "n=np.array([1,2,3,4])\n",
    "print(n[0])\n",
    "print(n[-4])"
   ]
  },
  {
   "cell_type": "code",
   "metadata": {
    "scrolled": true,
    "ExecuteTime": {
     "end_time": "2024-10-09T12:18:16.707981Z",
     "start_time": "2024-10-09T12:18:16.693978Z"
    }
   },
   "source": [
    "n=np.array([[1,2,3,4],[5,6,7,8]])\n",
    "print(n)\n",
    "print(n[1][2])\n",
    "print(n[1,2]) # \n",
    "print(n[1])\n",
    "print(n[-1])"
   ],
   "outputs": [
    {
     "name": "stdout",
     "output_type": "stream",
     "text": [
      "[[1 2 3 4]\n",
      " [5 6 7 8]]\n",
      "7\n",
      "7\n",
      "[5 6 7 8]\n",
      "[5 6 7 8]\n"
     ]
    }
   ],
   "execution_count": 3
  },
  {
   "cell_type": "code",
   "execution_count": null,
   "metadata": {},
   "outputs": [],
   "source": []
  },
  {
   "cell_type": "code",
   "execution_count": null,
   "metadata": {},
   "outputs": [],
   "source": []
  }
 ],
 "metadata": {
  "kernelspec": {
   "display_name": "Python 3",
   "language": "python",
   "name": "python3"
  },
  "language_info": {
   "codemirror_mode": {
    "name": "ipython",
    "version": 3
   },
   "file_extension": ".py",
   "mimetype": "text/x-python",
   "name": "python",
   "nbconvert_exporter": "python",
   "pygments_lexer": "ipython3",
   "version": "3.7.6"
  }
 },
 "nbformat": 4,
 "nbformat_minor": 4
}
