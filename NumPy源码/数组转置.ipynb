{
 "cells": [
  {
   "cell_type": "code",
   "execution_count": 5,
   "metadata": {},
   "outputs": [
    {
     "name": "stdout",
     "output_type": "stream",
     "text": [
      "[[ 0  1  2  3  4  5]\n",
      " [ 6  7  8  9 10 11]\n",
      " [12 13 14 15 16 17]\n",
      " [18 19 20 21 22 23]]\n",
      "[[ 0  6 12 18]\n",
      " [ 1  7 13 19]\n",
      " [ 2  8 14 20]\n",
      " [ 3  9 15 21]\n",
      " [ 4 10 16 22]\n",
      " [ 5 11 17 23]]\n",
      "[[ 0  6 12 18]\n",
      " [ 1  7 13 19]\n",
      " [ 2  8 14 20]\n",
      " [ 3  9 15 21]\n",
      " [ 4 10 16 22]\n",
      " [ 5 11 17 23]]\n"
     ]
    }
   ],
   "source": [
    "import numpy as np\n",
    "n=np.arange(24).reshape(4,6)\n",
    "print(n)\n",
    "# 转置\n",
    "n2=n.T\n",
    "print(n2)\n",
    "\n",
    "# 转置\n",
    "n3=n.transpose()\n",
    "print(n3)"
   ]
  },
  {
   "cell_type": "code",
   "execution_count": 8,
   "metadata": {},
   "outputs": [
    {
     "name": "stdout",
     "output_type": "stream",
     "text": [
      "[['A' '100']\n",
      " ['B' '200']\n",
      " ['C' '300']\n",
      " ['D' '400']\n",
      " ['E' '500']]\n",
      "[['A' 'B' 'C' 'D' 'E']\n",
      " ['100' '200' '300' '400' '500']]\n"
     ]
    }
   ],
   "source": [
    "#转置练习\n",
    "n=np.array([['A',100],['B',200],['C',300],['D',400],['E',500]])\n",
    "print(n)\n",
    "\n",
    "newa=n.T\n",
    "print(newa)"
   ]
  },
  {
   "cell_type": "code",
   "execution_count": null,
   "metadata": {},
   "outputs": [],
   "source": []
  }
 ],
 "metadata": {
  "kernelspec": {
   "display_name": "Python 3",
   "language": "python",
   "name": "python3"
  },
  "language_info": {
   "codemirror_mode": {
    "name": "ipython",
    "version": 3
   },
   "file_extension": ".py",
   "mimetype": "text/x-python",
   "name": "python",
   "nbconvert_exporter": "python",
   "pygments_lexer": "ipython3",
   "version": "3.7.6"
  }
 },
 "nbformat": 4,
 "nbformat_minor": 4
}
