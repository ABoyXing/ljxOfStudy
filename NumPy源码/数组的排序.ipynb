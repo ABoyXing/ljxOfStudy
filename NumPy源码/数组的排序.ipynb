{
 "cells": [
  {
   "cell_type": "code",
   "execution_count": 1,
   "metadata": {},
   "outputs": [
    {
     "name": "stdout",
     "output_type": "stream",
     "text": [
      "[[4 7 3]\n",
      " [2 8 5]\n",
      " [9 1 6]]\n"
     ]
    }
   ],
   "source": [
    "#数组的排序\n",
    "import numpy as np\n",
    "n=np.array([[4,7,3],[2,8,5],[9,1,6]])\n",
    "print(n)"
   ]
  },
  {
   "cell_type": "code",
   "execution_count": 2,
   "metadata": {},
   "outputs": [
    {
     "name": "stdout",
     "output_type": "stream",
     "text": [
      "数组排序 [[3 4 7]\n",
      " [2 5 8]\n",
      " [1 6 9]]\n"
     ]
    }
   ],
   "source": [
    "print('数组排序',np.sort(n))"
   ]
  },
  {
   "cell_type": "code",
   "execution_count": 3,
   "metadata": {},
   "outputs": [
    {
     "name": "stdout",
     "output_type": "stream",
     "text": [
      "[[2 1 3]\n",
      " [4 7 5]\n",
      " [9 8 6]]\n"
     ]
    }
   ],
   "source": [
    "#按行排序\n",
    "print(np.sort(n,axis=0))"
   ]
  },
  {
   "cell_type": "code",
   "execution_count": 5,
   "metadata": {},
   "outputs": [
    {
     "name": "stdout",
     "output_type": "stream",
     "text": [
      "[[3 4 7]\n",
      " [2 5 8]\n",
      " [1 6 9]]\n"
     ]
    }
   ],
   "source": [
    "#按列排序\n",
    "print(np.sort(n,axis=1))"
   ]
  },
  {
   "cell_type": "code",
   "execution_count": 7,
   "metadata": {},
   "outputs": [
    {
     "name": "stdout",
     "output_type": "stream",
     "text": [
      "[5 4 2 3 1 6 7 0]\n",
      "[1 2 3 4 5 6 8 9]\n"
     ]
    }
   ],
   "source": [
    "#argsort()排序\n",
    "x=np.array([9,5,3,4,2,1,6,8])\n",
    "#排序\n",
    "y=np.argsort(x)\n",
    "print(y)\n",
    "#排序后的重构数组\n",
    "print(x[y])"
   ]
  },
  {
   "cell_type": "code",
   "execution_count": 9,
   "metadata": {},
   "outputs": [
    {
     "name": "stdout",
     "output_type": "stream",
     "text": [
      "[4 5 3 2 0 1]\n",
      "[[615 118  98]\n",
      " [615 118 109]\n",
      " [620 108 108]\n",
      " [620 115 118]\n",
      " [621 101 117]\n",
      " [623 109 105]]\n"
     ]
    }
   ],
   "source": [
    "#lexsort()排序\n",
    "math=np.array([101,109,115,108,118,118]) # 数学成绩\n",
    "\n",
    "en=np.array([117,105,118,108,98,109]) # 英语成绩\n",
    "\n",
    "total=np.array([621,623,620,620,615,615]) # 总成绩\n",
    "\n",
    "#排序\n",
    "sort_total=np.lexsort((en,math,total)) # 排序的顺序  总-->数学-->英语\n",
    "\n",
    "print(sort_total) # 排序后的索引值\n",
    "\n",
    "lst=[  [total[i],math[i],en[i]   ]for i in sort_total]\n",
    "\n",
    "n=np.array(lst)\n",
    "print(n)"
   ]
  },
  {
   "cell_type": "code",
   "execution_count": null,
   "metadata": {},
   "outputs": [],
   "source": []
  }
 ],
 "metadata": {
  "kernelspec": {
   "display_name": "Python 3",
   "language": "python",
   "name": "python3"
  },
  "language_info": {
   "codemirror_mode": {
    "name": "ipython",
    "version": 3
   },
   "file_extension": ".py",
   "mimetype": "text/x-python",
   "name": "python",
   "nbconvert_exporter": "python",
   "pygments_lexer": "ipython3",
   "version": "3.7.6"
  }
 },
 "nbformat": 4,
 "nbformat_minor": 4
}
